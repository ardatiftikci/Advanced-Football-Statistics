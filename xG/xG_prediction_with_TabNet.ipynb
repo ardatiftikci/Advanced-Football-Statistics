{
  "cells": [
    {
      "cell_type": "markdown",
      "source": [
        "## Imports"
      ],
      "metadata": {
        "id": "G-7GhKIfl7ei"
      },
      "id": "G-7GhKIfl7ei"
    },
    {
      "cell_type": "code",
      "execution_count": null,
      "id": "blond-success",
      "metadata": {
        "id": "blond-success"
      },
      "outputs": [],
      "source": [
        "import torch\n",
        "import numpy as np\n",
        "import matplotlib.pyplot as plt\n",
        "import pandas as pd\n",
        "import numpy as np\n",
        "from torch.utils.data import Dataset, DataLoader\n",
        "from torch import nn\n",
        "from torch.nn import functional as F\n",
        "!pip install pytorch_tabnet\n",
        "from pytorch_tabnet.tab_model import TabNetClassifier\n",
        "import os\n",
        "from sklearn.preprocessing import LabelEncoder\n",
        "from sklearn.metrics import accuracy_score, precision_score, recall_score, roc_auc_score, confusion_matrix, ConfusionMatrixDisplay\n",
        "from sklearn.model_selection import train_test_split\n",
        "import seaborn as sns\n",
        "from pathlib import Path\n",
        "%matplotlib inline\n",
        "!pip install Google-Colab-Transfer\n",
        "import colab_transfer\n",
        "colab_transfer.mount_google_drive()"
      ]
    },
    {
      "cell_type": "markdown",
      "source": [
        "## Prepare Training Data and the Nature of the Data\n",
        "\n",
        "You can obtain your shot dataset and read it here by changing the given path.\n",
        "You can see the first 5 lines of the dataset and properties of features."
      ],
      "metadata": {
        "id": "gBAKnVTGmEvK"
      },
      "id": "gBAKnVTGmEvK"
    },
    {
      "cell_type": "code",
      "source": [
        "project_dir = \"/content/drive/MyDrive/xG Project/\""
      ],
      "metadata": {
        "id": "OTH7Bx8kJbHW"
      },
      "id": "OTH7Bx8kJbHW",
      "execution_count": 2,
      "outputs": []
    },
    {
      "cell_type": "code",
      "execution_count": 5,
      "id": "continent-olympus",
      "metadata": {
        "id": "continent-olympus"
      },
      "outputs": [],
      "source": [
        "dataset = pd.read_csv(project_dir+\"shoot_dataset.csv\")"
      ]
    },
    {
      "cell_type": "code",
      "source": [
        "dataset.head()"
      ],
      "metadata": {
        "colab": {
          "base_uri": "https://localhost:8080/",
          "height": 206
        },
        "id": "IRUjsQ2QATYo",
        "outputId": "e847b712-179a-4071-8cb5-86a7e09217ac"
      },
      "id": "IRUjsQ2QATYo",
      "execution_count": 6,
      "outputs": [
        {
          "output_type": "execute_result",
          "data": {
            "text/plain": [
              "    Situation LastAction  X-Coordinate  Y-Coordinate    ShotType       Result  \\\n",
              "0    OpenPlay     Aerial         0.876         0.602        Head  BlockedShot   \n",
              "1    OpenPlay      Cross         0.878         0.430        Head  MissedShots   \n",
              "2    OpenPlay       Pass         0.858         0.679  StrongFoot  MissedShots   \n",
              "3    OpenPlay     TakeOn         0.831         0.655  StrongFoot  MissedShots   \n",
              "4  FromCorner      Cross         0.943         0.500        Head  MissedShots   \n",
              "\n",
              "         xG  \n",
              "0  0.019479  \n",
              "1  0.031428  \n",
              "2  0.060696  \n",
              "3  0.127710  \n",
              "4  0.445354  "
            ],
            "text/html": [
              "\n",
              "  <div id=\"df-07678d93-bb0f-4d8d-a5d8-b7e78ad17091\">\n",
              "    <div class=\"colab-df-container\">\n",
              "      <div>\n",
              "<style scoped>\n",
              "    .dataframe tbody tr th:only-of-type {\n",
              "        vertical-align: middle;\n",
              "    }\n",
              "\n",
              "    .dataframe tbody tr th {\n",
              "        vertical-align: top;\n",
              "    }\n",
              "\n",
              "    .dataframe thead th {\n",
              "        text-align: right;\n",
              "    }\n",
              "</style>\n",
              "<table border=\"1\" class=\"dataframe\">\n",
              "  <thead>\n",
              "    <tr style=\"text-align: right;\">\n",
              "      <th></th>\n",
              "      <th>Situation</th>\n",
              "      <th>LastAction</th>\n",
              "      <th>X-Coordinate</th>\n",
              "      <th>Y-Coordinate</th>\n",
              "      <th>ShotType</th>\n",
              "      <th>Result</th>\n",
              "      <th>xG</th>\n",
              "    </tr>\n",
              "  </thead>\n",
              "  <tbody>\n",
              "    <tr>\n",
              "      <th>0</th>\n",
              "      <td>OpenPlay</td>\n",
              "      <td>Aerial</td>\n",
              "      <td>0.876</td>\n",
              "      <td>0.602</td>\n",
              "      <td>Head</td>\n",
              "      <td>BlockedShot</td>\n",
              "      <td>0.019479</td>\n",
              "    </tr>\n",
              "    <tr>\n",
              "      <th>1</th>\n",
              "      <td>OpenPlay</td>\n",
              "      <td>Cross</td>\n",
              "      <td>0.878</td>\n",
              "      <td>0.430</td>\n",
              "      <td>Head</td>\n",
              "      <td>MissedShots</td>\n",
              "      <td>0.031428</td>\n",
              "    </tr>\n",
              "    <tr>\n",
              "      <th>2</th>\n",
              "      <td>OpenPlay</td>\n",
              "      <td>Pass</td>\n",
              "      <td>0.858</td>\n",
              "      <td>0.679</td>\n",
              "      <td>StrongFoot</td>\n",
              "      <td>MissedShots</td>\n",
              "      <td>0.060696</td>\n",
              "    </tr>\n",
              "    <tr>\n",
              "      <th>3</th>\n",
              "      <td>OpenPlay</td>\n",
              "      <td>TakeOn</td>\n",
              "      <td>0.831</td>\n",
              "      <td>0.655</td>\n",
              "      <td>StrongFoot</td>\n",
              "      <td>MissedShots</td>\n",
              "      <td>0.127710</td>\n",
              "    </tr>\n",
              "    <tr>\n",
              "      <th>4</th>\n",
              "      <td>FromCorner</td>\n",
              "      <td>Cross</td>\n",
              "      <td>0.943</td>\n",
              "      <td>0.500</td>\n",
              "      <td>Head</td>\n",
              "      <td>MissedShots</td>\n",
              "      <td>0.445354</td>\n",
              "    </tr>\n",
              "  </tbody>\n",
              "</table>\n",
              "</div>\n",
              "      <button class=\"colab-df-convert\" onclick=\"convertToInteractive('df-07678d93-bb0f-4d8d-a5d8-b7e78ad17091')\"\n",
              "              title=\"Convert this dataframe to an interactive table.\"\n",
              "              style=\"display:none;\">\n",
              "        \n",
              "  <svg xmlns=\"http://www.w3.org/2000/svg\" height=\"24px\"viewBox=\"0 0 24 24\"\n",
              "       width=\"24px\">\n",
              "    <path d=\"M0 0h24v24H0V0z\" fill=\"none\"/>\n",
              "    <path d=\"M18.56 5.44l.94 2.06.94-2.06 2.06-.94-2.06-.94-.94-2.06-.94 2.06-2.06.94zm-11 1L8.5 8.5l.94-2.06 2.06-.94-2.06-.94L8.5 2.5l-.94 2.06-2.06.94zm10 10l.94 2.06.94-2.06 2.06-.94-2.06-.94-.94-2.06-.94 2.06-2.06.94z\"/><path d=\"M17.41 7.96l-1.37-1.37c-.4-.4-.92-.59-1.43-.59-.52 0-1.04.2-1.43.59L10.3 9.45l-7.72 7.72c-.78.78-.78 2.05 0 2.83L4 21.41c.39.39.9.59 1.41.59.51 0 1.02-.2 1.41-.59l7.78-7.78 2.81-2.81c.8-.78.8-2.07 0-2.86zM5.41 20L4 18.59l7.72-7.72 1.47 1.35L5.41 20z\"/>\n",
              "  </svg>\n",
              "      </button>\n",
              "      \n",
              "  <style>\n",
              "    .colab-df-container {\n",
              "      display:flex;\n",
              "      flex-wrap:wrap;\n",
              "      gap: 12px;\n",
              "    }\n",
              "\n",
              "    .colab-df-convert {\n",
              "      background-color: #E8F0FE;\n",
              "      border: none;\n",
              "      border-radius: 50%;\n",
              "      cursor: pointer;\n",
              "      display: none;\n",
              "      fill: #1967D2;\n",
              "      height: 32px;\n",
              "      padding: 0 0 0 0;\n",
              "      width: 32px;\n",
              "    }\n",
              "\n",
              "    .colab-df-convert:hover {\n",
              "      background-color: #E2EBFA;\n",
              "      box-shadow: 0px 1px 2px rgba(60, 64, 67, 0.3), 0px 1px 3px 1px rgba(60, 64, 67, 0.15);\n",
              "      fill: #174EA6;\n",
              "    }\n",
              "\n",
              "    [theme=dark] .colab-df-convert {\n",
              "      background-color: #3B4455;\n",
              "      fill: #D2E3FC;\n",
              "    }\n",
              "\n",
              "    [theme=dark] .colab-df-convert:hover {\n",
              "      background-color: #434B5C;\n",
              "      box-shadow: 0px 1px 3px 1px rgba(0, 0, 0, 0.15);\n",
              "      filter: drop-shadow(0px 1px 2px rgba(0, 0, 0, 0.3));\n",
              "      fill: #FFFFFF;\n",
              "    }\n",
              "  </style>\n",
              "\n",
              "      <script>\n",
              "        const buttonEl =\n",
              "          document.querySelector('#df-07678d93-bb0f-4d8d-a5d8-b7e78ad17091 button.colab-df-convert');\n",
              "        buttonEl.style.display =\n",
              "          google.colab.kernel.accessAllowed ? 'block' : 'none';\n",
              "\n",
              "        async function convertToInteractive(key) {\n",
              "          const element = document.querySelector('#df-07678d93-bb0f-4d8d-a5d8-b7e78ad17091');\n",
              "          const dataTable =\n",
              "            await google.colab.kernel.invokeFunction('convertToInteractive',\n",
              "                                                     [key], {});\n",
              "          if (!dataTable) return;\n",
              "\n",
              "          const docLinkHtml = 'Like what you see? Visit the ' +\n",
              "            '<a target=\"_blank\" href=https://colab.research.google.com/notebooks/data_table.ipynb>data table notebook</a>'\n",
              "            + ' to learn more about interactive tables.';\n",
              "          element.innerHTML = '';\n",
              "          dataTable['output_type'] = 'display_data';\n",
              "          await google.colab.output.renderOutput(dataTable, element);\n",
              "          const docLink = document.createElement('div');\n",
              "          docLink.innerHTML = docLinkHtml;\n",
              "          element.appendChild(docLink);\n",
              "        }\n",
              "      </script>\n",
              "    </div>\n",
              "  </div>\n",
              "  "
            ]
          },
          "metadata": {},
          "execution_count": 6
        }
      ]
    },
    {
      "cell_type": "markdown",
      "source": [
        "You can see the meanings and properties of features below.\n",
        "\n",
        "\n",
        "**Situation:** It shows the origin of the position. \n",
        "\n",
        "The possible values for this features are \"OpenPlay\", \"FromCorner\", \"SetPiece\", \"Penalty\", \"DirectFreekick\". \n",
        "\n",
        "Here \"SetPiece\" refers to any organization after a free kick and \"DirectFreekick\" refers to freekicks that are directly aimed to the goal.\n",
        "\n",
        "**LastAction:** It shows the last action taken before the shot.\n",
        "\n",
        "The possible values for this features are \"Aerial\", \"Cross\", \"Pass\", \"TakeOn\", \"Chipped\", \"SetPiece\", \"BallTouch\", \"BallRecovery\", \"None\", \"HeadPass\", \"LayOff\", \"Rebound\", \"Throughball\".\n",
        "\n",
        "**X-Coordinate:** It shows the normalized x coordinate of the place in the pitch where shot is taken. Let say there is a shot of Team A against Team B. It takes 0 if the shot is taken from exactly the goal line of Team B and it takes 1 if the shot is taken from exactly the goal line of Team A.\n",
        "\n",
        "**Y-Coordinate:** It shows the normalized y coordinate of the place in the pitch where shot is taken. Let say there is a shot of Team A against Team B. It takes 0 if the shot is taken from exactly the touchline that is at the left of the goal of Team B and it takes 1 if the shot is taken from the touchline that is at the right of the goal of Team B. Trivially, penalties have exactly y=0.5.\n",
        "\n",
        "**ShotType:** It shows the type of the shot according to stronger foot of the footballer.\n",
        "\n",
        "The possible values for this features are \"Head\", \"StrongFoot\", \"WeakFoot\", \"OtherBodyPart\".\n",
        "\n",
        "**Result:** It shows the result of the shot. Note that I just used it for label information, whether the shot results in a goal or not. It is not included in training data since it is highly correlated to prediction and I think including it as a feature is not in line with the philosophy of xG.\n",
        "\n",
        "The possible values for this features are \"BlockedShot\", \"MissedShots\", \"Goal\", \"SavedShot\", \"ShotOnPost\".\n",
        "\n",
        "**xG:** It is the xG value of the shot calculated by the authors of the dataset. I used it for comparison."
      ],
      "metadata": {
        "id": "8vF7p6g-miTL"
      },
      "id": "8vF7p6g-miTL"
    },
    {
      "cell_type": "code",
      "source": [
        "categorical_features = [\"Situation\", \"LastAction\", \"ShotType\", \"Result\"]\n",
        "\n",
        "for feature in categorical_features:\n",
        "  print(f\"The possible values for the feature {feature} : {dataset[feature].unique()}\")"
      ],
      "metadata": {
        "colab": {
          "base_uri": "https://localhost:8080/"
        },
        "id": "a8bJseHNAZrH",
        "outputId": "0f9c786f-bb8c-4da3-9fce-0915b01d5e9b"
      },
      "id": "a8bJseHNAZrH",
      "execution_count": 8,
      "outputs": [
        {
          "output_type": "stream",
          "name": "stdout",
          "text": [
            "The possible values for the feature Situation : ['OpenPlay' 'FromCorner' 'SetPiece' 'Penalty' 'DirectFreekick']\n",
            "The possible values for the feature LastAction : ['Aerial' 'Cross' 'Pass' 'TakeOn' 'Chipped' 'SetPiece' 'BallTouch'\n",
            " 'BallRecovery' 'None' 'HeadPass' 'LayOff' 'Rebound' 'Throughball']\n",
            "The possible values for the feature ShotType : ['Head' 'StrongFoot' 'WeakFoot' 'OtherBodyPart']\n",
            "The possible values for the feature Result : ['BlockedShot' 'MissedShots' 'Goal' 'SavedShot' 'ShotOnPost']\n"
          ]
        }
      ]
    },
    {
      "cell_type": "code",
      "execution_count": 10,
      "id": "ambient-version",
      "metadata": {
        "id": "ambient-version"
      },
      "outputs": [],
      "source": [
        "y = np.array([1 if result == 'Goal' else 0 for result in dataset['Result']])\n",
        "xG_values = dataset['xG']"
      ]
    },
    {
      "cell_type": "markdown",
      "source": [
        "I dropped the features xG and Result. Then, I splitted the training set into training, validation and test sets."
      ],
      "metadata": {
        "id": "kmPbp72dsqAY"
      },
      "id": "kmPbp72dsqAY"
    },
    {
      "cell_type": "code",
      "execution_count": 12,
      "id": "square-metadata",
      "metadata": {
        "id": "square-metadata"
      },
      "outputs": [],
      "source": [
        "train = dataset.copy()\n",
        "train = train.drop('xG', axis=1)\n",
        "train = train.drop('Result', axis=1)"
      ]
    },
    {
      "cell_type": "code",
      "source": [
        "train.head()"
      ],
      "metadata": {
        "colab": {
          "base_uri": "https://localhost:8080/",
          "height": 206
        },
        "id": "4oRNbQ1fsmvk",
        "outputId": "435c1208-e623-404b-d962-7f407d0cd36e"
      },
      "id": "4oRNbQ1fsmvk",
      "execution_count": 15,
      "outputs": [
        {
          "output_type": "execute_result",
          "data": {
            "text/plain": [
              "    Situation LastAction  X-Coordinate  Y-Coordinate    ShotType\n",
              "0    OpenPlay     Aerial         0.876         0.602        Head\n",
              "1    OpenPlay      Cross         0.878         0.430        Head\n",
              "2    OpenPlay       Pass         0.858         0.679  StrongFoot\n",
              "3    OpenPlay     TakeOn         0.831         0.655  StrongFoot\n",
              "4  FromCorner      Cross         0.943         0.500        Head"
            ],
            "text/html": [
              "\n",
              "  <div id=\"df-7e0f0629-a874-41f6-ae29-22b246b69803\">\n",
              "    <div class=\"colab-df-container\">\n",
              "      <div>\n",
              "<style scoped>\n",
              "    .dataframe tbody tr th:only-of-type {\n",
              "        vertical-align: middle;\n",
              "    }\n",
              "\n",
              "    .dataframe tbody tr th {\n",
              "        vertical-align: top;\n",
              "    }\n",
              "\n",
              "    .dataframe thead th {\n",
              "        text-align: right;\n",
              "    }\n",
              "</style>\n",
              "<table border=\"1\" class=\"dataframe\">\n",
              "  <thead>\n",
              "    <tr style=\"text-align: right;\">\n",
              "      <th></th>\n",
              "      <th>Situation</th>\n",
              "      <th>LastAction</th>\n",
              "      <th>X-Coordinate</th>\n",
              "      <th>Y-Coordinate</th>\n",
              "      <th>ShotType</th>\n",
              "    </tr>\n",
              "  </thead>\n",
              "  <tbody>\n",
              "    <tr>\n",
              "      <th>0</th>\n",
              "      <td>OpenPlay</td>\n",
              "      <td>Aerial</td>\n",
              "      <td>0.876</td>\n",
              "      <td>0.602</td>\n",
              "      <td>Head</td>\n",
              "    </tr>\n",
              "    <tr>\n",
              "      <th>1</th>\n",
              "      <td>OpenPlay</td>\n",
              "      <td>Cross</td>\n",
              "      <td>0.878</td>\n",
              "      <td>0.430</td>\n",
              "      <td>Head</td>\n",
              "    </tr>\n",
              "    <tr>\n",
              "      <th>2</th>\n",
              "      <td>OpenPlay</td>\n",
              "      <td>Pass</td>\n",
              "      <td>0.858</td>\n",
              "      <td>0.679</td>\n",
              "      <td>StrongFoot</td>\n",
              "    </tr>\n",
              "    <tr>\n",
              "      <th>3</th>\n",
              "      <td>OpenPlay</td>\n",
              "      <td>TakeOn</td>\n",
              "      <td>0.831</td>\n",
              "      <td>0.655</td>\n",
              "      <td>StrongFoot</td>\n",
              "    </tr>\n",
              "    <tr>\n",
              "      <th>4</th>\n",
              "      <td>FromCorner</td>\n",
              "      <td>Cross</td>\n",
              "      <td>0.943</td>\n",
              "      <td>0.500</td>\n",
              "      <td>Head</td>\n",
              "    </tr>\n",
              "  </tbody>\n",
              "</table>\n",
              "</div>\n",
              "      <button class=\"colab-df-convert\" onclick=\"convertToInteractive('df-7e0f0629-a874-41f6-ae29-22b246b69803')\"\n",
              "              title=\"Convert this dataframe to an interactive table.\"\n",
              "              style=\"display:none;\">\n",
              "        \n",
              "  <svg xmlns=\"http://www.w3.org/2000/svg\" height=\"24px\"viewBox=\"0 0 24 24\"\n",
              "       width=\"24px\">\n",
              "    <path d=\"M0 0h24v24H0V0z\" fill=\"none\"/>\n",
              "    <path d=\"M18.56 5.44l.94 2.06.94-2.06 2.06-.94-2.06-.94-.94-2.06-.94 2.06-2.06.94zm-11 1L8.5 8.5l.94-2.06 2.06-.94-2.06-.94L8.5 2.5l-.94 2.06-2.06.94zm10 10l.94 2.06.94-2.06 2.06-.94-2.06-.94-.94-2.06-.94 2.06-2.06.94z\"/><path d=\"M17.41 7.96l-1.37-1.37c-.4-.4-.92-.59-1.43-.59-.52 0-1.04.2-1.43.59L10.3 9.45l-7.72 7.72c-.78.78-.78 2.05 0 2.83L4 21.41c.39.39.9.59 1.41.59.51 0 1.02-.2 1.41-.59l7.78-7.78 2.81-2.81c.8-.78.8-2.07 0-2.86zM5.41 20L4 18.59l7.72-7.72 1.47 1.35L5.41 20z\"/>\n",
              "  </svg>\n",
              "      </button>\n",
              "      \n",
              "  <style>\n",
              "    .colab-df-container {\n",
              "      display:flex;\n",
              "      flex-wrap:wrap;\n",
              "      gap: 12px;\n",
              "    }\n",
              "\n",
              "    .colab-df-convert {\n",
              "      background-color: #E8F0FE;\n",
              "      border: none;\n",
              "      border-radius: 50%;\n",
              "      cursor: pointer;\n",
              "      display: none;\n",
              "      fill: #1967D2;\n",
              "      height: 32px;\n",
              "      padding: 0 0 0 0;\n",
              "      width: 32px;\n",
              "    }\n",
              "\n",
              "    .colab-df-convert:hover {\n",
              "      background-color: #E2EBFA;\n",
              "      box-shadow: 0px 1px 2px rgba(60, 64, 67, 0.3), 0px 1px 3px 1px rgba(60, 64, 67, 0.15);\n",
              "      fill: #174EA6;\n",
              "    }\n",
              "\n",
              "    [theme=dark] .colab-df-convert {\n",
              "      background-color: #3B4455;\n",
              "      fill: #D2E3FC;\n",
              "    }\n",
              "\n",
              "    [theme=dark] .colab-df-convert:hover {\n",
              "      background-color: #434B5C;\n",
              "      box-shadow: 0px 1px 3px 1px rgba(0, 0, 0, 0.15);\n",
              "      filter: drop-shadow(0px 1px 2px rgba(0, 0, 0, 0.3));\n",
              "      fill: #FFFFFF;\n",
              "    }\n",
              "  </style>\n",
              "\n",
              "      <script>\n",
              "        const buttonEl =\n",
              "          document.querySelector('#df-7e0f0629-a874-41f6-ae29-22b246b69803 button.colab-df-convert');\n",
              "        buttonEl.style.display =\n",
              "          google.colab.kernel.accessAllowed ? 'block' : 'none';\n",
              "\n",
              "        async function convertToInteractive(key) {\n",
              "          const element = document.querySelector('#df-7e0f0629-a874-41f6-ae29-22b246b69803');\n",
              "          const dataTable =\n",
              "            await google.colab.kernel.invokeFunction('convertToInteractive',\n",
              "                                                     [key], {});\n",
              "          if (!dataTable) return;\n",
              "\n",
              "          const docLinkHtml = 'Like what you see? Visit the ' +\n",
              "            '<a target=\"_blank\" href=https://colab.research.google.com/notebooks/data_table.ipynb>data table notebook</a>'\n",
              "            + ' to learn more about interactive tables.';\n",
              "          element.innerHTML = '';\n",
              "          dataTable['output_type'] = 'display_data';\n",
              "          await google.colab.output.renderOutput(dataTable, element);\n",
              "          const docLink = document.createElement('div');\n",
              "          docLink.innerHTML = docLinkHtml;\n",
              "          element.appendChild(docLink);\n",
              "        }\n",
              "      </script>\n",
              "    </div>\n",
              "  </div>\n",
              "  "
            ]
          },
          "metadata": {},
          "execution_count": 15
        }
      ]
    },
    {
      "cell_type": "code",
      "execution_count": 14,
      "id": "entire-gossip",
      "metadata": {
        "id": "entire-gossip"
      },
      "outputs": [],
      "source": [
        "dataset_length = len(train)\n",
        "\n",
        "train_val_indices, test_indices = train_test_split(range(dataset_length), test_size=0.2, random_state=0)\n",
        "train_indices, valid_indices = train_test_split(train_val_indices, test_size= 0.2/0.6, random_state=0)"
      ]
    },
    {
      "cell_type": "markdown",
      "source": [
        "## TabNet Application\n",
        "\n",
        "First of all, the following code snippet is highly inspired from TabNet's official GitHub page. Also, you can see the reference and link to TabNet's GitHub page in case you want to take a look at.\n",
        "\n",
        "Reference: S. Ö. Arik και T. Pfister, ‘TabNet: Attentive Interpretable Tabular Learning’, CoRR, τ. abs/1908.07442, 2019.\n",
        "\n",
        "Official GitHub Page: https://github.com/dreamquark-ai/tabnet"
      ],
      "metadata": {
        "id": "ax0mjRc3tF-h"
      },
      "id": "ax0mjRc3tF-h"
    },
    {
      "cell_type": "markdown",
      "source": [
        "To start, I encoded the categorical features in the following way suggested by TabNet."
      ],
      "metadata": {
        "id": "TJ9t2ZriuNs5"
      },
      "id": "TJ9t2ZriuNs5"
    },
    {
      "cell_type": "code",
      "execution_count": 17,
      "id": "aerial-combining",
      "metadata": {
        "id": "aerial-combining"
      },
      "outputs": [],
      "source": [
        "categorical_columns = []\n",
        "categorical_dims =  {}\n",
        "for col in train.columns[train.dtypes == object]:\n",
        "    l_enc = LabelEncoder()\n",
        "    train[col] = l_enc.fit_transform(train[col].values)\n",
        "    categorical_columns.append(col)\n",
        "    categorical_dims[col] = len(l_enc.classes_)"
      ]
    },
    {
      "cell_type": "code",
      "execution_count": 27,
      "id": "interim-rebel",
      "metadata": {
        "id": "interim-rebel"
      },
      "outputs": [],
      "source": [
        "features = [ col for col in train.columns] \n",
        "\n",
        "cat_idxs = [ i for i, f in enumerate(features) if f in categorical_columns]\n",
        "\n",
        "cat_dims = [ categorical_dims[f] for i, f in enumerate(features) if f in categorical_columns]"
      ]
    },
    {
      "cell_type": "code",
      "source": [
        "categorical_columns"
      ],
      "metadata": {
        "colab": {
          "base_uri": "https://localhost:8080/"
        },
        "id": "-J_nsd5ouvgb",
        "outputId": "08578320-17be-4b42-88d8-49b3e22148c7"
      },
      "id": "-J_nsd5ouvgb",
      "execution_count": 28,
      "outputs": [
        {
          "output_type": "execute_result",
          "data": {
            "text/plain": [
              "['Situation', 'LastAction', 'ShotType']"
            ]
          },
          "metadata": {},
          "execution_count": 28
        }
      ]
    },
    {
      "cell_type": "code",
      "source": [
        "cat_idxs"
      ],
      "metadata": {
        "colab": {
          "base_uri": "https://localhost:8080/"
        },
        "id": "8YmeUYcuvDh-",
        "outputId": "54ad3c09-4b81-47ea-858e-e0d2af82594b"
      },
      "id": "8YmeUYcuvDh-",
      "execution_count": 29,
      "outputs": [
        {
          "output_type": "execute_result",
          "data": {
            "text/plain": [
              "[0, 1, 4]"
            ]
          },
          "metadata": {},
          "execution_count": 29
        }
      ]
    },
    {
      "cell_type": "code",
      "source": [
        "categorical_dims"
      ],
      "metadata": {
        "colab": {
          "base_uri": "https://localhost:8080/"
        },
        "id": "7d4cBOpIuw9G",
        "outputId": "625e109c-5718-4f89-eb9b-781be1c9f1ef"
      },
      "id": "7d4cBOpIuw9G",
      "execution_count": 30,
      "outputs": [
        {
          "output_type": "execute_result",
          "data": {
            "text/plain": [
              "{'LastAction': 13, 'ShotType': 4, 'Situation': 5}"
            ]
          },
          "metadata": {},
          "execution_count": 30
        }
      ]
    },
    {
      "cell_type": "code",
      "source": [
        "cat_dims"
      ],
      "metadata": {
        "colab": {
          "base_uri": "https://localhost:8080/"
        },
        "id": "CSoXrmCYvI1M",
        "outputId": "b28bc371-3f48-4ba7-f100-3b4845d79b5f"
      },
      "id": "CSoXrmCYvI1M",
      "execution_count": 31,
      "outputs": [
        {
          "output_type": "execute_result",
          "data": {
            "text/plain": [
              "[5, 13, 4]"
            ]
          },
          "metadata": {},
          "execution_count": 31
        }
      ]
    },
    {
      "cell_type": "markdown",
      "source": [
        "Initialize the TabNetClassifier here. You can change the parameters related to the model. You can look at the documentation (link is below) for detailed information about parameters. If you have no access to any device with cuda, you can just delete that line. Also, you can set verbose parameter to $x$, if you want to get log for each $x$ epochs.\n",
        "\n",
        "Then, I will run the fit function to train the model. You can also look at its parameters from the documentation.\n",
        "\n",
        "Documentation Link: https://dreamquark-ai.github.io/tabnet/generated_docs/README.html"
      ],
      "metadata": {
        "id": "GBVhBNj9vR28"
      },
      "id": "GBVhBNj9vR28"
    },
    {
      "cell_type": "code",
      "execution_count": 32,
      "id": "fewer-volume",
      "metadata": {
        "colab": {
          "base_uri": "https://localhost:8080/"
        },
        "id": "fewer-volume",
        "outputId": "483b3e12-0955-440c-b1be-9b8e4734d440"
      },
      "outputs": [
        {
          "output_type": "stream",
          "name": "stdout",
          "text": [
            "Device used : cuda\n"
          ]
        }
      ],
      "source": [
        "clf = TabNetClassifier(\n",
        "    n_d=64, n_a=64, n_steps=5,\n",
        "    gamma=1.5, n_independent=2, n_shared=2,\n",
        "    cat_idxs=cat_idxs,\n",
        "    cat_dims=cat_dims,\n",
        "    cat_emb_dim=1,\n",
        "    lambda_sparse=1e-4, momentum=0.3, clip_value=2.,\n",
        "    optimizer_fn=torch.optim.Adam,\n",
        "    optimizer_params=dict(lr=2e-2),\n",
        "    scheduler_params = {\"gamma\": 0.95,\n",
        "                     \"step_size\": 20},\n",
        "    scheduler_fn=torch.optim.lr_scheduler.StepLR, epsilon=1e-15,\n",
        "    device_name=\"cuda\",\n",
        "    verbose=5,\n",
        ")"
      ]
    },
    {
      "cell_type": "code",
      "execution_count": 33,
      "id": "distinct-positive",
      "metadata": {
        "id": "distinct-positive"
      },
      "outputs": [],
      "source": [
        "X_train = train[features].values[train_indices]\n",
        "y_train = y[train_indices]\n",
        "\n",
        "X_valid = train[features].values[valid_indices]\n",
        "y_valid = y[valid_indices]\n",
        "\n",
        "X_test = train[features].values[test_indices]\n",
        "y_test = y[test_indices]"
      ]
    },
    {
      "cell_type": "code",
      "execution_count": 34,
      "id": "intensive-desire",
      "metadata": {
        "colab": {
          "base_uri": "https://localhost:8080/"
        },
        "id": "intensive-desire",
        "outputId": "e124c321-0a41-4ab4-d759-f8f76b1796d3"
      },
      "outputs": [
        {
          "output_type": "stream",
          "name": "stdout",
          "text": [
            "epoch 0  | loss: 0.79305 | train_auc: 0.53862 | valid_auc: 0.54303 |  0:00:05s\n",
            "epoch 5  | loss: 0.27728 | train_auc: 0.52911 | valid_auc: 0.5266  |  0:00:34s\n",
            "epoch 10 | loss: 0.27551 | train_auc: 0.61379 | valid_auc: 0.61696 |  0:01:04s\n",
            "epoch 15 | loss: 0.27182 | train_auc: 0.63929 | valid_auc: 0.64171 |  0:01:33s\n",
            "epoch 20 | loss: 0.27216 | train_auc: 0.65477 | valid_auc: 0.65289 |  0:02:02s\n",
            "epoch 25 | loss: 0.27099 | train_auc: 0.69254 | valid_auc: 0.68993 |  0:02:32s\n",
            "epoch 30 | loss: 0.27096 | train_auc: 0.71042 | valid_auc: 0.70689 |  0:03:01s\n",
            "epoch 35 | loss: 0.27002 | train_auc: 0.7367  | valid_auc: 0.73309 |  0:03:30s\n",
            "epoch 40 | loss: 0.27018 | train_auc: 0.76703 | valid_auc: 0.76316 |  0:04:00s\n",
            "epoch 45 | loss: 0.2702  | train_auc: 0.78645 | valid_auc: 0.78149 |  0:04:30s\n",
            "epoch 50 | loss: 0.26877 | train_auc: 0.79849 | valid_auc: 0.79367 |  0:05:00s\n",
            "epoch 55 | loss: 0.26939 | train_auc: 0.80646 | valid_auc: 0.80193 |  0:05:30s\n",
            "epoch 60 | loss: 0.26813 | train_auc: 0.80888 | valid_auc: 0.80377 |  0:05:59s\n",
            "epoch 65 | loss: 0.268   | train_auc: 0.80928 | valid_auc: 0.80427 |  0:06:27s\n",
            "epoch 70 | loss: 0.2683  | train_auc: 0.80981 | valid_auc: 0.80485 |  0:06:56s\n",
            "epoch 75 | loss: 0.26783 | train_auc: 0.8108  | valid_auc: 0.80524 |  0:07:25s\n",
            "epoch 80 | loss: 0.26732 | train_auc: 0.81157 | valid_auc: 0.80503 |  0:07:54s\n",
            "epoch 85 | loss: 0.26735 | train_auc: 0.81275 | valid_auc: 0.80758 |  0:08:23s\n",
            "epoch 90 | loss: 0.26745 | train_auc: 0.81183 | valid_auc: 0.80582 |  0:08:52s\n",
            "epoch 95 | loss: 0.26715 | train_auc: 0.81229 | valid_auc: 0.80609 |  0:09:19s\n",
            "epoch 100| loss: 0.26652 | train_auc: 0.81373 | valid_auc: 0.80782 |  0:09:47s\n",
            "epoch 105| loss: 0.26692 | train_auc: 0.8138  | valid_auc: 0.80754 |  0:10:15s\n",
            "epoch 110| loss: 0.26651 | train_auc: 0.81371 | valid_auc: 0.80737 |  0:10:43s\n",
            "epoch 115| loss: 0.26637 | train_auc: 0.8134  | valid_auc: 0.80639 |  0:11:11s\n",
            "epoch 120| loss: 0.26623 | train_auc: 0.81434 | valid_auc: 0.80789 |  0:11:39s\n",
            "epoch 125| loss: 0.26582 | train_auc: 0.81437 | valid_auc: 0.80683 |  0:12:07s\n",
            "epoch 130| loss: 0.2664  | train_auc: 0.81173 | valid_auc: 0.80442 |  0:12:35s\n",
            "epoch 135| loss: 0.26619 | train_auc: 0.81317 | valid_auc: 0.80625 |  0:13:03s\n",
            "epoch 140| loss: 0.26555 | train_auc: 0.81563 | valid_auc: 0.80845 |  0:13:30s\n",
            "epoch 145| loss: 0.26581 | train_auc: 0.81549 | valid_auc: 0.80793 |  0:13:58s\n",
            "epoch 150| loss: 0.26611 | train_auc: 0.81377 | valid_auc: 0.80702 |  0:14:26s\n",
            "epoch 155| loss: 0.26636 | train_auc: 0.81351 | valid_auc: 0.80516 |  0:14:54s\n",
            "epoch 160| loss: 0.26588 | train_auc: 0.81427 | valid_auc: 0.8064  |  0:15:22s\n",
            "epoch 165| loss: 0.26607 | train_auc: 0.81527 | valid_auc: 0.80789 |  0:15:50s\n",
            "epoch 170| loss: 0.26638 | train_auc: 0.81428 | valid_auc: 0.80681 |  0:16:18s\n",
            "epoch 175| loss: 0.26602 | train_auc: 0.81393 | valid_auc: 0.80776 |  0:16:46s\n",
            "epoch 180| loss: 0.26633 | train_auc: 0.81464 | valid_auc: 0.80815 |  0:17:14s\n",
            "epoch 185| loss: 0.26593 | train_auc: 0.8143  | valid_auc: 0.80717 |  0:17:42s\n",
            "epoch 190| loss: 0.26524 | train_auc: 0.81519 | valid_auc: 0.80825 |  0:18:10s\n",
            "epoch 195| loss: 0.26573 | train_auc: 0.81463 | valid_auc: 0.80781 |  0:18:38s\n",
            "Stop training because you reached max_epochs = 200 with best_epoch = 192 and best_valid_auc = 0.80942\n",
            "Best weights from best epoch are automatically used!\n"
          ]
        }
      ],
      "source": [
        "max_epochs = 200\n",
        "\n",
        "clf.fit(\n",
        "    X_train=X_train, y_train=y_train,\n",
        "    eval_set=[(X_train, y_train), (X_valid, y_valid)],\n",
        "    eval_name=['train', 'valid'],\n",
        "    max_epochs=max_epochs, patience=100,\n",
        "    batch_size=16384, virtual_batch_size=256,\n",
        ") "
      ]
    },
    {
      "cell_type": "markdown",
      "source": [
        "## Evaluation\n",
        "\n",
        "For evaluation, I will take the probability values for being a goal and I will compare it with baseline by using Mean Absolute Error. I will also use classical metrics such as accuracy, precision, etc."
      ],
      "metadata": {
        "id": "xyXKzMKb2ZLz"
      },
      "id": "xyXKzMKb2ZLz"
    },
    {
      "cell_type": "code",
      "execution_count": 79,
      "id": "binding-victim",
      "metadata": {
        "id": "binding-victim"
      },
      "outputs": [],
      "source": [
        "predictions = clf.predict_proba(X_test)\n",
        "preds_mapper = { idx : class_name for idx, class_name in enumerate(clf.classes_)}\n",
        "y_pred = np.vectorize(preds_mapper.get)(np.argmax(predictions, axis=1)) #y_pred only contains 0 or 1\n",
        "\n",
        "xG_predictions = predictions[:,1] #x_G contains values between 0 and 1"
      ]
    },
    {
      "cell_type": "code",
      "source": [
        "y_test_xG = xG_values.values[test_indices]\n",
        "MAE = abs(xG_predictions-y_test_xG).mean()\n",
        "print(f\"MAE according to the baseline is : {MAE}\")"
      ],
      "metadata": {
        "colab": {
          "base_uri": "https://localhost:8080/"
        },
        "id": "M3o6x4WE3VQT",
        "outputId": "eac875b4-1d7d-4bf9-db85-9f6ab1499c9e"
      },
      "id": "M3o6x4WE3VQT",
      "execution_count": 42,
      "outputs": [
        {
          "output_type": "stream",
          "name": "stdout",
          "text": [
            "MAE according to the baseline is : 0.04556515139028101\n"
          ]
        }
      ]
    },
    {
      "cell_type": "code",
      "source": [
        "conf_matrix = confusion_matrix(y_pred=y_pred, y_true=y_test)\n",
        "\n",
        "test_acc = accuracy_score(y_pred=y_pred, y_true=y_test)\n",
        "print(f\"Test Set Accuracy is : {test_acc}\")\n",
        "\n",
        "test_prec = precision_score(y_pred=y_pred, y_true=y_test)\n",
        "print(f\"Test Set Precision is : {test_prec}\")\n",
        "\n",
        "test_recall = recall_score(y_pred=y_pred, y_true=y_test)\n",
        "print(f\"Test Set Recall is : {test_recall}\")\n",
        "\n",
        "test_roc_auc = roc_auc_score(y_test,y_pred)\n",
        "print(f\"Test Set Area Under ROC is : {test_roc_auc}\")\n",
        "\n",
        "test_fp_rate = conf_matrix[0][1]/(conf_matrix[0][0]+conf_matrix[0][1])\n",
        "print(f\"Test Set False Positive Rate is : {test_fp_rate}\")\n",
        "\n",
        "test_specificity = conf_matrix[0][0]/(conf_matrix[0][0]+conf_matrix[0][1])\n",
        "print(f\"Test Set Specificity is : {test_specificity}\")"
      ],
      "metadata": {
        "colab": {
          "base_uri": "https://localhost:8080/"
        },
        "id": "2NEb0ZwB3XqS",
        "outputId": "6f6a352e-b8a4-42f5-875f-c4b3c42778ed"
      },
      "id": "2NEb0ZwB3XqS",
      "execution_count": 110,
      "outputs": [
        {
          "output_type": "stream",
          "name": "stdout",
          "text": [
            "Test Set Accuracy is : 0.9037702159804966\n",
            "Test Set Precision is : 0.6552532833020638\n",
            "Test Set Recall is : 0.22291367480453167\n",
            "Test Set Area Under ROC is : 0.6043866744518436\n",
            "Test Set False Positive Rate is : 0.014140325900844571\n",
            "Test Set Specificity is : 0.9858596740991554\n"
          ]
        }
      ]
    },
    {
      "cell_type": "code",
      "source": [
        "disp = ConfusionMatrixDisplay(confusion_matrix=conf_matrix, display_labels=clf.classes_)\n",
        "disp.plot()\n",
        "plt.show()"
      ],
      "metadata": {
        "colab": {
          "base_uri": "https://localhost:8080/",
          "height": 279
        },
        "id": "TBK_1hyE7vqU",
        "outputId": "11c71997-0fdc-4ec5-bd0f-95ba807ee736"
      },
      "id": "TBK_1hyE7vqU",
      "execution_count": 111,
      "outputs": [
        {
          "output_type": "display_data",
          "data": {
            "text/plain": [
              "<Figure size 432x288 with 2 Axes>"
            ],
            "image/png": "[encoded data removed]"
          },
          "metadata": {
            "needs_background": "light"
          }
        }
      ]
    },
    {
      "cell_type": "markdown",
      "source": [
        "The model rarely predicts a goal, but the goal is rare in the football. Indeed nearly 9% of the shots become goal, the model predicts nearly 3% of shots as goal. When it predicts the result as a goal nearly one of the three predictions are wrong. I thought that the reason can be about football, so I looked at the given xG values as predictions and calculated confusion matrix, too. The reason may be choosing the probability 0.5 as the boundary."
      ],
      "metadata": {
        "id": "rUPdWiiU664y"
      },
      "id": "rUPdWiiU664y"
    },
    {
      "cell_type": "code",
      "source": [
        "y_pred_xG = [1 if xG>=0.5 else 0 for xG in xG_values[test_indices]]"
      ],
      "metadata": {
        "id": "6I1hExk0A-Ac"
      },
      "id": "6I1hExk0A-Ac",
      "execution_count": 70,
      "outputs": []
    },
    {
      "cell_type": "code",
      "source": [
        "conf_matrix = confusion_matrix(y_pred=y_pred_xG, y_true=y_test)\n",
        "\n",
        "test_acc = accuracy_score(y_pred=y_pred_xG, y_true=y_test)\n",
        "print(f\"Test Set Accuracy is : {test_acc}\")\n",
        "\n",
        "test_prec = precision_score(y_pred=y_pred_xG, y_true=y_test)\n",
        "print(f\"Test Set Precision is : {test_prec}\")\n",
        "\n",
        "test_recall = recall_score(y_pred=y_pred_xG, y_true=y_test)\n",
        "print(f\"Test Set Recall is : {test_recall}\")\n",
        "\n",
        "test_roc_auc = roc_auc_score(y_test,y_pred_xG)\n",
        "print(f\"Test Set Area Under ROC is : {test_roc_auc}\")\n",
        "\n",
        "test_fp_rate = conf_matrix[0][1]/(conf_matrix[0][0]+conf_matrix[0][1])\n",
        "print(f\"Test Set False Positive Rate is : {test_fp_rate}\")\n",
        "\n",
        "test_specificity = conf_matrix[0][0]/(conf_matrix[0][0]+conf_matrix[0][1])\n",
        "print(f\"Test Set Specificity is : {test_specificity}\")"
      ],
      "metadata": {
        "colab": {
          "base_uri": "https://localhost:8080/"
        },
        "id": "Mn4QwQ_sBh5I",
        "outputId": "a64afe23-ed98-40e2-aee4-e525f96d59ab"
      },
      "id": "Mn4QwQ_sBh5I",
      "execution_count": 112,
      "outputs": [
        {
          "output_type": "stream",
          "name": "stdout",
          "text": [
            "Test Set Accuracy is : 0.9073069395323284\n",
            "Test Set Precision is : 0.6454423592493298\n",
            "Test Set Recall is : 0.30732407850646243\n",
            "Test Set Area Under ROC is : 0.6434848523123512\n",
            "Test Set False Positive Rate is : 0.02035437388175994\n",
            "Test Set Specificity is : 0.97964562611824\n"
          ]
        }
      ]
    },
    {
      "cell_type": "code",
      "source": [
        "disp = ConfusionMatrixDisplay(confusion_matrix=conf_matrix, display_labels=clf.classes_)\n",
        "disp.plot()\n",
        "plt.show()"
      ],
      "metadata": {
        "colab": {
          "base_uri": "https://localhost:8080/",
          "height": 279
        },
        "id": "n48e9aPJA-Tl",
        "outputId": "d969044c-ed5b-4259-eabe-1e1fefb175bc"
      },
      "id": "n48e9aPJA-Tl",
      "execution_count": 113,
      "outputs": [
        {
          "output_type": "display_data",
          "data": {
            "text/plain": [
              "<Figure size 432x288 with 2 Axes>"
            ],
            "image/png": "[encoded data removed]"
          },
          "metadata": {
            "needs_background": "light"
          }
        }
      ]
    },
    {
      "cell_type": "markdown",
      "source": [
        "The performance of baseline model and our model is similar. Therefore, I think our model is successful for football domain, but it is open to improvements. I am planning to do hyperparameter tuning and also I am planning to use same model on a different shot dataset to see the success of the model."
      ],
      "metadata": {
        "id": "-sFvAK5_BqnJ"
      },
      "id": "-sFvAK5_BqnJ"
    },
    {
      "cell_type": "markdown",
      "source": [
        "## Explainability"
      ],
      "metadata": {
        "id": "T2DO6nYNFCVY"
      },
      "id": "T2DO6nYNFCVY"
    },
    {
      "cell_type": "code",
      "source": [
        "for i in range(len(features)):\n",
        "  print(f\"Importance of {features[i]} is {clf.feature_importances_[i]}\")"
      ],
      "metadata": {
        "colab": {
          "base_uri": "https://localhost:8080/"
        },
        "id": "258jFyT1FHbY",
        "outputId": "92a9bdd3-ba5e-4645-812d-a7820964a5e5"
      },
      "id": "258jFyT1FHbY",
      "execution_count": 103,
      "outputs": [
        {
          "output_type": "stream",
          "name": "stdout",
          "text": [
            "Importance of Situation is 0.13356820583139814\n",
            "Importance of LastAction is 0.2440353677030107\n",
            "Importance of X-Coordinate is 0.2181789690040219\n",
            "Importance of Y-Coordinate is 0.24868782676003923\n",
            "Importance of ShotType is 0.15552963070153003\n"
          ]
        }
      ]
    },
    {
      "cell_type": "markdown",
      "source": [
        "## Save and Load"
      ],
      "metadata": {
        "id": "zwzg2OpD37VP"
      },
      "id": "zwzg2OpD37VP"
    },
    {
      "cell_type": "code",
      "source": [
        "saved_path = clf.save_model(project_dir+\"xG_TabNet\")"
      ],
      "metadata": {
        "colab": {
          "base_uri": "https://localhost:8080/"
        },
        "id": "AY3e83sL4B8E",
        "outputId": "eb866d00-da0e-49a8-9c3d-6f9199b03dd7"
      },
      "id": "AY3e83sL4B8E",
      "execution_count": 74,
      "outputs": [
        {
          "output_type": "stream",
          "name": "stdout",
          "text": [
            "Successfully saved model at /content/drive/MyDrive/xG Project/xG_TabNet.zip\n"
          ]
        }
      ]
    },
    {
      "cell_type": "code",
      "source": [
        "loaded_clf = TabNetClassifier()\n",
        "loaded_clf.load_model(saved_path)"
      ],
      "metadata": {
        "colab": {
          "base_uri": "https://localhost:8080/"
        },
        "id": "epWPAp0l4F5T",
        "outputId": "f549936e-ec7f-4e88-b073-b85405c78f22"
      },
      "id": "epWPAp0l4F5T",
      "execution_count": 75,
      "outputs": [
        {
          "output_type": "stream",
          "name": "stdout",
          "text": [
            "Device used : cuda\n",
            "Device used : cuda\n"
          ]
        }
      ]
    },
    {
      "cell_type": "code",
      "source": [
        "loaded_preds = loaded_clf.predict_proba(X_test)"
      ],
      "metadata": {
        "id": "CMtzLvMeC5OP"
      },
      "id": "CMtzLvMeC5OP",
      "execution_count": 99,
      "outputs": []
    },
    {
      "cell_type": "code",
      "source": [
        "eps = 1e-4\n",
        "if np.any(abs(predictions-loaded_preds)>eps):\n",
        "  print(\"The model may be loaded in a false way, or the error is just about floating points\")\n",
        "else:\n",
        "  print(\"The model is correctly loaded\")"
      ],
      "metadata": {
        "colab": {
          "base_uri": "https://localhost:8080/"
        },
        "id": "qICK-Km3C8lP",
        "outputId": "b770e384-37cf-4972-ae4c-e0734079d8c7"
      },
      "id": "qICK-Km3C8lP",
      "execution_count": 100,
      "outputs": [
        {
          "output_type": "stream",
          "name": "stdout",
          "text": [
            "The model is correctly loaded\n"
          ]
        }
      ]
    },
    {
      "cell_type": "markdown",
      "source": [
        "## Hyperparameter Tuning\n",
        "\n",
        "Coming soon..."
      ],
      "metadata": {
        "id": "RwaZfphxEBJQ"
      },
      "id": "RwaZfphxEBJQ"
    }
  ],
  "metadata": {
    "kernelspec": {
      "display_name": "Python 3",
      "language": "python",
      "name": "python3"
    },
    "language_info": {
      "codemirror_mode": {
        "name": "ipython",
        "version": 3
      },
      "file_extension": ".py",
      "mimetype": "text/x-python",
      "name": "python",
      "nbconvert_exporter": "python",
      "pygments_lexer": "ipython3",
      "version": "3.7.9"
    },
    "colab": {
      "name": "xG_prediction_with_TabNet.ipynb",
      "provenance": [],
      "collapsed_sections": []
    },
    "accelerator": "GPU",
    "gpuClass": "standard"
  },
  "nbformat": 4,
  "nbformat_minor": 5
}