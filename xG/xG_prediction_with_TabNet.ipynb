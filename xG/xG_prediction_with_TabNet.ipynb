{
  "cells": [
    {
      "cell_type": "markdown",
      "metadata": {
        "id": "G-7GhKIfl7ei"
      },
      "source": [
        "## Imports"
      ],
      "id": "G-7GhKIfl7ei"
    },
    {
      "cell_type": "code",
      "execution_count": 1,
      "metadata": {
        "colab": {
          "base_uri": "https://localhost:8080/"
        },
        "id": "blond-success",
        "outputId": "b5af988c-fff1-4160-e1cc-1728780fe4ba"
      },
      "outputs": [
        {
          "output_type": "stream",
          "name": "stdout",
          "text": [
            "Looking in indexes: https://pypi.org/simple, https://us-python.pkg.dev/colab-wheels/public/simple/\n",
            "Collecting pytorch_tabnet\n",
            "  Downloading pytorch_tabnet-3.1.1-py3-none-any.whl (39 kB)\n",
            "Requirement already satisfied: scipy>1.4 in /usr/local/lib/python3.7/dist-packages (from pytorch_tabnet) (1.4.1)\n",
            "Requirement already satisfied: numpy<2.0,>=1.17 in /usr/local/lib/python3.7/dist-packages (from pytorch_tabnet) (1.21.6)\n",
            "Requirement already satisfied: torch<2.0,>=1.2 in /usr/local/lib/python3.7/dist-packages (from pytorch_tabnet) (1.11.0+cu113)\n",
            "Requirement already satisfied: scikit_learn>0.21 in /usr/local/lib/python3.7/dist-packages (from pytorch_tabnet) (1.0.2)\n",
            "Requirement already satisfied: tqdm<5.0,>=4.36 in /usr/local/lib/python3.7/dist-packages (from pytorch_tabnet) (4.64.0)\n",
            "Requirement already satisfied: threadpoolctl>=2.0.0 in /usr/local/lib/python3.7/dist-packages (from scikit_learn>0.21->pytorch_tabnet) (3.1.0)\n",
            "Requirement already satisfied: joblib>=0.11 in /usr/local/lib/python3.7/dist-packages (from scikit_learn>0.21->pytorch_tabnet) (1.1.0)\n",
            "Requirement already satisfied: typing-extensions in /usr/local/lib/python3.7/dist-packages (from torch<2.0,>=1.2->pytorch_tabnet) (4.1.1)\n",
            "Installing collected packages: pytorch-tabnet\n",
            "Successfully installed pytorch-tabnet-3.1.1\n",
            "Looking in indexes: https://pypi.org/simple, https://us-python.pkg.dev/colab-wheels/public/simple/\n",
            "Collecting Google-Colab-Transfer\n",
            "  Downloading Google_Colab_Transfer-0.1.6-py3-none-any.whl (7.0 kB)\n",
            "Installing collected packages: Google-Colab-Transfer\n",
            "Successfully installed Google-Colab-Transfer-0.1.6\n",
            "Mounted at /content/drive/\n"
          ]
        }
      ],
      "source": [
        "import torch\n",
        "import numpy as np\n",
        "import matplotlib.pyplot as plt\n",
        "import pandas as pd\n",
        "import numpy as np\n",
        "from torch.utils.data import Dataset, DataLoader\n",
        "from torch import nn\n",
        "from torch.nn import functional as F\n",
        "!pip install pytorch_tabnet\n",
        "from pytorch_tabnet.tab_model import TabNetClassifier\n",
        "import os\n",
        "from sklearn.preprocessing import LabelEncoder\n",
        "from sklearn.metrics import accuracy_score, precision_score, recall_score, roc_auc_score, confusion_matrix, ConfusionMatrixDisplay\n",
        "from sklearn.model_selection import train_test_split, cross_val_score\n",
        "import seaborn as sns\n",
        "from pathlib import Path\n",
        "%matplotlib inline\n",
        "!pip install Google-Colab-Transfer\n",
        "import colab_transfer\n",
        "colab_transfer.mount_google_drive()"
      ],
      "id": "blond-success"
    },
    {
      "cell_type": "markdown",
      "metadata": {
        "id": "gBAKnVTGmEvK"
      },
      "source": [
        "## Prepare Training Data and the Nature of the Data\n",
        "\n",
        "You can obtain your shot dataset and read it here by changing the given path.\n",
        "You can see the first 5 lines of the dataset and properties of features."
      ],
      "id": "gBAKnVTGmEvK"
    },
    {
      "cell_type": "code",
      "execution_count": 2,
      "metadata": {
        "id": "OTH7Bx8kJbHW"
      },
      "outputs": [],
      "source": [
        "project_dir = \"/content/drive/MyDrive/xG Project/\""
      ],
      "id": "OTH7Bx8kJbHW"
    },
    {
      "cell_type": "code",
      "execution_count": 3,
      "metadata": {
        "id": "continent-olympus"
      },
      "outputs": [],
      "source": [
        "dataset = pd.read_csv(project_dir+\"shoot_dataset.csv\")"
      ],
      "id": "continent-olympus"
    },
    {
      "cell_type": "code",
      "execution_count": 4,
      "metadata": {
        "colab": {
          "base_uri": "https://localhost:8080/",
          "height": 206
        },
        "id": "IRUjsQ2QATYo",
        "outputId": "52b4b38a-172a-4bea-9771-2a3765be1ba9"
      },
      "outputs": [
        {
          "output_type": "execute_result",
          "data": {
            "text/plain": [
              "    Situation LastAction  X-Coordinate  Y-Coordinate    ShotType       Result  \\\n",
              "0    OpenPlay     Aerial         0.876         0.602        Head  BlockedShot   \n",
              "1    OpenPlay      Cross         0.878         0.430        Head  MissedShots   \n",
              "2    OpenPlay       Pass         0.858         0.679  StrongFoot  MissedShots   \n",
              "3    OpenPlay     TakeOn         0.831         0.655  StrongFoot  MissedShots   \n",
              "4  FromCorner      Cross         0.943         0.500        Head  MissedShots   \n",
              "\n",
              "         xG  \n",
              "0  0.019479  \n",
              "1  0.031428  \n",
              "2  0.060696  \n",
              "3  0.127710  \n",
              "4  0.445354  "
            ],
            "text/html": [
              "\n",
              "  <div id=\"df-b51ee3ae-6f56-4c5a-9f43-bf32abc3d125\">\n",
              "    <div class=\"colab-df-container\">\n",
              "      <div>\n",
              "<style scoped>\n",
              "    .dataframe tbody tr th:only-of-type {\n",
              "        vertical-align: middle;\n",
              "    }\n",
              "\n",
              "    .dataframe tbody tr th {\n",
              "        vertical-align: top;\n",
              "    }\n",
              "\n",
              "    .dataframe thead th {\n",
              "        text-align: right;\n",
              "    }\n",
              "</style>\n",
              "<table border=\"1\" class=\"dataframe\">\n",
              "  <thead>\n",
              "    <tr style=\"text-align: right;\">\n",
              "      <th></th>\n",
              "      <th>Situation</th>\n",
              "      <th>LastAction</th>\n",
              "      <th>X-Coordinate</th>\n",
              "      <th>Y-Coordinate</th>\n",
              "      <th>ShotType</th>\n",
              "      <th>Result</th>\n",
              "      <th>xG</th>\n",
              "    </tr>\n",
              "  </thead>\n",
              "  <tbody>\n",
              "    <tr>\n",
              "      <th>0</th>\n",
              "      <td>OpenPlay</td>\n",
              "      <td>Aerial</td>\n",
              "      <td>0.876</td>\n",
              "      <td>0.602</td>\n",
              "      <td>Head</td>\n",
              "      <td>BlockedShot</td>\n",
              "      <td>0.019479</td>\n",
              "    </tr>\n",
              "    <tr>\n",
              "      <th>1</th>\n",
              "      <td>OpenPlay</td>\n",
              "      <td>Cross</td>\n",
              "      <td>0.878</td>\n",
              "      <td>0.430</td>\n",
              "      <td>Head</td>\n",
              "      <td>MissedShots</td>\n",
              "      <td>0.031428</td>\n",
              "    </tr>\n",
              "    <tr>\n",
              "      <th>2</th>\n",
              "      <td>OpenPlay</td>\n",
              "      <td>Pass</td>\n",
              "      <td>0.858</td>\n",
              "      <td>0.679</td>\n",
              "      <td>StrongFoot</td>\n",
              "      <td>MissedShots</td>\n",
              "      <td>0.060696</td>\n",
              "    </tr>\n",
              "    <tr>\n",
              "      <th>3</th>\n",
              "      <td>OpenPlay</td>\n",
              "      <td>TakeOn</td>\n",
              "      <td>0.831</td>\n",
              "      <td>0.655</td>\n",
              "      <td>StrongFoot</td>\n",
              "      <td>MissedShots</td>\n",
              "      <td>0.127710</td>\n",
              "    </tr>\n",
              "    <tr>\n",
              "      <th>4</th>\n",
              "      <td>FromCorner</td>\n",
              "      <td>Cross</td>\n",
              "      <td>0.943</td>\n",
              "      <td>0.500</td>\n",
              "      <td>Head</td>\n",
              "      <td>MissedShots</td>\n",
              "      <td>0.445354</td>\n",
              "    </tr>\n",
              "  </tbody>\n",
              "</table>\n",
              "</div>\n",
              "      <button class=\"colab-df-convert\" onclick=\"convertToInteractive('df-b51ee3ae-6f56-4c5a-9f43-bf32abc3d125')\"\n",
              "              title=\"Convert this dataframe to an interactive table.\"\n",
              "              style=\"display:none;\">\n",
              "        \n",
              "  <svg xmlns=\"http://www.w3.org/2000/svg\" height=\"24px\"viewBox=\"0 0 24 24\"\n",
              "       width=\"24px\">\n",
              "    <path d=\"M0 0h24v24H0V0z\" fill=\"none\"/>\n",
              "    <path d=\"M18.56 5.44l.94 2.06.94-2.06 2.06-.94-2.06-.94-.94-2.06-.94 2.06-2.06.94zm-11 1L8.5 8.5l.94-2.06 2.06-.94-2.06-.94L8.5 2.5l-.94 2.06-2.06.94zm10 10l.94 2.06.94-2.06 2.06-.94-2.06-.94-.94-2.06-.94 2.06-2.06.94z\"/><path d=\"M17.41 7.96l-1.37-1.37c-.4-.4-.92-.59-1.43-.59-.52 0-1.04.2-1.43.59L10.3 9.45l-7.72 7.72c-.78.78-.78 2.05 0 2.83L4 21.41c.39.39.9.59 1.41.59.51 0 1.02-.2 1.41-.59l7.78-7.78 2.81-2.81c.8-.78.8-2.07 0-2.86zM5.41 20L4 18.59l7.72-7.72 1.47 1.35L5.41 20z\"/>\n",
              "  </svg>\n",
              "      </button>\n",
              "      \n",
              "  <style>\n",
              "    .colab-df-container {\n",
              "      display:flex;\n",
              "      flex-wrap:wrap;\n",
              "      gap: 12px;\n",
              "    }\n",
              "\n",
              "    .colab-df-convert {\n",
              "      background-color: #E8F0FE;\n",
              "      border: none;\n",
              "      border-radius: 50%;\n",
              "      cursor: pointer;\n",
              "      display: none;\n",
              "      fill: #1967D2;\n",
              "      height: 32px;\n",
              "      padding: 0 0 0 0;\n",
              "      width: 32px;\n",
              "    }\n",
              "\n",
              "    .colab-df-convert:hover {\n",
              "      background-color: #E2EBFA;\n",
              "      box-shadow: 0px 1px 2px rgba(60, 64, 67, 0.3), 0px 1px 3px 1px rgba(60, 64, 67, 0.15);\n",
              "      fill: #174EA6;\n",
              "    }\n",
              "\n",
              "    [theme=dark] .colab-df-convert {\n",
              "      background-color: #3B4455;\n",
              "      fill: #D2E3FC;\n",
              "    }\n",
              "\n",
              "    [theme=dark] .colab-df-convert:hover {\n",
              "      background-color: #434B5C;\n",
              "      box-shadow: 0px 1px 3px 1px rgba(0, 0, 0, 0.15);\n",
              "      filter: drop-shadow(0px 1px 2px rgba(0, 0, 0, 0.3));\n",
              "      fill: #FFFFFF;\n",
              "    }\n",
              "  </style>\n",
              "\n",
              "      <script>\n",
              "        const buttonEl =\n",
              "          document.querySelector('#df-b51ee3ae-6f56-4c5a-9f43-bf32abc3d125 button.colab-df-convert');\n",
              "        buttonEl.style.display =\n",
              "          google.colab.kernel.accessAllowed ? 'block' : 'none';\n",
              "\n",
              "        async function convertToInteractive(key) {\n",
              "          const element = document.querySelector('#df-b51ee3ae-6f56-4c5a-9f43-bf32abc3d125');\n",
              "          const dataTable =\n",
              "            await google.colab.kernel.invokeFunction('convertToInteractive',\n",
              "                                                     [key], {});\n",
              "          if (!dataTable) return;\n",
              "\n",
              "          const docLinkHtml = 'Like what you see? Visit the ' +\n",
              "            '<a target=\"_blank\" href=https://colab.research.google.com/notebooks/data_table.ipynb>data table notebook</a>'\n",
              "            + ' to learn more about interactive tables.';\n",
              "          element.innerHTML = '';\n",
              "          dataTable['output_type'] = 'display_data';\n",
              "          await google.colab.output.renderOutput(dataTable, element);\n",
              "          const docLink = document.createElement('div');\n",
              "          docLink.innerHTML = docLinkHtml;\n",
              "          element.appendChild(docLink);\n",
              "        }\n",
              "      </script>\n",
              "    </div>\n",
              "  </div>\n",
              "  "
            ]
          },
          "metadata": {},
          "execution_count": 4
        }
      ],
      "source": [
        "dataset.head()"
      ],
      "id": "IRUjsQ2QATYo"
    },
    {
      "cell_type": "markdown",
      "metadata": {
        "id": "8vF7p6g-miTL"
      },
      "source": [
        "You can see the meanings and properties of features below.\n",
        "\n",
        "\n",
        "**Situation:** It shows the origin of the position. \n",
        "\n",
        "The possible values for this features are \"OpenPlay\", \"FromCorner\", \"SetPiece\", \"Penalty\", \"DirectFreekick\". \n",
        "\n",
        "Here \"SetPiece\" refers to any organization after a free kick and \"DirectFreekick\" refers to freekicks that are directly aimed to the goal.\n",
        "\n",
        "**LastAction:** It shows the last action taken before the shot.\n",
        "\n",
        "The possible values for this features are \"Aerial\", \"Cross\", \"Pass\", \"TakeOn\", \"Chipped\", \"SetPiece\", \"BallTouch\", \"BallRecovery\", \"None\", \"HeadPass\", \"LayOff\", \"Rebound\", \"Throughball\".\n",
        "\n",
        "**X-Coordinate:** It shows the normalized x coordinate of the place in the pitch where shot is taken. Let say there is a shot of Team A against Team B. It takes 0 if the shot is taken from exactly the goal line of Team B and it takes 1 if the shot is taken from exactly the goal line of Team A.\n",
        "\n",
        "**Y-Coordinate:** It shows the normalized y coordinate of the place in the pitch where shot is taken. Let say there is a shot of Team A against Team B. It takes 0 if the shot is taken from exactly the touchline that is at the left of the goal of Team B and it takes 1 if the shot is taken from the touchline that is at the right of the goal of Team B. Trivially, penalties have exactly y=0.5.\n",
        "\n",
        "**ShotType:** It shows the type of the shot according to stronger foot of the footballer.\n",
        "\n",
        "The possible values for this features are \"Head\", \"StrongFoot\", \"WeakFoot\", \"OtherBodyPart\".\n",
        "\n",
        "**Result:** It shows the result of the shot. Note that I just used it for label information, whether the shot results in a goal or not. It is not included in training data since it is highly correlated to prediction and I think including it as a feature is not in line with the philosophy of xG.\n",
        "\n",
        "The possible values for this features are \"BlockedShot\", \"MissedShots\", \"Goal\", \"SavedShot\", \"ShotOnPost\".\n",
        "\n",
        "**xG:** It is the xG value of the shot calculated by the authors of the dataset. I used it for comparison."
      ],
      "id": "8vF7p6g-miTL"
    },
    {
      "cell_type": "code",
      "execution_count": 5,
      "metadata": {
        "colab": {
          "base_uri": "https://localhost:8080/"
        },
        "id": "a8bJseHNAZrH",
        "outputId": "f4234d47-5131-4aec-f788-1765068f0f78"
      },
      "outputs": [
        {
          "output_type": "stream",
          "name": "stdout",
          "text": [
            "The possible values for the feature Situation : ['OpenPlay' 'FromCorner' 'SetPiece' 'Penalty' 'DirectFreekick']\n",
            "The possible values for the feature LastAction : ['Aerial' 'Cross' 'Pass' 'TakeOn' 'Chipped' 'SetPiece' 'BallTouch'\n",
            " 'BallRecovery' 'None' 'HeadPass' 'LayOff' 'Rebound' 'Throughball']\n",
            "The possible values for the feature ShotType : ['Head' 'StrongFoot' 'WeakFoot' 'OtherBodyPart']\n",
            "The possible values for the feature Result : ['BlockedShot' 'MissedShots' 'Goal' 'SavedShot' 'ShotOnPost']\n"
          ]
        }
      ],
      "source": [
        "categorical_features = [\"Situation\", \"LastAction\", \"ShotType\", \"Result\"]\n",
        "\n",
        "for feature in categorical_features:\n",
        "  print(f\"The possible values for the feature {feature} : {dataset[feature].unique()}\")"
      ],
      "id": "a8bJseHNAZrH"
    },
    {
      "cell_type": "code",
      "execution_count": 6,
      "metadata": {
        "id": "ambient-version"
      },
      "outputs": [],
      "source": [
        "y = np.array([1 if result == 'Goal' else 0 for result in dataset['Result']])\n",
        "xG_values = dataset['xG']"
      ],
      "id": "ambient-version"
    },
    {
      "cell_type": "markdown",
      "metadata": {
        "id": "kmPbp72dsqAY"
      },
      "source": [
        "I dropped the features xG and Result. Then, I splitted the training set into training, validation and test sets."
      ],
      "id": "kmPbp72dsqAY"
    },
    {
      "cell_type": "code",
      "execution_count": 7,
      "metadata": {
        "id": "square-metadata"
      },
      "outputs": [],
      "source": [
        "train = dataset.copy()\n",
        "train = train.drop('xG', axis=1)\n",
        "train = train.drop('Result', axis=1)"
      ],
      "id": "square-metadata"
    },
    {
      "cell_type": "code",
      "execution_count": 8,
      "metadata": {
        "colab": {
          "base_uri": "https://localhost:8080/",
          "height": 206
        },
        "id": "4oRNbQ1fsmvk",
        "outputId": "d848565a-d238-492c-def5-8d6faa95516c"
      },
      "outputs": [
        {
          "output_type": "execute_result",
          "data": {
            "text/plain": [
              "    Situation LastAction  X-Coordinate  Y-Coordinate    ShotType\n",
              "0    OpenPlay     Aerial         0.876         0.602        Head\n",
              "1    OpenPlay      Cross         0.878         0.430        Head\n",
              "2    OpenPlay       Pass         0.858         0.679  StrongFoot\n",
              "3    OpenPlay     TakeOn         0.831         0.655  StrongFoot\n",
              "4  FromCorner      Cross         0.943         0.500        Head"
            ],
            "text/html": [
              "\n",
              "  <div id=\"df-5080c689-6144-41f6-834d-1fef7ad0ca09\">\n",
              "    <div class=\"colab-df-container\">\n",
              "      <div>\n",
              "<style scoped>\n",
              "    .dataframe tbody tr th:only-of-type {\n",
              "        vertical-align: middle;\n",
              "    }\n",
              "\n",
              "    .dataframe tbody tr th {\n",
              "        vertical-align: top;\n",
              "    }\n",
              "\n",
              "    .dataframe thead th {\n",
              "        text-align: right;\n",
              "    }\n",
              "</style>\n",
              "<table border=\"1\" class=\"dataframe\">\n",
              "  <thead>\n",
              "    <tr style=\"text-align: right;\">\n",
              "      <th></th>\n",
              "      <th>Situation</th>\n",
              "      <th>LastAction</th>\n",
              "      <th>X-Coordinate</th>\n",
              "      <th>Y-Coordinate</th>\n",
              "      <th>ShotType</th>\n",
              "    </tr>\n",
              "  </thead>\n",
              "  <tbody>\n",
              "    <tr>\n",
              "      <th>0</th>\n",
              "      <td>OpenPlay</td>\n",
              "      <td>Aerial</td>\n",
              "      <td>0.876</td>\n",
              "      <td>0.602</td>\n",
              "      <td>Head</td>\n",
              "    </tr>\n",
              "    <tr>\n",
              "      <th>1</th>\n",
              "      <td>OpenPlay</td>\n",
              "      <td>Cross</td>\n",
              "      <td>0.878</td>\n",
              "      <td>0.430</td>\n",
              "      <td>Head</td>\n",
              "    </tr>\n",
              "    <tr>\n",
              "      <th>2</th>\n",
              "      <td>OpenPlay</td>\n",
              "      <td>Pass</td>\n",
              "      <td>0.858</td>\n",
              "      <td>0.679</td>\n",
              "      <td>StrongFoot</td>\n",
              "    </tr>\n",
              "    <tr>\n",
              "      <th>3</th>\n",
              "      <td>OpenPlay</td>\n",
              "      <td>TakeOn</td>\n",
              "      <td>0.831</td>\n",
              "      <td>0.655</td>\n",
              "      <td>StrongFoot</td>\n",
              "    </tr>\n",
              "    <tr>\n",
              "      <th>4</th>\n",
              "      <td>FromCorner</td>\n",
              "      <td>Cross</td>\n",
              "      <td>0.943</td>\n",
              "      <td>0.500</td>\n",
              "      <td>Head</td>\n",
              "    </tr>\n",
              "  </tbody>\n",
              "</table>\n",
              "</div>\n",
              "      <button class=\"colab-df-convert\" onclick=\"convertToInteractive('df-5080c689-6144-41f6-834d-1fef7ad0ca09')\"\n",
              "              title=\"Convert this dataframe to an interactive table.\"\n",
              "              style=\"display:none;\">\n",
              "        \n",
              "  <svg xmlns=\"http://www.w3.org/2000/svg\" height=\"24px\"viewBox=\"0 0 24 24\"\n",
              "       width=\"24px\">\n",
              "    <path d=\"M0 0h24v24H0V0z\" fill=\"none\"/>\n",
              "    <path d=\"M18.56 5.44l.94 2.06.94-2.06 2.06-.94-2.06-.94-.94-2.06-.94 2.06-2.06.94zm-11 1L8.5 8.5l.94-2.06 2.06-.94-2.06-.94L8.5 2.5l-.94 2.06-2.06.94zm10 10l.94 2.06.94-2.06 2.06-.94-2.06-.94-.94-2.06-.94 2.06-2.06.94z\"/><path d=\"M17.41 7.96l-1.37-1.37c-.4-.4-.92-.59-1.43-.59-.52 0-1.04.2-1.43.59L10.3 9.45l-7.72 7.72c-.78.78-.78 2.05 0 2.83L4 21.41c.39.39.9.59 1.41.59.51 0 1.02-.2 1.41-.59l7.78-7.78 2.81-2.81c.8-.78.8-2.07 0-2.86zM5.41 20L4 18.59l7.72-7.72 1.47 1.35L5.41 20z\"/>\n",
              "  </svg>\n",
              "      </button>\n",
              "      \n",
              "  <style>\n",
              "    .colab-df-container {\n",
              "      display:flex;\n",
              "      flex-wrap:wrap;\n",
              "      gap: 12px;\n",
              "    }\n",
              "\n",
              "    .colab-df-convert {\n",
              "      background-color: #E8F0FE;\n",
              "      border: none;\n",
              "      border-radius: 50%;\n",
              "      cursor: pointer;\n",
              "      display: none;\n",
              "      fill: #1967D2;\n",
              "      height: 32px;\n",
              "      padding: 0 0 0 0;\n",
              "      width: 32px;\n",
              "    }\n",
              "\n",
              "    .colab-df-convert:hover {\n",
              "      background-color: #E2EBFA;\n",
              "      box-shadow: 0px 1px 2px rgba(60, 64, 67, 0.3), 0px 1px 3px 1px rgba(60, 64, 67, 0.15);\n",
              "      fill: #174EA6;\n",
              "    }\n",
              "\n",
              "    [theme=dark] .colab-df-convert {\n",
              "      background-color: #3B4455;\n",
              "      fill: #D2E3FC;\n",
              "    }\n",
              "\n",
              "    [theme=dark] .colab-df-convert:hover {\n",
              "      background-color: #434B5C;\n",
              "      box-shadow: 0px 1px 3px 1px rgba(0, 0, 0, 0.15);\n",
              "      filter: drop-shadow(0px 1px 2px rgba(0, 0, 0, 0.3));\n",
              "      fill: #FFFFFF;\n",
              "    }\n",
              "  </style>\n",
              "\n",
              "      <script>\n",
              "        const buttonEl =\n",
              "          document.querySelector('#df-5080c689-6144-41f6-834d-1fef7ad0ca09 button.colab-df-convert');\n",
              "        buttonEl.style.display =\n",
              "          google.colab.kernel.accessAllowed ? 'block' : 'none';\n",
              "\n",
              "        async function convertToInteractive(key) {\n",
              "          const element = document.querySelector('#df-5080c689-6144-41f6-834d-1fef7ad0ca09');\n",
              "          const dataTable =\n",
              "            await google.colab.kernel.invokeFunction('convertToInteractive',\n",
              "                                                     [key], {});\n",
              "          if (!dataTable) return;\n",
              "\n",
              "          const docLinkHtml = 'Like what you see? Visit the ' +\n",
              "            '<a target=\"_blank\" href=https://colab.research.google.com/notebooks/data_table.ipynb>data table notebook</a>'\n",
              "            + ' to learn more about interactive tables.';\n",
              "          element.innerHTML = '';\n",
              "          dataTable['output_type'] = 'display_data';\n",
              "          await google.colab.output.renderOutput(dataTable, element);\n",
              "          const docLink = document.createElement('div');\n",
              "          docLink.innerHTML = docLinkHtml;\n",
              "          element.appendChild(docLink);\n",
              "        }\n",
              "      </script>\n",
              "    </div>\n",
              "  </div>\n",
              "  "
            ]
          },
          "metadata": {},
          "execution_count": 8
        }
      ],
      "source": [
        "train.head()"
      ],
      "id": "4oRNbQ1fsmvk"
    },
    {
      "cell_type": "code",
      "execution_count": 9,
      "metadata": {
        "id": "entire-gossip"
      },
      "outputs": [],
      "source": [
        "dataset_length = len(train)\n",
        "\n",
        "train_val_indices, test_indices = train_test_split(range(dataset_length), test_size=0.2, random_state=0)\n",
        "train_indices, valid_indices = train_test_split(train_val_indices, test_size= 0.2/0.6, random_state=0)"
      ],
      "id": "entire-gossip"
    },
    {
      "cell_type": "markdown",
      "metadata": {
        "id": "ax0mjRc3tF-h"
      },
      "source": [
        "## TabNet Application\n",
        "\n",
        "First of all, the following code snippet is highly inspired from TabNet's official GitHub page. Also, you can see the reference and link to TabNet's GitHub page in case you want to take a look at.\n",
        "\n",
        "Reference: S. Ö. Arik και T. Pfister, ‘TabNet: Attentive Interpretable Tabular Learning’, CoRR, τ. abs/1908.07442, 2019.\n",
        "\n",
        "Official GitHub Page: https://github.com/dreamquark-ai/tabnet"
      ],
      "id": "ax0mjRc3tF-h"
    },
    {
      "cell_type": "markdown",
      "metadata": {
        "id": "TJ9t2ZriuNs5"
      },
      "source": [
        "To start, I encoded the categorical features in the following way suggested by TabNet."
      ],
      "id": "TJ9t2ZriuNs5"
    },
    {
      "cell_type": "code",
      "execution_count": 10,
      "metadata": {
        "id": "aerial-combining"
      },
      "outputs": [],
      "source": [
        "categorical_columns = []\n",
        "categorical_dims =  {}\n",
        "for col in train.columns[train.dtypes == object]:\n",
        "    l_enc = LabelEncoder()\n",
        "    train[col] = l_enc.fit_transform(train[col].values)\n",
        "    categorical_columns.append(col)\n",
        "    categorical_dims[col] = len(l_enc.classes_)"
      ],
      "id": "aerial-combining"
    },
    {
      "cell_type": "code",
      "execution_count": 11,
      "metadata": {
        "id": "interim-rebel"
      },
      "outputs": [],
      "source": [
        "features = [ col for col in train.columns] \n",
        "\n",
        "cat_idxs = [ i for i, f in enumerate(features) if f in categorical_columns]\n",
        "\n",
        "cat_dims = [ categorical_dims[f] for i, f in enumerate(features) if f in categorical_columns]"
      ],
      "id": "interim-rebel"
    },
    {
      "cell_type": "code",
      "execution_count": 12,
      "metadata": {
        "colab": {
          "base_uri": "https://localhost:8080/"
        },
        "id": "-J_nsd5ouvgb",
        "outputId": "f36fd2bd-2f02-47f8-c386-fe4b45085a6a"
      },
      "outputs": [
        {
          "output_type": "execute_result",
          "data": {
            "text/plain": [
              "['Situation', 'LastAction', 'ShotType']"
            ]
          },
          "metadata": {},
          "execution_count": 12
        }
      ],
      "source": [
        "categorical_columns"
      ],
      "id": "-J_nsd5ouvgb"
    },
    {
      "cell_type": "code",
      "execution_count": 13,
      "metadata": {
        "colab": {
          "base_uri": "https://localhost:8080/"
        },
        "id": "8YmeUYcuvDh-",
        "outputId": "cbaa55be-ec1a-49fd-a01c-29d651629460"
      },
      "outputs": [
        {
          "output_type": "execute_result",
          "data": {
            "text/plain": [
              "[0, 1, 4]"
            ]
          },
          "metadata": {},
          "execution_count": 13
        }
      ],
      "source": [
        "cat_idxs"
      ],
      "id": "8YmeUYcuvDh-"
    },
    {
      "cell_type": "code",
      "execution_count": 14,
      "metadata": {
        "colab": {
          "base_uri": "https://localhost:8080/"
        },
        "id": "7d4cBOpIuw9G",
        "outputId": "52681ad7-95ca-43c0-8183-73cf2217ae6e"
      },
      "outputs": [
        {
          "output_type": "execute_result",
          "data": {
            "text/plain": [
              "{'LastAction': 13, 'ShotType': 4, 'Situation': 5}"
            ]
          },
          "metadata": {},
          "execution_count": 14
        }
      ],
      "source": [
        "categorical_dims"
      ],
      "id": "7d4cBOpIuw9G"
    },
    {
      "cell_type": "code",
      "execution_count": 15,
      "metadata": {
        "colab": {
          "base_uri": "https://localhost:8080/"
        },
        "id": "CSoXrmCYvI1M",
        "outputId": "cede8959-a7e1-4697-d53a-5cf98f1f9f3c"
      },
      "outputs": [
        {
          "output_type": "execute_result",
          "data": {
            "text/plain": [
              "[5, 13, 4]"
            ]
          },
          "metadata": {},
          "execution_count": 15
        }
      ],
      "source": [
        "cat_dims"
      ],
      "id": "CSoXrmCYvI1M"
    },
    {
      "cell_type": "markdown",
      "metadata": {
        "id": "GBVhBNj9vR28"
      },
      "source": [
        "Initialize the TabNetClassifier here. You can change the parameters related to the model. You can look at the documentation (link is below) for detailed information about parameters. If you have no access to any device with cuda, you can just delete that line. Also, you can set verbose parameter to $x$, if you want to get log for each $x$ epochs.\n",
        "\n",
        "Then, I will run the fit function to train the model. You can also look at its parameters from the documentation.\n",
        "\n",
        "Documentation Link: https://dreamquark-ai.github.io/tabnet/generated_docs/README.html"
      ],
      "id": "GBVhBNj9vR28"
    },
    {
      "cell_type": "code",
      "execution_count": null,
      "metadata": {
        "colab": {
          "base_uri": "https://localhost:8080/"
        },
        "id": "fewer-volume",
        "outputId": "daaf65ba-7078-493d-f208-ed0e842c3510"
      },
      "outputs": [
        {
          "name": "stdout",
          "output_type": "stream",
          "text": [
            "Device used : cuda\n"
          ]
        }
      ],
      "source": [
        "clf = TabNetClassifier(\n",
        "    n_d=64, n_a=64, n_steps=5,\n",
        "    gamma=1.5, n_independent=2, n_shared=2,\n",
        "    cat_idxs=cat_idxs,\n",
        "    cat_dims=cat_dims,\n",
        "    cat_emb_dim=1,\n",
        "    lambda_sparse=1e-4, momentum=0.3, clip_value=2.,\n",
        "    optimizer_fn=torch.optim.Adam,\n",
        "    optimizer_params=dict(lr=2e-2),\n",
        "    scheduler_params = {\"gamma\": 0.95,\n",
        "                     \"step_size\": 20},\n",
        "    scheduler_fn=torch.optim.lr_scheduler.StepLR, epsilon=1e-15,\n",
        "    device_name=\"cuda\",\n",
        "    verbose=5,\n",
        ")"
      ],
      "id": "fewer-volume"
    },
    {
      "cell_type": "code",
      "execution_count": 16,
      "metadata": {
        "id": "distinct-positive"
      },
      "outputs": [],
      "source": [
        "X_train = train[features].values[train_indices]\n",
        "y_train = y[train_indices]\n",
        "\n",
        "X_valid = train[features].values[valid_indices]\n",
        "y_valid = y[valid_indices]\n",
        "\n",
        "X_test = train[features].values[test_indices]\n",
        "y_test = y[test_indices]"
      ],
      "id": "distinct-positive"
    },
    {
      "cell_type": "code",
      "execution_count": null,
      "metadata": {
        "colab": {
          "base_uri": "https://localhost:8080/"
        },
        "id": "intensive-desire",
        "outputId": "ef480964-a130-407b-f5cf-3054add2db63"
      },
      "outputs": [
        {
          "name": "stdout",
          "output_type": "stream",
          "text": [
            "epoch 0  | loss: 0.79305 | train_auc: 0.53862 | valid_auc: 0.54303 |  0:00:05s\n",
            "epoch 5  | loss: 0.27728 | train_auc: 0.52911 | valid_auc: 0.5266  |  0:00:39s\n",
            "epoch 10 | loss: 0.27551 | train_auc: 0.61379 | valid_auc: 0.61696 |  0:01:11s\n",
            "epoch 15 | loss: 0.27182 | train_auc: 0.63929 | valid_auc: 0.64171 |  0:01:40s\n",
            "epoch 20 | loss: 0.27216 | train_auc: 0.65477 | valid_auc: 0.65289 |  0:02:09s\n",
            "epoch 25 | loss: 0.27099 | train_auc: 0.69254 | valid_auc: 0.68993 |  0:02:39s\n",
            "epoch 30 | loss: 0.27096 | train_auc: 0.71042 | valid_auc: 0.70689 |  0:03:09s\n",
            "epoch 35 | loss: 0.27002 | train_auc: 0.7367  | valid_auc: 0.73309 |  0:03:38s\n",
            "epoch 40 | loss: 0.27018 | train_auc: 0.76703 | valid_auc: 0.76316 |  0:04:08s\n",
            "epoch 45 | loss: 0.2702  | train_auc: 0.78645 | valid_auc: 0.78149 |  0:04:37s\n",
            "epoch 50 | loss: 0.26877 | train_auc: 0.79849 | valid_auc: 0.79367 |  0:05:07s\n",
            "epoch 55 | loss: 0.26939 | train_auc: 0.80646 | valid_auc: 0.80193 |  0:05:37s\n",
            "epoch 60 | loss: 0.26813 | train_auc: 0.80888 | valid_auc: 0.80377 |  0:06:06s\n",
            "epoch 65 | loss: 0.268   | train_auc: 0.80928 | valid_auc: 0.80427 |  0:06:35s\n",
            "epoch 70 | loss: 0.2683  | train_auc: 0.80981 | valid_auc: 0.80485 |  0:07:04s\n",
            "epoch 75 | loss: 0.26783 | train_auc: 0.8108  | valid_auc: 0.80524 |  0:07:33s\n",
            "epoch 80 | loss: 0.26732 | train_auc: 0.81157 | valid_auc: 0.80503 |  0:08:02s\n",
            "epoch 85 | loss: 0.26735 | train_auc: 0.81275 | valid_auc: 0.80758 |  0:08:30s\n",
            "epoch 90 | loss: 0.26745 | train_auc: 0.81183 | valid_auc: 0.80582 |  0:08:59s\n",
            "epoch 95 | loss: 0.26715 | train_auc: 0.81229 | valid_auc: 0.80609 |  0:09:28s\n",
            "epoch 100| loss: 0.26652 | train_auc: 0.81373 | valid_auc: 0.80782 |  0:09:57s\n",
            "epoch 105| loss: 0.26692 | train_auc: 0.8138  | valid_auc: 0.80754 |  0:10:26s\n",
            "epoch 110| loss: 0.26651 | train_auc: 0.81371 | valid_auc: 0.80737 |  0:10:55s\n",
            "epoch 115| loss: 0.26637 | train_auc: 0.8134  | valid_auc: 0.80639 |  0:11:23s\n",
            "epoch 120| loss: 0.26623 | train_auc: 0.81434 | valid_auc: 0.80789 |  0:11:52s\n",
            "epoch 125| loss: 0.26582 | train_auc: 0.81437 | valid_auc: 0.80683 |  0:12:21s\n",
            "epoch 130| loss: 0.2664  | train_auc: 0.81173 | valid_auc: 0.80442 |  0:12:50s\n",
            "epoch 135| loss: 0.26619 | train_auc: 0.81317 | valid_auc: 0.80625 |  0:13:19s\n",
            "epoch 140| loss: 0.26555 | train_auc: 0.81563 | valid_auc: 0.80845 |  0:13:47s\n",
            "epoch 145| loss: 0.26581 | train_auc: 0.81549 | valid_auc: 0.80793 |  0:14:16s\n",
            "epoch 150| loss: 0.26611 | train_auc: 0.81377 | valid_auc: 0.80702 |  0:14:45s\n",
            "epoch 155| loss: 0.26636 | train_auc: 0.81351 | valid_auc: 0.80516 |  0:15:14s\n",
            "epoch 160| loss: 0.26588 | train_auc: 0.81427 | valid_auc: 0.8064  |  0:15:43s\n",
            "epoch 165| loss: 0.26607 | train_auc: 0.81527 | valid_auc: 0.80789 |  0:16:11s\n",
            "epoch 170| loss: 0.26638 | train_auc: 0.81428 | valid_auc: 0.80681 |  0:16:39s\n",
            "epoch 175| loss: 0.26602 | train_auc: 0.81393 | valid_auc: 0.80776 |  0:17:08s\n",
            "epoch 180| loss: 0.26633 | train_auc: 0.81464 | valid_auc: 0.80815 |  0:17:36s\n",
            "epoch 185| loss: 0.26593 | train_auc: 0.8143  | valid_auc: 0.80717 |  0:18:05s\n",
            "epoch 190| loss: 0.26524 | train_auc: 0.81519 | valid_auc: 0.80825 |  0:18:34s\n",
            "epoch 195| loss: 0.26573 | train_auc: 0.81463 | valid_auc: 0.80781 |  0:19:03s\n",
            "Stop training because you reached max_epochs = 200 with best_epoch = 192 and best_valid_auc = 0.80942\n",
            "Best weights from best epoch are automatically used!\n"
          ]
        }
      ],
      "source": [
        "max_epochs = 200\n",
        "\n",
        "clf.fit(\n",
        "    X_train=X_train, y_train=y_train,\n",
        "    eval_set=[(X_train, y_train), (X_valid, y_valid)],\n",
        "    eval_name=['train', 'valid'],\n",
        "    max_epochs=max_epochs, patience=70,\n",
        "    batch_size=16384, virtual_batch_size=256,\n",
        ") "
      ],
      "id": "intensive-desire"
    },
    {
      "cell_type": "markdown",
      "metadata": {
        "id": "xyXKzMKb2ZLz"
      },
      "source": [
        "## Evaluation\n",
        "\n",
        "For evaluation, I will take the probability values for being a goal and I will compare it with baseline by using Mean Absolute Error. I will also use classical metrics such as accuracy, precision, etc."
      ],
      "id": "xyXKzMKb2ZLz"
    },
    {
      "cell_type": "code",
      "execution_count": null,
      "metadata": {
        "id": "binding-victim"
      },
      "outputs": [],
      "source": [
        "predictions = clf.predict_proba(X_test)\n",
        "preds_mapper = { idx : class_name for idx, class_name in enumerate(clf.classes_)}\n",
        "y_pred = np.vectorize(preds_mapper.get)(np.argmax(predictions, axis=1)) #y_pred only contains 0 or 1\n",
        "\n",
        "xG_predictions = predictions[:,1] #x_G contains values between 0 and 1"
      ],
      "id": "binding-victim"
    },
    {
      "cell_type": "code",
      "execution_count": null,
      "metadata": {
        "colab": {
          "base_uri": "https://localhost:8080/"
        },
        "id": "M3o6x4WE3VQT",
        "outputId": "4a4fa607-781a-4a74-f50c-a153c1f65884"
      },
      "outputs": [
        {
          "name": "stdout",
          "output_type": "stream",
          "text": [
            "MAE according to the baseline is : 0.04556515139028101\n"
          ]
        }
      ],
      "source": [
        "y_test_xG = xG_values.values[test_indices]\n",
        "MAE = abs(xG_predictions-y_test_xG).mean()\n",
        "print(f\"MAE according to the baseline is : {MAE}\")"
      ],
      "id": "M3o6x4WE3VQT"
    },
    {
      "cell_type": "code",
      "execution_count": null,
      "metadata": {
        "colab": {
          "base_uri": "https://localhost:8080/"
        },
        "id": "2NEb0ZwB3XqS",
        "outputId": "502ca4cb-c4d5-4b58-91c2-dda63968539d"
      },
      "outputs": [
        {
          "name": "stdout",
          "output_type": "stream",
          "text": [
            "Test Set Accuracy is : 0.9037702159804966\n",
            "Test Set Precision is : 0.6552532833020638\n",
            "Test Set Recall is : 0.22291367480453167\n",
            "Test Set Area Under ROC is : 0.6043866744518436\n",
            "Test Set False Positive Rate is : 0.014140325900844571\n",
            "Test Set Specificity is : 0.9858596740991554\n"
          ]
        }
      ],
      "source": [
        "conf_matrix = confusion_matrix(y_pred=y_pred, y_true=y_test)\n",
        "\n",
        "test_acc = accuracy_score(y_pred=y_pred, y_true=y_test)\n",
        "print(f\"Test Set Accuracy is : {test_acc}\")\n",
        "\n",
        "test_prec = precision_score(y_pred=y_pred, y_true=y_test)\n",
        "print(f\"Test Set Precision is : {test_prec}\")\n",
        "\n",
        "test_recall = recall_score(y_pred=y_pred, y_true=y_test)\n",
        "print(f\"Test Set Recall is : {test_recall}\")\n",
        "\n",
        "test_roc_auc = roc_auc_score(y_test,y_pred)\n",
        "print(f\"Test Set Area Under ROC is : {test_roc_auc}\")\n",
        "\n",
        "test_fp_rate = conf_matrix[0][1]/(conf_matrix[0][0]+conf_matrix[0][1])\n",
        "print(f\"Test Set False Positive Rate is : {test_fp_rate}\")\n",
        "\n",
        "test_specificity = conf_matrix[0][0]/(conf_matrix[0][0]+conf_matrix[0][1])\n",
        "print(f\"Test Set Specificity is : {test_specificity}\")"
      ],
      "id": "2NEb0ZwB3XqS"
    },
    {
      "cell_type": "code",
      "execution_count": null,
      "metadata": {
        "colab": {
          "base_uri": "https://localhost:8080/",
          "height": 279
        },
        "id": "TBK_1hyE7vqU",
        "outputId": "dbaab3c6-d6af-48dc-f2f7-dea0532b17d3"
      },
      "outputs": [
        {
          "data": {
            "image/png": "[encoded data removed]",
            "text/plain": [
              "<Figure size 432x288 with 2 Axes>"
            ]
          },
          "metadata": {},
          "output_type": "display_data"
        }
      ],
      "source": [
        "disp = ConfusionMatrixDisplay(confusion_matrix=conf_matrix, display_labels=clf.classes_)\n",
        "disp.plot()\n",
        "plt.show()"
      ],
      "id": "TBK_1hyE7vqU"
    },
    {
      "cell_type": "markdown",
      "metadata": {
        "id": "rUPdWiiU664y"
      },
      "source": [
        "The model rarely predicts a goal, but the goal is rare in the football. Indeed nearly 9% of the shots become goal, the model predicts nearly 3% of shots as goal. When it predicts the result as a goal nearly one of the three predictions are wrong. I thought that the reason can be about football, so I looked at the given xG values as predictions and calculated confusion matrix, too. The reason may be choosing the probability 0.5 as the boundary."
      ],
      "id": "rUPdWiiU664y"
    },
    {
      "cell_type": "code",
      "execution_count": null,
      "metadata": {
        "id": "6I1hExk0A-Ac"
      },
      "outputs": [],
      "source": [
        "y_pred_xG = [1 if xG>=0.5 else 0 for xG in xG_values[test_indices]]"
      ],
      "id": "6I1hExk0A-Ac"
    },
    {
      "cell_type": "code",
      "execution_count": null,
      "metadata": {
        "colab": {
          "base_uri": "https://localhost:8080/"
        },
        "id": "Mn4QwQ_sBh5I",
        "outputId": "2897733c-23eb-4bea-a6ba-4f62957918fa"
      },
      "outputs": [
        {
          "name": "stdout",
          "output_type": "stream",
          "text": [
            "Test Set Accuracy is : 0.9073069395323284\n",
            "Test Set Precision is : 0.6454423592493298\n",
            "Test Set Recall is : 0.30732407850646243\n",
            "Test Set Area Under ROC is : 0.6434848523123512\n",
            "Test Set False Positive Rate is : 0.02035437388175994\n",
            "Test Set Specificity is : 0.97964562611824\n"
          ]
        }
      ],
      "source": [
        "conf_matrix = confusion_matrix(y_pred=y_pred_xG, y_true=y_test)\n",
        "\n",
        "test_acc = accuracy_score(y_pred=y_pred_xG, y_true=y_test)\n",
        "print(f\"Test Set Accuracy is : {test_acc}\")\n",
        "\n",
        "test_prec = precision_score(y_pred=y_pred_xG, y_true=y_test)\n",
        "print(f\"Test Set Precision is : {test_prec}\")\n",
        "\n",
        "test_recall = recall_score(y_pred=y_pred_xG, y_true=y_test)\n",
        "print(f\"Test Set Recall is : {test_recall}\")\n",
        "\n",
        "test_roc_auc = roc_auc_score(y_test,y_pred_xG)\n",
        "print(f\"Test Set Area Under ROC is : {test_roc_auc}\")\n",
        "\n",
        "test_fp_rate = conf_matrix[0][1]/(conf_matrix[0][0]+conf_matrix[0][1])\n",
        "print(f\"Test Set False Positive Rate is : {test_fp_rate}\")\n",
        "\n",
        "test_specificity = conf_matrix[0][0]/(conf_matrix[0][0]+conf_matrix[0][1])\n",
        "print(f\"Test Set Specificity is : {test_specificity}\")"
      ],
      "id": "Mn4QwQ_sBh5I"
    },
    {
      "cell_type": "code",
      "execution_count": null,
      "metadata": {
        "colab": {
          "base_uri": "https://localhost:8080/",
          "height": 279
        },
        "id": "n48e9aPJA-Tl",
        "outputId": "16cf656f-918f-40be-ff2b-0a8139a7d8f1"
      },
      "outputs": [
        {
          "data": {
            "image/png": "[encoded data removed]",
            "text/plain": [
              "<Figure size 432x288 with 2 Axes>"
            ]
          },
          "metadata": {},
          "output_type": "display_data"
        }
      ],
      "source": [
        "disp = ConfusionMatrixDisplay(confusion_matrix=conf_matrix, display_labels=clf.classes_)\n",
        "disp.plot()\n",
        "plt.show()"
      ],
      "id": "n48e9aPJA-Tl"
    },
    {
      "cell_type": "markdown",
      "metadata": {
        "id": "-sFvAK5_BqnJ"
      },
      "source": [
        "The performance of baseline model and our model is similar. Therefore, I think our model is successful for football domain, but it is open to improvements. I am planning to do hyperparameter tuning and also I am planning to use same model on a different shot dataset to see the success of the model."
      ],
      "id": "-sFvAK5_BqnJ"
    },
    {
      "cell_type": "markdown",
      "metadata": {
        "id": "T2DO6nYNFCVY"
      },
      "source": [
        "## Explainability"
      ],
      "id": "T2DO6nYNFCVY"
    },
    {
      "cell_type": "code",
      "execution_count": null,
      "metadata": {
        "colab": {
          "base_uri": "https://localhost:8080/"
        },
        "id": "258jFyT1FHbY",
        "outputId": "c8323fc6-6b90-43d1-cc6f-b7b27afc0368"
      },
      "outputs": [
        {
          "name": "stdout",
          "output_type": "stream",
          "text": [
            "Importance of Situation is 0.13356820583139814\n",
            "Importance of LastAction is 0.2440353677030107\n",
            "Importance of X-Coordinate is 0.2181789690040219\n",
            "Importance of Y-Coordinate is 0.24868782676003923\n",
            "Importance of ShotType is 0.15552963070153003\n"
          ]
        }
      ],
      "source": [
        "for i in range(len(features)):\n",
        "  print(f\"Importance of {features[i]} is {clf.feature_importances_[i]}\")"
      ],
      "id": "258jFyT1FHbY"
    },
    {
      "cell_type": "markdown",
      "metadata": {
        "id": "zwzg2OpD37VP"
      },
      "source": [
        "## Save and Load"
      ],
      "id": "zwzg2OpD37VP"
    },
    {
      "cell_type": "code",
      "execution_count": null,
      "metadata": {
        "colab": {
          "base_uri": "https://localhost:8080/"
        },
        "id": "AY3e83sL4B8E",
        "outputId": "27ec431f-b0ef-459f-b162-327d06209ce0"
      },
      "outputs": [
        {
          "name": "stdout",
          "output_type": "stream",
          "text": [
            "Successfully saved model at /content/drive/MyDrive/xG Project/xG_TabNet.zip\n"
          ]
        }
      ],
      "source": [
        "saved_path = clf.save_model(project_dir+\"xG_TabNet\")"
      ],
      "id": "AY3e83sL4B8E"
    },
    {
      "cell_type": "code",
      "execution_count": null,
      "metadata": {
        "colab": {
          "base_uri": "https://localhost:8080/"
        },
        "id": "epWPAp0l4F5T",
        "outputId": "1472639a-d599-4030-e29e-241211a61ace"
      },
      "outputs": [
        {
          "name": "stdout",
          "output_type": "stream",
          "text": [
            "Device used : cuda\n",
            "Device used : cuda\n"
          ]
        }
      ],
      "source": [
        "loaded_clf = TabNetClassifier()\n",
        "loaded_clf.load_model(project_dir+\"xG_TabNet.zip\")"
      ],
      "id": "epWPAp0l4F5T"
    },
    {
      "cell_type": "code",
      "execution_count": null,
      "metadata": {
        "id": "CMtzLvMeC5OP"
      },
      "outputs": [],
      "source": [
        "loaded_preds = loaded_clf.predict_proba(X_test)"
      ],
      "id": "CMtzLvMeC5OP"
    },
    {
      "cell_type": "code",
      "execution_count": null,
      "metadata": {
        "colab": {
          "base_uri": "https://localhost:8080/"
        },
        "id": "qICK-Km3C8lP",
        "outputId": "3d1fe3f5-4016-4c28-9041-7849c6deeaf9"
      },
      "outputs": [
        {
          "name": "stdout",
          "output_type": "stream",
          "text": [
            "The model is correctly loaded\n"
          ]
        }
      ],
      "source": [
        "eps = 1e-4\n",
        "if np.any(abs(predictions-loaded_preds)>eps):\n",
        "  print(\"The model may be loaded in a false way, or the error is just about floating points\")\n",
        "else:\n",
        "  print(\"The model is correctly loaded\")"
      ],
      "id": "qICK-Km3C8lP"
    },
    {
      "cell_type": "markdown",
      "metadata": {
        "id": "RwaZfphxEBJQ"
      },
      "source": [
        "## Hyperparameter Tuning\n",
        "\n",
        "The following code hypertunes the parameter for TabNet Classifier. Since I am new to use package \"hyperopt\", it can be improved. Note that hyperparameter tuning uses lots of resources. Since I have limited resources, I did a mini version of hyperparameter tuning here to show how one can do it, but max_evals number can (must) be increased to obtain a better result. Also, authors suggested that n_d should be equal to n_a. Therefore, I only tuned one of them.\n",
        "\n",
        "\"space\" shows the parameters to be tuned, \"objective\" is the objective funtion to minimize. I tuned them according to accuracy score, but I am planning to do it with other metrics such as recall and precision."
      ],
      "id": "RwaZfphxEBJQ"
    },
    {
      "cell_type": "code",
      "execution_count": null,
      "metadata": {
        "colab": {
          "base_uri": "https://localhost:8080/"
        },
        "id": "zXuCTZpxaiBI",
        "outputId": "52916072-ef20-4cbc-c424-a0f6ec4f32ba"
      },
      "outputs": [
        {
          "name": "stdout",
          "output_type": "stream",
          "text": [
            "Device used : cuda\n",
            "epoch 0  | loss: 0.44746 | train_auc: 0.48989 | valid_auc: 0.49084 |  0:00:12s\n",
            "epoch 5  | loss: 0.28067 | train_auc: 0.57838 | valid_auc: 0.57606 |  0:01:16s\n",
            "epoch 10 | loss: 0.27828 | train_auc: 0.63785 | valid_auc: 0.63536 |  0:02:19s\n",
            "epoch 15 | loss: 0.276   | train_auc: 0.64422 | valid_auc: 0.64322 |  0:03:24s\n",
            "epoch 20 | loss: 0.27506 | train_auc: 0.66346 | valid_auc: 0.66185 |  0:04:27s\n",
            "epoch 25 | loss: 0.27517 | train_auc: 0.68609 | valid_auc: 0.68332 |  0:05:30s\n",
            "epoch 30 | loss: 0.27435 | train_auc: 0.71444 | valid_auc: 0.71148 |  0:06:32s\n",
            "epoch 35 | loss: 0.27406 | train_auc: 0.74471 | valid_auc: 0.74191 |  0:07:34s\n",
            "epoch 40 | loss: 0.2741  | train_auc: 0.76566 | valid_auc: 0.76223 |  0:08:37s\n",
            "epoch 45 | loss: 0.27394 | train_auc: 0.78445 | valid_auc: 0.78213 |  0:09:40s\n",
            "epoch 50 | loss: 0.27328 | train_auc: 0.7986  | valid_auc: 0.79506 |  0:10:42s\n",
            "epoch 55 | loss: 0.273   | train_auc: 0.80673 | valid_auc: 0.80199 |  0:11:45s\n",
            "epoch 60 | loss: 0.27254 | train_auc: 0.8099  | valid_auc: 0.8046  |  0:12:51s\n",
            "epoch 65 | loss: 0.27242 | train_auc: 0.81216 | valid_auc: 0.80674 |  0:13:54s\n",
            "epoch 70 | loss: 0.27182 | train_auc: 0.814   | valid_auc: 0.80729 |  0:14:57s\n",
            "epoch 75 | loss: 0.27298 | train_auc: 0.81258 | valid_auc: 0.80834 |  0:16:00s\n",
            "epoch 80 | loss: 0.27184 | train_auc: 0.81399 | valid_auc: 0.80742 |  0:17:04s\n",
            "epoch 85 | loss: 0.27178 | train_auc: 0.8142  | valid_auc: 0.80775 |  0:18:07s\n",
            "epoch 90 | loss: 0.27135 | train_auc: 0.8142  | valid_auc: 0.80763 |  0:19:11s\n",
            "epoch 95 | loss: 0.27077 | train_auc: 0.81506 | valid_auc: 0.80765 |  0:20:15s\n",
            "Stop training because you reached max_epochs = 100 with best_epoch = 77 and best_valid_auc = 0.80874\n",
            "Best weights from best epoch are automatically used!\n",
            "Device used : cuda\n",
            "epoch 0  | loss: 0.76609 | train_auc: 0.40123 | valid_auc: 0.40071 |  0:00:10s\n",
            "epoch 5  | loss: 0.28656 | train_auc: 0.56254 | valid_auc: 0.56157 |  0:00:59s\n",
            "epoch 10 | loss: 0.28139 | train_auc: 0.6076  | valid_auc: 0.60416 |  0:01:48s\n",
            "epoch 15 | loss: 0.28208 | train_auc: 0.60665 | valid_auc: 0.60449 |  0:02:37s\n",
            "epoch 20 | loss: 0.27849 | train_auc: 0.64638 | valid_auc: 0.64403 |  0:03:26s\n",
            "epoch 25 | loss: 0.27755 | train_auc: 0.68912 | valid_auc: 0.68862 |  0:04:14s\n",
            "epoch 30 | loss: 0.27976 | train_auc: 0.72932 | valid_auc: 0.72824 |  0:05:04s\n",
            "epoch 35 | loss: 0.27625 | train_auc: 0.74135 | valid_auc: 0.73986 |  0:05:53s\n",
            "epoch 40 | loss: 0.27676 | train_auc: 0.74897 | valid_auc: 0.74754 |  0:06:41s\n",
            "epoch 45 | loss: 0.27539 | train_auc: 0.78337 | valid_auc: 0.78123 |  0:07:29s\n",
            "epoch 50 | loss: 0.27522 | train_auc: 0.7873  | valid_auc: 0.78494 |  0:08:17s\n",
            "epoch 55 | loss: 0.27733 | train_auc: 0.79134 | valid_auc: 0.78826 |  0:09:06s\n",
            "epoch 60 | loss: 0.27511 | train_auc: 0.79739 | valid_auc: 0.79439 |  0:09:54s\n",
            "epoch 65 | loss: 0.27571 | train_auc: 0.79693 | valid_auc: 0.79416 |  0:10:42s\n",
            "epoch 70 | loss: 0.27588 | train_auc: 0.79813 | valid_auc: 0.79426 |  0:11:30s\n",
            "epoch 75 | loss: 0.27774 | train_auc: 0.79611 | valid_auc: 0.79143 |  0:12:18s\n",
            "epoch 80 | loss: 0.27444 | train_auc: 0.80057 | valid_auc: 0.79755 |  0:13:05s\n",
            "epoch 85 | loss: 0.27748 | train_auc: 0.79561 | valid_auc: 0.79175 |  0:13:54s\n",
            "epoch 90 | loss: 0.2761  | train_auc: 0.79496 | valid_auc: 0.79171 |  0:14:42s\n",
            "epoch 95 | loss: 0.2789  | train_auc: 0.79253 | valid_auc: 0.79092 |  0:15:31s\n",
            "Stop training because you reached max_epochs = 100 with best_epoch = 80 and best_valid_auc = 0.79755\n",
            "Best weights from best epoch are automatically used!\n",
            "Device used : cuda\n",
            "epoch 0  | loss: 0.90254 | train_auc: 0.55285 | valid_auc: 0.55704 |  0:00:05s\n",
            "epoch 5  | loss: 0.28041 | train_auc: 0.58374 | valid_auc: 0.5849  |  0:00:33s\n",
            "epoch 10 | loss: 0.27643 | train_auc: 0.5798  | valid_auc: 0.57885 |  0:01:01s\n",
            "epoch 15 | loss: 0.27388 | train_auc: 0.61579 | valid_auc: 0.61445 |  0:01:29s\n",
            "epoch 20 | loss: 0.27309 | train_auc: 0.65486 | valid_auc: 0.6522  |  0:01:57s\n",
            "epoch 25 | loss: 0.27238 | train_auc: 0.69727 | valid_auc: 0.69359 |  0:02:25s\n",
            "epoch 30 | loss: 0.27205 | train_auc: 0.73447 | valid_auc: 0.73165 |  0:02:52s\n",
            "epoch 35 | loss: 0.2713  | train_auc: 0.74832 | valid_auc: 0.74411 |  0:03:20s\n",
            "epoch 40 | loss: 0.27089 | train_auc: 0.77821 | valid_auc: 0.77335 |  0:03:48s\n",
            "epoch 45 | loss: 0.27001 | train_auc: 0.78952 | valid_auc: 0.7852  |  0:04:16s\n",
            "epoch 50 | loss: 0.27015 | train_auc: 0.79805 | valid_auc: 0.79409 |  0:04:44s\n",
            "epoch 55 | loss: 0.26942 | train_auc: 0.80262 | valid_auc: 0.79857 |  0:05:11s\n",
            "epoch 60 | loss: 0.26972 | train_auc: 0.80655 | valid_auc: 0.80344 |  0:05:39s\n",
            "epoch 65 | loss: 0.26946 | train_auc: 0.80766 | valid_auc: 0.80423 |  0:06:08s\n",
            "epoch 70 | loss: 0.26902 | train_auc: 0.8095  | valid_auc: 0.80586 |  0:06:36s\n",
            "epoch 75 | loss: 0.26865 | train_auc: 0.8091  | valid_auc: 0.80509 |  0:07:03s\n",
            "epoch 80 | loss: 0.26875 | train_auc: 0.80996 | valid_auc: 0.80506 |  0:07:30s\n",
            "epoch 85 | loss: 0.26826 | train_auc: 0.80943 | valid_auc: 0.80399 |  0:07:58s\n",
            "epoch 90 | loss: 0.26953 | train_auc: 0.80834 | valid_auc: 0.80431 |  0:08:25s\n",
            "epoch 95 | loss: 0.27112 | train_auc: 0.80215 | valid_auc: 0.79986 |  0:08:52s\n",
            "Stop training because you reached max_epochs = 100 with best_epoch = 87 and best_valid_auc = 0.80614\n",
            "Best weights from best epoch are automatically used!\n",
            "Device used : cuda\n",
            "epoch 0  | loss: 0.5822  | train_auc: 0.44406 | valid_auc: 0.44375 |  0:00:06s\n",
            "epoch 5  | loss: 0.27331 | train_auc: 0.55396 | valid_auc: 0.55391 |  0:00:41s\n",
            "epoch 10 | loss: 0.27212 | train_auc: 0.59081 | valid_auc: 0.59112 |  0:01:17s\n",
            "epoch 15 | loss: 0.27051 | train_auc: 0.62552 | valid_auc: 0.6239  |  0:01:52s\n",
            "epoch 20 | loss: 0.27006 | train_auc: 0.65527 | valid_auc: 0.65221 |  0:02:26s\n",
            "epoch 25 | loss: 0.27008 | train_auc: 0.69903 | valid_auc: 0.69457 |  0:03:01s\n",
            "epoch 30 | loss: 0.27027 | train_auc: 0.71317 | valid_auc: 0.71076 |  0:03:36s\n",
            "epoch 35 | loss: 0.26922 | train_auc: 0.73246 | valid_auc: 0.72783 |  0:04:10s\n",
            "epoch 40 | loss: 0.26898 | train_auc: 0.77713 | valid_auc: 0.77149 |  0:04:45s\n",
            "epoch 45 | loss: 0.26893 | train_auc: 0.7923  | valid_auc: 0.78788 |  0:05:20s\n",
            "epoch 50 | loss: 0.26895 | train_auc: 0.79612 | valid_auc: 0.79245 |  0:05:55s\n",
            "epoch 55 | loss: 0.26872 | train_auc: 0.80698 | valid_auc: 0.80286 |  0:06:30s\n",
            "epoch 60 | loss: 0.26798 | train_auc: 0.80965 | valid_auc: 0.80425 |  0:07:05s\n",
            "epoch 65 | loss: 0.26795 | train_auc: 0.81083 | valid_auc: 0.80457 |  0:07:41s\n",
            "epoch 70 | loss: 0.26826 | train_auc: 0.81213 | valid_auc: 0.80571 |  0:08:16s\n",
            "epoch 75 | loss: 0.26803 | train_auc: 0.81246 | valid_auc: 0.80635 |  0:08:51s\n",
            "epoch 80 | loss: 0.26757 | train_auc: 0.81334 | valid_auc: 0.80693 |  0:09:27s\n",
            "epoch 85 | loss: 0.26763 | train_auc: 0.81024 | valid_auc: 0.80426 |  0:10:03s\n",
            "epoch 90 | loss: 0.26716 | train_auc: 0.81259 | valid_auc: 0.8053  |  0:10:38s\n",
            "epoch 95 | loss: 0.26662 | train_auc: 0.81364 | valid_auc: 0.80675 |  0:11:13s\n",
            "Stop training because you reached max_epochs = 100 with best_epoch = 73 and best_valid_auc = 0.80756\n",
            "Best weights from best epoch are automatically used!\n",
            "Device used : cuda\n",
            "epoch 0  | loss: 1.35862 | train_auc: 0.50162 | valid_auc: 0.50302 |  0:00:13s\n",
            "epoch 5  | loss: 0.28773 | train_auc: 0.59127 | valid_auc: 0.59139 |  0:01:21s\n",
            "epoch 10 | loss: 0.28688 | train_auc: 0.50824 | valid_auc: 0.50491 |  0:02:29s\n",
            "epoch 15 | loss: 0.30611 | train_auc: 0.65816 | valid_auc: 0.65856 |  0:03:38s\n",
            "epoch 20 | loss: 0.28106 | train_auc: 0.65998 | valid_auc: 0.65944 |  0:04:46s\n",
            "epoch 25 | loss: 0.27596 | train_auc: 0.69165 | valid_auc: 0.69047 |  0:05:54s\n",
            "epoch 30 | loss: 0.27744 | train_auc: 0.76096 | valid_auc: 0.76029 |  0:07:04s\n",
            "epoch 35 | loss: 0.27396 | train_auc: 0.76119 | valid_auc: 0.75867 |  0:08:12s\n",
            "epoch 40 | loss: 0.27487 | train_auc: 0.77247 | valid_auc: 0.77077 |  0:09:20s\n",
            "epoch 45 | loss: 0.27361 | train_auc: 0.78932 | valid_auc: 0.78565 |  0:10:29s\n",
            "epoch 50 | loss: 0.27511 | train_auc: 0.79421 | valid_auc: 0.79221 |  0:11:38s\n",
            "epoch 55 | loss: 0.27341 | train_auc: 0.7989  | valid_auc: 0.79569 |  0:12:46s\n",
            "epoch 60 | loss: 0.27484 | train_auc: 0.79756 | valid_auc: 0.79386 |  0:13:54s\n",
            "epoch 65 | loss: 0.27473 | train_auc: 0.7975  | valid_auc: 0.79585 |  0:15:02s\n",
            "epoch 70 | loss: 0.27479 | train_auc: 0.79707 | valid_auc: 0.79409 |  0:16:11s\n",
            "epoch 75 | loss: 0.27611 | train_auc: 0.79557 | valid_auc: 0.79317 |  0:17:19s\n",
            "epoch 80 | loss: 0.27475 | train_auc: 0.79816 | valid_auc: 0.79796 |  0:18:27s\n",
            "epoch 85 | loss: 0.27476 | train_auc: 0.79885 | valid_auc: 0.79631 |  0:19:35s\n",
            "epoch 90 | loss: 0.2731  | train_auc: 0.80236 | valid_auc: 0.8001  |  0:20:44s\n",
            "epoch 95 | loss: 0.27284 | train_auc: 0.80351 | valid_auc: 0.80112 |  0:21:52s\n",
            "Stop training because you reached max_epochs = 100 with best_epoch = 98 and best_valid_auc = 0.80242\n",
            "Best weights from best epoch are automatically used!\n",
            "Device used : cuda\n",
            "epoch 0  | loss: 0.87485 | train_auc: 0.41601 | valid_auc: 0.41471 |  0:00:07s\n",
            "epoch 5  | loss: 0.28124 | train_auc: 0.55056 | valid_auc: 0.54592 |  0:00:46s\n",
            "epoch 10 | loss: 0.27794 | train_auc: 0.58463 | valid_auc: 0.57799 |  0:01:24s\n",
            "epoch 15 | loss: 0.27805 | train_auc: 0.69132 | valid_auc: 0.6877  |  0:02:04s\n",
            "epoch 20 | loss: 0.27665 | train_auc: 0.67683 | valid_auc: 0.67922 |  0:02:42s\n",
            "epoch 25 | loss: 0.27677 | train_auc: 0.72963 | valid_auc: 0.73005 |  0:03:21s\n",
            "epoch 30 | loss: 0.27532 | train_auc: 0.74944 | valid_auc: 0.7487  |  0:03:59s\n",
            "epoch 35 | loss: 0.27436 | train_auc: 0.77496 | valid_auc: 0.77257 |  0:04:38s\n",
            "epoch 40 | loss: 0.27385 | train_auc: 0.77069 | valid_auc: 0.76795 |  0:05:16s\n",
            "epoch 45 | loss: 0.27305 | train_auc: 0.79111 | valid_auc: 0.7883  |  0:05:54s\n",
            "epoch 50 | loss: 0.27278 | train_auc: 0.79709 | valid_auc: 0.79583 |  0:06:34s\n",
            "epoch 55 | loss: 0.27268 | train_auc: 0.80018 | valid_auc: 0.7984  |  0:07:13s\n",
            "epoch 60 | loss: 0.27212 | train_auc: 0.80171 | valid_auc: 0.79994 |  0:07:51s\n",
            "epoch 65 | loss: 0.27265 | train_auc: 0.80379 | valid_auc: 0.80173 |  0:08:30s\n",
            "epoch 70 | loss: 0.27295 | train_auc: 0.80468 | valid_auc: 0.80183 |  0:09:08s\n",
            "epoch 75 | loss: 0.27312 | train_auc: 0.80421 | valid_auc: 0.8015  |  0:09:47s\n",
            "epoch 80 | loss: 0.27494 | train_auc: 0.79965 | valid_auc: 0.79751 |  0:10:26s\n",
            "epoch 85 | loss: 0.27304 | train_auc: 0.80056 | valid_auc: 0.79803 |  0:11:05s\n",
            "epoch 90 | loss: 0.27267 | train_auc: 0.80252 | valid_auc: 0.80034 |  0:11:43s\n",
            "epoch 95 | loss: 0.27338 | train_auc: 0.8007  | valid_auc: 0.79829 |  0:12:22s\n",
            "Stop training because you reached max_epochs = 100 with best_epoch = 67 and best_valid_auc = 0.80192\n",
            "Best weights from best epoch are automatically used!\n",
            "Device used : cuda\n",
            "epoch 0  | loss: 0.38662 | train_auc: 0.47686 | valid_auc: 0.47606 |  0:00:08s\n",
            "epoch 5  | loss: 0.27837 | train_auc: 0.59282 | valid_auc: 0.59458 |  0:00:49s\n",
            "epoch 10 | loss: 0.27564 | train_auc: 0.6171  | valid_auc: 0.61915 |  0:01:32s\n",
            "epoch 15 | loss: 0.27676 | train_auc: 0.64589 | valid_auc: 0.64236 |  0:02:14s\n",
            "epoch 20 | loss: 0.27658 | train_auc: 0.68337 | valid_auc: 0.68318 |  0:02:55s\n",
            "epoch 25 | loss: 0.27757 | train_auc: 0.69071 | valid_auc: 0.69066 |  0:03:37s\n",
            "epoch 30 | loss: 0.2741  | train_auc: 0.7292  | valid_auc: 0.72792 |  0:04:18s\n",
            "epoch 35 | loss: 0.27176 | train_auc: 0.755   | valid_auc: 0.75255 |  0:04:59s\n",
            "epoch 40 | loss: 0.27215 | train_auc: 0.77942 | valid_auc: 0.77575 |  0:05:41s\n",
            "epoch 45 | loss: 0.27118 | train_auc: 0.78424 | valid_auc: 0.78086 |  0:06:22s\n",
            "epoch 50 | loss: 0.27093 | train_auc: 0.80014 | valid_auc: 0.79578 |  0:07:04s\n",
            "epoch 55 | loss: 0.2708  | train_auc: 0.80473 | valid_auc: 0.80074 |  0:07:46s\n",
            "epoch 60 | loss: 0.27069 | train_auc: 0.80527 | valid_auc: 0.80158 |  0:08:29s\n",
            "epoch 65 | loss: 0.2705  | train_auc: 0.80693 | valid_auc: 0.8025  |  0:09:10s\n",
            "epoch 70 | loss: 0.27068 | train_auc: 0.80832 | valid_auc: 0.8032  |  0:09:53s\n",
            "epoch 75 | loss: 0.27015 | train_auc: 0.80918 | valid_auc: 0.80443 |  0:10:35s\n",
            "epoch 80 | loss: 0.2695  | train_auc: 0.80971 | valid_auc: 0.80474 |  0:11:17s\n",
            "epoch 85 | loss: 0.26897 | train_auc: 0.81038 | valid_auc: 0.80464 |  0:11:59s\n",
            "epoch 90 | loss: 0.26869 | train_auc: 0.81088 | valid_auc: 0.80592 |  0:12:40s\n",
            "epoch 95 | loss: 0.27281 | train_auc: 0.80435 | valid_auc: 0.80016 |  0:13:21s\n",
            "Stop training because you reached max_epochs = 100 with best_epoch = 90 and best_valid_auc = 0.80592\n",
            "Best weights from best epoch are automatically used!\n",
            "Device used : cuda\n",
            "epoch 0  | loss: 0.65214 | train_auc: 0.57852 | valid_auc: 0.57419 |  0:00:10s\n",
            "epoch 5  | loss: 0.28595 | train_auc: 0.55304 | valid_auc: 0.55562 |  0:01:01s\n",
            "epoch 10 | loss: 0.28275 | train_auc: 0.59184 | valid_auc: 0.5944  |  0:01:53s\n",
            "epoch 15 | loss: 0.28015 | train_auc: 0.63001 | valid_auc: 0.63158 |  0:02:44s\n",
            "epoch 20 | loss: 0.27953 | train_auc: 0.62054 | valid_auc: 0.62067 |  0:03:36s\n",
            "epoch 25 | loss: 0.27861 | train_auc: 0.68485 | valid_auc: 0.68375 |  0:04:27s\n",
            "epoch 30 | loss: 0.27949 | train_auc: 0.71769 | valid_auc: 0.71695 |  0:05:19s\n",
            "epoch 35 | loss: 0.28199 | train_auc: 0.74931 | valid_auc: 0.74668 |  0:06:11s\n",
            "epoch 40 | loss: 0.27431 | train_auc: 0.76699 | valid_auc: 0.76393 |  0:07:03s\n",
            "epoch 45 | loss: 0.27729 | train_auc: 0.78177 | valid_auc: 0.77753 |  0:07:54s\n",
            "epoch 50 | loss: 0.27991 | train_auc: 0.78006 | valid_auc: 0.77802 |  0:08:46s\n",
            "epoch 55 | loss: 0.28067 | train_auc: 0.7837  | valid_auc: 0.78126 |  0:09:37s\n",
            "epoch 60 | loss: 0.2784  | train_auc: 0.79382 | valid_auc: 0.79051 |  0:10:29s\n",
            "epoch 65 | loss: 0.27673 | train_auc: 0.79411 | valid_auc: 0.78886 |  0:11:21s\n",
            "epoch 70 | loss: 0.27842 | train_auc: 0.78591 | valid_auc: 0.78645 |  0:12:12s\n",
            "epoch 75 | loss: 0.27685 | train_auc: 0.79585 | valid_auc: 0.79547 |  0:13:03s\n",
            "epoch 80 | loss: 0.27916 | train_auc: 0.79311 | valid_auc: 0.79287 |  0:13:54s\n",
            "epoch 85 | loss: 0.27761 | train_auc: 0.79218 | valid_auc: 0.79065 |  0:14:45s\n",
            "epoch 90 | loss: 0.27632 | train_auc: 0.79787 | valid_auc: 0.79515 |  0:15:36s\n",
            "epoch 95 | loss: 0.27585 | train_auc: 0.79968 | valid_auc: 0.79636 |  0:16:27s\n",
            "Stop training because you reached max_epochs = 100 with best_epoch = 91 and best_valid_auc = 0.79867\n",
            "Best weights from best epoch are automatically used!\n",
            "Device used : cuda\n",
            "epoch 0  | loss: 0.35795 | train_auc: 0.52901 | valid_auc: 0.53215 |  0:00:05s\n",
            "epoch 5  | loss: 0.27683 | train_auc: 0.52612 | valid_auc: 0.52175 |  0:00:31s\n",
            "epoch 10 | loss: 0.27394 | train_auc: 0.54448 | valid_auc: 0.53983 |  0:00:57s\n",
            "epoch 15 | loss: 0.27297 | train_auc: 0.61646 | valid_auc: 0.61176 |  0:01:23s\n",
            "epoch 20 | loss: 0.27186 | train_auc: 0.66829 | valid_auc: 0.66591 |  0:01:50s\n",
            "epoch 25 | loss: 0.27207 | train_auc: 0.69493 | valid_auc: 0.69161 |  0:02:16s\n",
            "epoch 30 | loss: 0.27129 | train_auc: 0.73531 | valid_auc: 0.73269 |  0:02:42s\n",
            "epoch 35 | loss: 0.27107 | train_auc: 0.7382  | valid_auc: 0.73494 |  0:03:08s\n",
            "epoch 40 | loss: 0.27049 | train_auc: 0.77194 | valid_auc: 0.7669  |  0:03:35s\n",
            "epoch 45 | loss: 0.27011 | train_auc: 0.78865 | valid_auc: 0.78474 |  0:04:01s\n",
            "epoch 50 | loss: 0.27007 | train_auc: 0.79658 | valid_auc: 0.79163 |  0:04:27s\n",
            "epoch 55 | loss: 0.27007 | train_auc: 0.80525 | valid_auc: 0.80006 |  0:04:53s\n",
            "epoch 60 | loss: 0.27043 | train_auc: 0.80643 | valid_auc: 0.80139 |  0:05:19s\n",
            "epoch 65 | loss: 0.27101 | train_auc: 0.80587 | valid_auc: 0.80152 |  0:05:46s\n",
            "epoch 70 | loss: 0.26991 | train_auc: 0.80741 | valid_auc: 0.80186 |  0:06:12s\n",
            "epoch 75 | loss: 0.27058 | train_auc: 0.80824 | valid_auc: 0.80399 |  0:06:38s\n",
            "epoch 80 | loss: 0.26927 | train_auc: 0.80855 | valid_auc: 0.80359 |  0:07:05s\n",
            "epoch 85 | loss: 0.26976 | train_auc: 0.80865 | valid_auc: 0.80388 |  0:07:31s\n",
            "epoch 90 | loss: 0.26943 | train_auc: 0.80986 | valid_auc: 0.80474 |  0:07:57s\n",
            "epoch 95 | loss: 0.26941 | train_auc: 0.80912 | valid_auc: 0.8042  |  0:08:23s\n",
            "Stop training because you reached max_epochs = 100 with best_epoch = 84 and best_valid_auc = 0.80518\n",
            "Best weights from best epoch are automatically used!\n",
            "Device used : cuda\n",
            "epoch 0  | loss: 0.38079 | train_auc: 0.53825 | valid_auc: 0.53585 |  0:00:06s\n",
            "epoch 5  | loss: 0.2781  | train_auc: 0.59278 | valid_auc: 0.58928 |  0:00:40s\n",
            "epoch 10 | loss: 0.27625 | train_auc: 0.62292 | valid_auc: 0.6229  |  0:01:13s\n",
            "epoch 15 | loss: 0.27588 | train_auc: 0.64994 | valid_auc: 0.64863 |  0:01:47s\n",
            "epoch 20 | loss: 0.2728  | train_auc: 0.65501 | valid_auc: 0.65198 |  0:02:20s\n",
            "epoch 25 | loss: 0.27209 | train_auc: 0.68706 | valid_auc: 0.68528 |  0:02:54s\n",
            "epoch 30 | loss: 0.27169 | train_auc: 0.71444 | valid_auc: 0.71184 |  0:03:27s\n",
            "epoch 35 | loss: 0.27141 | train_auc: 0.75223 | valid_auc: 0.75045 |  0:04:01s\n",
            "epoch 40 | loss: 0.27093 | train_auc: 0.7693  | valid_auc: 0.76743 |  0:04:34s\n",
            "epoch 45 | loss: 0.27442 | train_auc: 0.78994 | valid_auc: 0.78973 |  0:05:07s\n",
            "epoch 50 | loss: 0.27348 | train_auc: 0.79233 | valid_auc: 0.79069 |  0:05:41s\n",
            "epoch 55 | loss: 0.27445 | train_auc: 0.79689 | valid_auc: 0.79545 |  0:06:14s\n",
            "epoch 60 | loss: 0.27506 | train_auc: 0.79609 | valid_auc: 0.79344 |  0:06:48s\n",
            "epoch 65 | loss: 0.27411 | train_auc: 0.79839 | valid_auc: 0.79669 |  0:07:22s\n",
            "epoch 70 | loss: 0.2737  | train_auc: 0.79929 | valid_auc: 0.79694 |  0:07:55s\n",
            "epoch 75 | loss: 0.27238 | train_auc: 0.80259 | valid_auc: 0.79943 |  0:08:28s\n",
            "epoch 80 | loss: 0.27233 | train_auc: 0.80251 | valid_auc: 0.80087 |  0:09:01s\n",
            "epoch 85 | loss: 0.27211 | train_auc: 0.80419 | valid_auc: 0.8023  |  0:09:35s\n",
            "epoch 90 | loss: 0.27245 | train_auc: 0.80108 | valid_auc: 0.80078 |  0:10:08s\n",
            "epoch 95 | loss: 0.27318 | train_auc: 0.8024  | valid_auc: 0.80077 |  0:10:41s\n",
            "Stop training because you reached max_epochs = 100 with best_epoch = 86 and best_valid_auc = 0.80354\n",
            "Best weights from best epoch are automatically used!\n",
            "100%|██████████| 10/10 [2:25:27<00:00, 872.71s/it, best loss: -0.90395907015074]\n"
          ]
        }
      ],
      "source": [
        "from hyperopt import fmin, tpe, hp, STATUS_OK, Trials, space_eval\n",
        "\n",
        "max_epochs = 100\n",
        "\n",
        "def objective(params):\n",
        "  clf = TabNetClassifier(\n",
        "      n_d = params[\"n_d\"],\n",
        "      n_a = params[\"n_d\"],\n",
        "      n_steps = params[\"n_steps\"],\n",
        "      gamma = params[\"gamma\"],\n",
        "      n_independent = params[\"n_independent\"], \n",
        "      n_shared = params[\"n_shared\"],\n",
        "      momentum = params[\"momentum\"],\n",
        "      clip_value = params[\"clip_value\"],\n",
        "      lambda_sparse = params[\"lambda_sparse\"],\n",
        "      optimizer_fn = torch.optim.Adam, optimizer_params = dict(lr=2e-2), \n",
        "      scheduler_fn = torch.optim.lr_scheduler.StepLR, \n",
        "      scheduler_params = {'gamma' : 0.95, 'step_size': 100},\n",
        "      device_name = \"cuda\",\n",
        "      verbose = 5\n",
        "      )\n",
        "\n",
        "  clf.fit(\n",
        "    X_train=X_train, y_train=y_train,\n",
        "    eval_set=[(X_train, y_train), (X_valid, y_valid)],\n",
        "    eval_name=['train', 'valid'],\n",
        "    max_epochs=max_epochs, patience=70,\n",
        "    batch_size=16384, virtual_batch_size=256,\n",
        "    )\n",
        "  predictions = clf.predict_proba(X_test)\n",
        "  preds_mapper = { idx : class_name for idx, class_name in enumerate(clf.classes_)}\n",
        "  y_pred = np.vectorize(preds_mapper.get)(np.argmax(predictions, axis=1))\n",
        "  return {'loss': -accuracy_score(y_test, y_pred), 'status': STATUS_OK}\n",
        "\n",
        "space = {\n",
        "  'n_d': hp.choice('n_d', [8,16,32,64]),\n",
        "  'n_steps': hp.choice('n_steps', range(3,11)),\n",
        "  'gamma': hp.quniform('gamma', 1., 2., 0.1),\n",
        "  'n_independent': hp.choice('n_independent', range(1,6)),\n",
        "  'n_shared': hp.choice('n_shared', range(1,6)),\n",
        "  'momentum': hp.uniform('momentum ', 0.01, 0.4),\n",
        "  'clip_value': hp.uniform('clip_value ', 1., 10.),\n",
        "  'lambda_sparse': hp.uniform('lambda_sparse', 1e-5, 1e-2)\n",
        "  } #space of hyperparameters that we are tuning\n",
        "\n",
        "trials = Trials()\n",
        "best = fmin(objective, space, algo=tpe.suggest, max_evals=10, trials=trials)"
      ],
      "id": "zXuCTZpxaiBI"
    },
    {
      "cell_type": "code",
      "execution_count": null,
      "metadata": {
        "colab": {
          "base_uri": "https://localhost:8080/"
        },
        "id": "CY2bmqozsgBG",
        "outputId": "65a50b98-e283-4b6b-ad64-482ccd2ceec2"
      },
      "outputs": [
        {
          "name": "stdout",
          "output_type": "stream",
          "text": [
            "Best Parameters : {'clip_value': 9.432673774482696, 'gamma': 1.7000000000000002, 'lambda_sparse': 0.0062646815230475925, 'momentum': 0.24715634334910527, 'n_d': 16, 'n_independent': 4, 'n_shared': 1, 'n_steps': 4}\n"
          ]
        }
      ],
      "source": [
        "parameters = space_eval(space, best)\n",
        "\n",
        "print(f\"Best Parameters : {parameters}\")"
      ],
      "id": "CY2bmqozsgBG"
    },
    {
      "cell_type": "code",
      "execution_count": null,
      "metadata": {
        "colab": {
          "base_uri": "https://localhost:8080/"
        },
        "id": "o3DTP3LoOd9w",
        "outputId": "83f2feaf-fc34-4d51-c083-5798eb55e02a"
      },
      "outputs": [
        {
          "name": "stdout",
          "output_type": "stream",
          "text": [
            "Device used : cuda\n",
            "epoch 0  | loss: 0.90254 | train_auc: 0.55285 | valid_auc: 0.55704 |  0:00:06s\n",
            "epoch 5  | loss: 0.28041 | train_auc: 0.58374 | valid_auc: 0.5849  |  0:00:36s\n",
            "epoch 10 | loss: 0.27643 | train_auc: 0.5798  | valid_auc: 0.57885 |  0:01:09s\n",
            "epoch 15 | loss: 0.27388 | train_auc: 0.61579 | valid_auc: 0.61445 |  0:01:39s\n",
            "epoch 20 | loss: 0.27309 | train_auc: 0.65486 | valid_auc: 0.6522  |  0:02:08s\n",
            "epoch 25 | loss: 0.27238 | train_auc: 0.69727 | valid_auc: 0.69359 |  0:02:36s\n",
            "epoch 30 | loss: 0.27205 | train_auc: 0.73447 | valid_auc: 0.73165 |  0:03:05s\n",
            "epoch 35 | loss: 0.2713  | train_auc: 0.74832 | valid_auc: 0.74411 |  0:03:33s\n",
            "epoch 40 | loss: 0.27089 | train_auc: 0.77821 | valid_auc: 0.77335 |  0:04:02s\n",
            "epoch 45 | loss: 0.27001 | train_auc: 0.78952 | valid_auc: 0.7852  |  0:04:31s\n",
            "epoch 50 | loss: 0.27015 | train_auc: 0.79805 | valid_auc: 0.79409 |  0:04:59s\n",
            "epoch 55 | loss: 0.26942 | train_auc: 0.80262 | valid_auc: 0.79857 |  0:05:28s\n",
            "epoch 60 | loss: 0.26972 | train_auc: 0.80655 | valid_auc: 0.80344 |  0:05:56s\n",
            "epoch 65 | loss: 0.26946 | train_auc: 0.80766 | valid_auc: 0.80423 |  0:06:24s\n",
            "epoch 70 | loss: 0.26902 | train_auc: 0.8095  | valid_auc: 0.80586 |  0:06:52s\n",
            "epoch 75 | loss: 0.26865 | train_auc: 0.8091  | valid_auc: 0.80509 |  0:07:20s\n",
            "epoch 80 | loss: 0.26875 | train_auc: 0.80996 | valid_auc: 0.80506 |  0:07:48s\n",
            "epoch 85 | loss: 0.26826 | train_auc: 0.80943 | valid_auc: 0.80399 |  0:08:16s\n",
            "epoch 90 | loss: 0.26953 | train_auc: 0.80834 | valid_auc: 0.80431 |  0:08:44s\n",
            "epoch 95 | loss: 0.27112 | train_auc: 0.80215 | valid_auc: 0.79986 |  0:09:12s\n",
            "epoch 100| loss: 0.27047 | train_auc: 0.80426 | valid_auc: 0.80081 |  0:09:41s\n",
            "epoch 105| loss: 0.27093 | train_auc: 0.80456 | valid_auc: 0.80153 |  0:10:09s\n",
            "epoch 110| loss: 0.26902 | train_auc: 0.80834 | valid_auc: 0.80403 |  0:10:37s\n",
            "epoch 115| loss: 0.26872 | train_auc: 0.80984 | valid_auc: 0.80654 |  0:11:06s\n",
            "epoch 120| loss: 0.26856 | train_auc: 0.81009 | valid_auc: 0.80576 |  0:11:34s\n",
            "epoch 125| loss: 0.27151 | train_auc: 0.80477 | valid_auc: 0.80178 |  0:12:02s\n",
            "epoch 130| loss: 0.2697  | train_auc: 0.80784 | valid_auc: 0.80425 |  0:12:30s\n",
            "epoch 135| loss: 0.26933 | train_auc: 0.80899 | valid_auc: 0.80595 |  0:12:59s\n",
            "epoch 140| loss: 0.26933 | train_auc: 0.80954 | valid_auc: 0.80561 |  0:13:27s\n",
            "epoch 145| loss: 0.26839 | train_auc: 0.80922 | valid_auc: 0.80428 |  0:13:56s\n",
            "epoch 150| loss: 0.26815 | train_auc: 0.81033 | valid_auc: 0.80643 |  0:14:24s\n",
            "epoch 155| loss: 0.26795 | train_auc: 0.81037 | valid_auc: 0.80621 |  0:14:53s\n",
            "epoch 160| loss: 0.26903 | train_auc: 0.80876 | valid_auc: 0.80493 |  0:15:22s\n",
            "epoch 165| loss: 0.26863 | train_auc: 0.80947 | valid_auc: 0.80656 |  0:15:50s\n",
            "epoch 170| loss: 0.26771 | train_auc: 0.81053 | valid_auc: 0.80612 |  0:16:19s\n",
            "epoch 175| loss: 0.26805 | train_auc: 0.80975 | valid_auc: 0.80532 |  0:16:47s\n",
            "epoch 180| loss: 0.27185 | train_auc: 0.80331 | valid_auc: 0.80035 |  0:17:15s\n",
            "epoch 185| loss: 0.26963 | train_auc: 0.80787 | valid_auc: 0.80486 |  0:17:43s\n",
            "\n",
            "Early stopping occurred at epoch 187 with best_epoch = 117 and best_valid_auc = 0.80725\n",
            "Best weights from best epoch are automatically used!\n"
          ]
        }
      ],
      "source": [
        "max_epochs = 200\n",
        "\n",
        "clf = TabNetClassifier(\n",
        "      n_d = parameters[\"n_d\"],\n",
        "      n_a = parameters[\"n_d\"],\n",
        "      n_steps = parameters[\"n_steps\"],\n",
        "      gamma = parameters[\"gamma\"],\n",
        "      n_independent = parameters[\"n_independent\"], \n",
        "      n_shared = parameters[\"n_shared\"],\n",
        "      momentum = parameters[\"momentum\"],\n",
        "      clip_value = parameters[\"clip_value\"],\n",
        "      lambda_sparse = parameters[\"lambda_sparse\"],\n",
        "      optimizer_fn = torch.optim.Adam, optimizer_params = dict(lr=2e-2), \n",
        "      scheduler_fn = torch.optim.lr_scheduler.StepLR, \n",
        "      scheduler_params = {'gamma' : 0.95, 'step_size': 100},\n",
        "      device_name = \"cuda\",\n",
        "      verbose = 5\n",
        "      )\n",
        "\n",
        "clf.fit(\n",
        "    X_train=X_train, y_train=y_train,\n",
        "    eval_set=[(X_train, y_train), (X_valid, y_valid)],\n",
        "    eval_name=['train', 'valid'],\n",
        "    max_epochs=max_epochs, patience=70,\n",
        "    batch_size=16384, virtual_batch_size=256,\n",
        "    )"
      ],
      "id": "o3DTP3LoOd9w"
    },
    {
      "cell_type": "code",
      "execution_count": null,
      "metadata": {
        "id": "SZRXYIpBOw0i"
      },
      "outputs": [],
      "source": [
        "predictions = clf.predict_proba(X_test)\n",
        "preds_mapper = { idx : class_name for idx, class_name in enumerate(clf.classes_)}\n",
        "y_pred = np.vectorize(preds_mapper.get)(np.argmax(predictions, axis=1)) #y_pred only contains 0 or 1\n",
        "\n",
        "xG_predictions = predictions[:,1] #x_G contains values between 0 and 1"
      ],
      "id": "SZRXYIpBOw0i"
    },
    {
      "cell_type": "code",
      "execution_count": null,
      "metadata": {
        "colab": {
          "base_uri": "https://localhost:8080/"
        },
        "id": "dMWk67iWO2LD",
        "outputId": "5eabceda-0614-49e3-c923-3cd7383122bb"
      },
      "outputs": [
        {
          "name": "stdout",
          "output_type": "stream",
          "text": [
            "MAE according to the baseline is : 0.04337650707291204\n"
          ]
        }
      ],
      "source": [
        "y_test_xG = xG_values.values[test_indices]\n",
        "MAE = abs(xG_predictions-y_test_xG).mean()\n",
        "print(f\"MAE according to the baseline is : {MAE}\")"
      ],
      "id": "dMWk67iWO2LD"
    },
    {
      "cell_type": "code",
      "execution_count": null,
      "metadata": {
        "colab": {
          "base_uri": "https://localhost:8080/"
        },
        "id": "4svR3lTKO-aL",
        "outputId": "ead6208e-72c1-4445-8f09-7aa38df83e65"
      },
      "outputs": [
        {
          "name": "stdout",
          "output_type": "stream",
          "text": [
            "Test Set Accuracy is : 0.9038732273460839\n",
            "Test Set Precision is : 0.6948658109684948\n",
            "Test Set Recall is : 0.19004308281474389\n",
            "Test Set Area Under ROC is : 0.5899906635528538\n",
            "Test Set False Positive Rate is : 0.010061755709036342\n",
            "Test Set Specificity is : 0.9899382442909637\n"
          ]
        }
      ],
      "source": [
        "conf_matrix = confusion_matrix(y_pred=y_pred, y_true=y_test)\n",
        "\n",
        "test_acc = accuracy_score(y_pred=y_pred, y_true=y_test)\n",
        "print(f\"Test Set Accuracy is : {test_acc}\")\n",
        "\n",
        "test_prec = precision_score(y_pred=y_pred, y_true=y_test)\n",
        "print(f\"Test Set Precision is : {test_prec}\")\n",
        "\n",
        "test_recall = recall_score(y_pred=y_pred, y_true=y_test)\n",
        "print(f\"Test Set Recall is : {test_recall}\")\n",
        "\n",
        "test_roc_auc = roc_auc_score(y_test,y_pred)\n",
        "print(f\"Test Set Area Under ROC is : {test_roc_auc}\")\n",
        "\n",
        "test_fp_rate = conf_matrix[0][1]/(conf_matrix[0][0]+conf_matrix[0][1])\n",
        "print(f\"Test Set False Positive Rate is : {test_fp_rate}\")\n",
        "\n",
        "test_specificity = conf_matrix[0][0]/(conf_matrix[0][0]+conf_matrix[0][1])\n",
        "print(f\"Test Set Specificity is : {test_specificity}\")"
      ],
      "id": "4svR3lTKO-aL"
    },
    {
      "cell_type": "code",
      "execution_count": null,
      "metadata": {
        "colab": {
          "base_uri": "https://localhost:8080/",
          "height": 279
        },
        "id": "6qElIkxjPCzL",
        "outputId": "3f3832c1-8bbe-4fd1-80b8-d81905fa83a9"
      },
      "outputs": [
        {
          "data": {
            "image/png": "[encoded data removed]",
            "text/plain": [
              "<Figure size 432x288 with 2 Axes>"
            ]
          },
          "metadata": {},
          "output_type": "display_data"
        }
      ],
      "source": [
        "disp = ConfusionMatrixDisplay(confusion_matrix=conf_matrix, display_labels=clf.classes_)\n",
        "disp.plot()\n",
        "plt.show()"
      ],
      "id": "6qElIkxjPCzL"
    },
    {
      "cell_type": "markdown",
      "metadata": {
        "id": "n4eWO-SjXgWR"
      },
      "source": [
        "The results are not much improved. I will try it with precision and recall scores."
      ],
      "id": "n4eWO-SjXgWR"
    },
    {
      "cell_type": "code",
      "execution_count": null,
      "metadata": {
        "colab": {
          "background_save": true,
          "base_uri": "https://localhost:8080/"
        },
        "id": "cUljecWeYi-N",
        "outputId": "d8103861-68e4-4f50-876c-33058585472b"
      },
      "outputs": [
        {
          "name": "stdout",
          "output_type": "stream",
          "text": [
            "Device used : cuda\n",
            "epoch 0  | loss: 0.39563 | train_auc: 0.40441 | valid_auc: 0.40673 |  0:00:05s\n",
            "epoch 5  | loss: 0.27525 | train_auc: 0.52575 | valid_auc: 0.52498 |  0:00:33s\n",
            "epoch 10 | loss: 0.2718  | train_auc: 0.61142 | valid_auc: 0.6121  |  0:01:01s\n",
            "epoch 15 | loss: 0.26998 | train_auc: 0.64023 | valid_auc: 0.63947 |  0:01:30s\n",
            "epoch 20 | loss: 0.27004 | train_auc: 0.66805 | valid_auc: 0.66599 |  0:01:58s\n",
            "epoch 25 | loss: 0.2699  | train_auc: 0.69452 | valid_auc: 0.69176 |  0:02:25s\n",
            "epoch 30 | loss: 0.26946 | train_auc: 0.72716 | valid_auc: 0.72417 |  0:02:53s\n",
            "epoch 35 | loss: 0.26902 | train_auc: 0.74942 | valid_auc: 0.74546 |  0:03:21s\n",
            "epoch 40 | loss: 0.2692  | train_auc: 0.77091 | valid_auc: 0.76742 |  0:03:49s\n",
            "epoch 45 | loss: 0.26928 | train_auc: 0.79161 | valid_auc: 0.78702 |  0:04:18s\n",
            "epoch 50 | loss: 0.26881 | train_auc: 0.80305 | valid_auc: 0.79819 |  0:04:46s\n",
            "epoch 55 | loss: 0.26886 | train_auc: 0.80429 | valid_auc: 0.79874 |  0:05:14s\n",
            "epoch 60 | loss: 0.26865 | train_auc: 0.81084 | valid_auc: 0.8054  |  0:05:42s\n",
            "epoch 65 | loss: 0.2684  | train_auc: 0.80954 | valid_auc: 0.8053  |  0:06:10s\n",
            "epoch 70 | loss: 0.26807 | train_auc: 0.81178 | valid_auc: 0.80666 |  0:06:38s\n",
            "epoch 75 | loss: 0.26874 | train_auc: 0.81204 | valid_auc: 0.80572 |  0:07:06s\n",
            "epoch 80 | loss: 0.26846 | train_auc: 0.81244 | valid_auc: 0.80636 |  0:07:34s\n",
            "epoch 85 | loss: 0.2682  | train_auc: 0.81217 | valid_auc: 0.80713 |  0:08:03s\n",
            "epoch 90 | loss: 0.268   | train_auc: 0.81319 | valid_auc: 0.80807 |  0:08:31s\n",
            "epoch 95 | loss: 0.26777 | train_auc: 0.81288 | valid_auc: 0.8071  |  0:08:58s\n",
            "Stop training because you reached max_epochs = 100 with best_epoch = 90 and best_valid_auc = 0.80807\n",
            "Best weights from best epoch are automatically used!\n",
            "Device used : cuda\n",
            "epoch 0  | loss: 1.48014 | train_auc: 0.46964 | valid_auc: 0.4653  |  0:00:11s\n",
            "epoch 5  | loss: 0.28504 | train_auc: 0.57168 | valid_auc: 0.57211 |  0:01:10s\n",
            "epoch 10 | loss: 0.27679 | train_auc: 0.63643 | valid_auc: 0.63774 |  0:02:10s\n",
            "epoch 15 | loss: 0.28106 | train_auc: 0.65969 | valid_auc: 0.66096 |  0:03:08s\n",
            "epoch 20 | loss: 0.27546 | train_auc: 0.68226 | valid_auc: 0.6848  |  0:04:06s\n",
            "epoch 25 | loss: 0.2783  | train_auc: 0.67977 | valid_auc: 0.67625 |  0:05:04s\n",
            "epoch 30 | loss: 0.2752  | train_auc: 0.73064 | valid_auc: 0.72612 |  0:06:03s\n",
            "epoch 35 | loss: 0.27462 | train_auc: 0.75316 | valid_auc: 0.74673 |  0:07:03s\n",
            "epoch 40 | loss: 0.27455 | train_auc: 0.75978 | valid_auc: 0.75415 |  0:08:02s\n",
            "epoch 45 | loss: 0.27511 | train_auc: 0.78859 | valid_auc: 0.78493 |  0:09:01s\n",
            "epoch 50 | loss: 0.27293 | train_auc: 0.79433 | valid_auc: 0.79265 |  0:09:59s\n",
            "epoch 55 | loss: 0.27377 | train_auc: 0.79381 | valid_auc: 0.7902  |  0:10:59s\n",
            "epoch 60 | loss: 0.27183 | train_auc: 0.80075 | valid_auc: 0.7986  |  0:11:58s\n",
            "epoch 65 | loss: 0.27335 | train_auc: 0.80245 | valid_auc: 0.79878 |  0:12:57s\n",
            "epoch 70 | loss: 0.27282 | train_auc: 0.80339 | valid_auc: 0.80024 |  0:13:55s\n",
            "epoch 75 | loss: 0.27332 | train_auc: 0.80129 | valid_auc: 0.7987  |  0:14:54s\n",
            "epoch 80 | loss: 0.27177 | train_auc: 0.80446 | valid_auc: 0.80173 |  0:15:52s\n",
            "epoch 85 | loss: 0.27451 | train_auc: 0.7998  | valid_auc: 0.79702 |  0:16:49s\n",
            "epoch 90 | loss: 0.27339 | train_auc: 0.80109 | valid_auc: 0.79926 |  0:17:47s\n",
            "epoch 95 | loss: 0.27374 | train_auc: 0.80144 | valid_auc: 0.79869 |  0:18:45s\n",
            "Stop training because you reached max_epochs = 100 with best_epoch = 80 and best_valid_auc = 0.80173\n",
            "Best weights from best epoch are automatically used!\n",
            "Device used : cuda\n",
            "epoch 0  | loss: 1.51379 | train_auc: 0.4862  | valid_auc: 0.48621 |  0:00:09s\n",
            "epoch 5  | loss: 0.28652 | train_auc: 0.5648  | valid_auc: 0.56505 |  0:00:58s\n",
            "epoch 10 | loss: 0.28265 | train_auc: 0.57883 | valid_auc: 0.58352 |  0:01:46s\n",
            "epoch 15 | loss: 0.28121 | train_auc: 0.61671 | valid_auc: 0.61724 |  0:02:34s\n",
            "epoch 20 | loss: 0.28001 | train_auc: 0.63888 | valid_auc: 0.6338  |  0:03:23s\n",
            "epoch 25 | loss: 0.27563 | train_auc: 0.69348 | valid_auc: 0.69223 |  0:04:12s\n",
            "epoch 30 | loss: 0.28184 | train_auc: 0.69303 | valid_auc: 0.68922 |  0:05:00s\n",
            "epoch 35 | loss: 0.28271 | train_auc: 0.73877 | valid_auc: 0.73392 |  0:05:48s\n",
            "epoch 40 | loss: 0.27846 | train_auc: 0.75642 | valid_auc: 0.75226 |  0:06:37s\n",
            "epoch 45 | loss: 0.27607 | train_auc: 0.787   | valid_auc: 0.78415 |  0:07:25s\n",
            "epoch 50 | loss: 0.28279 | train_auc: 0.78538 | valid_auc: 0.78293 |  0:08:13s\n",
            "epoch 55 | loss: 0.27991 | train_auc: 0.79032 | valid_auc: 0.78822 |  0:09:01s\n",
            "epoch 60 | loss: 0.27505 | train_auc: 0.79552 | valid_auc: 0.79489 |  0:09:49s\n",
            "epoch 65 | loss: 0.27599 | train_auc: 0.79664 | valid_auc: 0.7954  |  0:10:37s\n",
            "epoch 70 | loss: 0.27465 | train_auc: 0.79749 | valid_auc: 0.79417 |  0:11:25s\n",
            "epoch 75 | loss: 0.27426 | train_auc: 0.79887 | valid_auc: 0.79751 |  0:12:12s\n",
            "epoch 80 | loss: 0.2725  | train_auc: 0.79941 | valid_auc: 0.79711 |  0:13:00s\n",
            "epoch 85 | loss: 0.27554 | train_auc: 0.79567 | valid_auc: 0.79619 |  0:13:48s\n",
            "epoch 90 | loss: 0.27575 | train_auc: 0.79592 | valid_auc: 0.79649 |  0:14:36s\n",
            "epoch 95 | loss: 0.27266 | train_auc: 0.8015  | valid_auc: 0.79969 |  0:15:24s\n",
            "Stop training because you reached max_epochs = 100 with best_epoch = 99 and best_valid_auc = 0.80086\n",
            "Best weights from best epoch are automatically used!\n",
            "Device used : cuda\n",
            "epoch 0  | loss: 0.32609 | train_auc: 0.50969 | valid_auc: 0.5061  |  0:00:08s\n",
            "epoch 5  | loss: 0.27355 | train_auc: 0.53383 | valid_auc: 0.53213 |  0:00:53s\n",
            "epoch 10 | loss: 0.27174 | train_auc: 0.57788 | valid_auc: 0.57719 |  0:01:38s\n",
            "epoch 15 | loss: 0.27064 | train_auc: 0.61241 | valid_auc: 0.61369 |  0:02:23s\n",
            "epoch 20 | loss: 0.27076 | train_auc: 0.66579 | valid_auc: 0.66528 |  0:03:08s\n",
            "epoch 25 | loss: 0.27011 | train_auc: 0.68731 | valid_auc: 0.68711 |  0:03:52s\n",
            "epoch 30 | loss: 0.27008 | train_auc: 0.71868 | valid_auc: 0.71643 |  0:04:38s\n",
            "epoch 35 | loss: 0.26958 | train_auc: 0.75018 | valid_auc: 0.74719 |  0:05:23s\n",
            "epoch 40 | loss: 0.2696  | train_auc: 0.76279 | valid_auc: 0.76029 |  0:06:09s\n",
            "epoch 45 | loss: 0.26871 | train_auc: 0.78636 | valid_auc: 0.78232 |  0:06:54s\n",
            "epoch 50 | loss: 0.26817 | train_auc: 0.79948 | valid_auc: 0.79498 |  0:07:39s\n",
            "epoch 55 | loss: 0.26792 | train_auc: 0.80729 | valid_auc: 0.80169 |  0:08:24s\n",
            "epoch 60 | loss: 0.26791 | train_auc: 0.81099 | valid_auc: 0.8066  |  0:09:09s\n",
            "epoch 65 | loss: 0.2679  | train_auc: 0.81217 | valid_auc: 0.80694 |  0:09:54s\n",
            "epoch 70 | loss: 0.26783 | train_auc: 0.8127  | valid_auc: 0.80826 |  0:10:39s\n",
            "epoch 75 | loss: 0.26768 | train_auc: 0.8132  | valid_auc: 0.80777 |  0:11:23s\n",
            "epoch 80 | loss: 0.26786 | train_auc: 0.81375 | valid_auc: 0.80785 |  0:12:10s\n",
            "epoch 85 | loss: 0.26777 | train_auc: 0.81312 | valid_auc: 0.80768 |  0:12:54s\n",
            "epoch 90 | loss: 0.26778 | train_auc: 0.81327 | valid_auc: 0.8082  |  0:13:39s\n",
            "epoch 95 | loss: 0.26789 | train_auc: 0.81305 | valid_auc: 0.80787 |  0:14:24s\n",
            "Stop training because you reached max_epochs = 100 with best_epoch = 98 and best_valid_auc = 0.80906\n",
            "Best weights from best epoch are automatically used!\n",
            "Device used : cuda\n",
            "epoch 0  | loss: 0.86879 | train_auc: 0.47451 | valid_auc: 0.47522 |  0:00:06s\n",
            "epoch 5  | loss: 0.28542 | train_auc: 0.59084 | valid_auc: 0.59095 |  0:00:39s\n",
            "epoch 10 | loss: 0.28148 | train_auc: 0.59929 | valid_auc: 0.59182 |  0:01:12s\n",
            "epoch 15 | loss: 0.27831 | train_auc: 0.66532 | valid_auc: 0.65927 |  0:01:45s\n",
            "epoch 20 | loss: 0.2779  | train_auc: 0.66396 | valid_auc: 0.66356 |  0:02:18s\n",
            "epoch 25 | loss: 0.27582 | train_auc: 0.71768 | valid_auc: 0.71545 |  0:02:52s\n",
            "epoch 30 | loss: 0.27403 | train_auc: 0.72854 | valid_auc: 0.72802 |  0:03:25s\n",
            "epoch 35 | loss: 0.27349 | train_auc: 0.74446 | valid_auc: 0.74213 |  0:03:57s\n",
            "epoch 40 | loss: 0.27346 | train_auc: 0.75662 | valid_auc: 0.75361 |  0:04:30s\n",
            "epoch 45 | loss: 0.27109 | train_auc: 0.78902 | valid_auc: 0.78701 |  0:05:03s\n",
            "epoch 50 | loss: 0.27066 | train_auc: 0.7958  | valid_auc: 0.79211 |  0:05:35s\n",
            "epoch 55 | loss: 0.27076 | train_auc: 0.80251 | valid_auc: 0.79966 |  0:06:08s\n",
            "epoch 60 | loss: 0.27175 | train_auc: 0.80328 | valid_auc: 0.79966 |  0:06:42s\n",
            "epoch 65 | loss: 0.27057 | train_auc: 0.80596 | valid_auc: 0.80179 |  0:07:15s\n",
            "epoch 70 | loss: 0.27016 | train_auc: 0.80696 | valid_auc: 0.80364 |  0:07:48s\n",
            "epoch 75 | loss: 0.27033 | train_auc: 0.80765 | valid_auc: 0.80405 |  0:08:21s\n",
            "epoch 80 | loss: 0.27029 | train_auc: 0.8072  | valid_auc: 0.80352 |  0:08:54s\n",
            "epoch 85 | loss: 0.27002 | train_auc: 0.80844 | valid_auc: 0.8043  |  0:09:26s\n",
            "epoch 90 | loss: 0.27014 | train_auc: 0.80752 | valid_auc: 0.80416 |  0:10:00s\n",
            "epoch 95 | loss: 0.27028 | train_auc: 0.80771 | valid_auc: 0.8037  |  0:10:33s\n",
            "Stop training because you reached max_epochs = 100 with best_epoch = 89 and best_valid_auc = 0.80467\n",
            "Best weights from best epoch are automatically used!\n",
            "Device used : cuda\n",
            "epoch 0  | loss: 0.78396 | train_auc: 0.55916 | valid_auc: 0.55504 |  0:00:08s\n",
            "epoch 5  | loss: 0.28242 | train_auc: 0.58403 | valid_auc: 0.58659 |  0:00:52s\n",
            "epoch 10 | loss: 0.27896 | train_auc: 0.59282 | valid_auc: 0.59702 |  0:01:36s\n",
            "epoch 15 | loss: 0.27765 | train_auc: 0.60224 | valid_auc: 0.60403 |  0:02:20s\n",
            "epoch 20 | loss: 0.2755  | train_auc: 0.65247 | valid_auc: 0.65315 |  0:03:06s\n",
            "epoch 25 | loss: 0.27647 | train_auc: 0.6861  | valid_auc: 0.68731 |  0:03:51s\n",
            "epoch 30 | loss: 0.27589 | train_auc: 0.73425 | valid_auc: 0.7336  |  0:04:35s\n",
            "epoch 35 | loss: 0.27722 | train_auc: 0.7646  | valid_auc: 0.76322 |  0:05:19s\n",
            "epoch 40 | loss: 0.27561 | train_auc: 0.77581 | valid_auc: 0.77288 |  0:06:04s\n",
            "epoch 45 | loss: 0.2747  | train_auc: 0.78593 | valid_auc: 0.78336 |  0:06:48s\n",
            "epoch 50 | loss: 0.27368 | train_auc: 0.79902 | valid_auc: 0.79579 |  0:07:31s\n",
            "epoch 55 | loss: 0.27294 | train_auc: 0.8041  | valid_auc: 0.80122 |  0:08:15s\n",
            "epoch 60 | loss: 0.27189 | train_auc: 0.80532 | valid_auc: 0.80163 |  0:08:59s\n",
            "epoch 65 | loss: 0.27238 | train_auc: 0.80612 | valid_auc: 0.80137 |  0:09:43s\n",
            "epoch 70 | loss: 0.27203 | train_auc: 0.80838 | valid_auc: 0.80401 |  0:10:27s\n",
            "epoch 75 | loss: 0.27147 | train_auc: 0.80902 | valid_auc: 0.80398 |  0:11:11s\n",
            "epoch 80 | loss: 0.2722  | train_auc: 0.80764 | valid_auc: 0.8033  |  0:11:54s\n",
            "epoch 85 | loss: 0.27347 | train_auc: 0.80523 | valid_auc: 0.80255 |  0:12:38s\n",
            "epoch 90 | loss: 0.27249 | train_auc: 0.80762 | valid_auc: 0.80383 |  0:13:22s\n",
            "epoch 95 | loss: 0.27085 | train_auc: 0.80832 | valid_auc: 0.80502 |  0:14:06s\n",
            "Stop training because you reached max_epochs = 100 with best_epoch = 99 and best_valid_auc = 0.80581\n",
            "Best weights from best epoch are automatically used!\n",
            "Device used : cuda\n",
            "epoch 0  | loss: 0.38517 | train_auc: 0.48764 | valid_auc: 0.48494 |  0:00:12s\n",
            "epoch 5  | loss: 0.27466 | train_auc: 0.53351 | valid_auc: 0.53053 |  0:01:12s\n",
            "epoch 10 | loss: 0.27189 | train_auc: 0.59925 | valid_auc: 0.59927 |  0:02:14s\n",
            "epoch 15 | loss: 0.27168 | train_auc: 0.6529  | valid_auc: 0.65062 |  0:03:16s\n",
            "epoch 20 | loss: 0.26989 | train_auc: 0.66392 | valid_auc: 0.66193 |  0:04:16s\n",
            "epoch 25 | loss: 0.27075 | train_auc: 0.6928  | valid_auc: 0.68934 |  0:05:17s\n",
            "epoch 30 | loss: 0.26986 | train_auc: 0.71517 | valid_auc: 0.712   |  0:06:19s\n",
            "epoch 35 | loss: 0.27059 | train_auc: 0.75169 | valid_auc: 0.74868 |  0:07:19s\n",
            "epoch 40 | loss: 0.26925 | train_auc: 0.76749 | valid_auc: 0.76247 |  0:08:19s\n",
            "epoch 45 | loss: 0.26925 | train_auc: 0.78868 | valid_auc: 0.78374 |  0:09:21s\n",
            "epoch 50 | loss: 0.2691  | train_auc: 0.79863 | valid_auc: 0.79322 |  0:10:22s\n",
            "epoch 55 | loss: 0.26852 | train_auc: 0.81044 | valid_auc: 0.80404 |  0:11:22s\n",
            "epoch 60 | loss: 0.26893 | train_auc: 0.81077 | valid_auc: 0.80362 |  0:12:23s\n",
            "epoch 65 | loss: 0.26886 | train_auc: 0.81262 | valid_auc: 0.80631 |  0:13:25s\n",
            "epoch 70 | loss: 0.26862 | train_auc: 0.81464 | valid_auc: 0.80667 |  0:14:26s\n",
            "epoch 75 | loss: 0.26824 | train_auc: 0.8157  | valid_auc: 0.80721 |  0:15:26s\n",
            "epoch 80 | loss: 0.26886 | train_auc: 0.81533 | valid_auc: 0.8076  |  0:16:27s\n",
            "epoch 85 | loss: 0.26839 | train_auc: 0.81427 | valid_auc: 0.80656 |  0:17:28s\n",
            "epoch 90 | loss: 0.26828 | train_auc: 0.81512 | valid_auc: 0.80692 |  0:18:28s\n",
            "epoch 95 | loss: 0.26838 | train_auc: 0.81558 | valid_auc: 0.80704 |  0:19:28s\n",
            "Stop training because you reached max_epochs = 100 with best_epoch = 88 and best_valid_auc = 0.80837\n",
            "Best weights from best epoch are automatically used!\n",
            "Device used : cuda\n",
            "epoch 0  | loss: 0.44574 | train_auc: 0.43199 | valid_auc: 0.43284 |  0:00:10s\n",
            "epoch 5  | loss: 0.28285 | train_auc: 0.5355  | valid_auc: 0.53682 |  0:01:04s\n",
            "epoch 10 | loss: 0.28156 | train_auc: 0.59925 | valid_auc: 0.6     |  0:01:57s\n",
            "epoch 15 | loss: 0.28279 | train_auc: 0.62179 | valid_auc: 0.62213 |  0:02:50s\n",
            "epoch 20 | loss: 0.27994 | train_auc: 0.65971 | valid_auc: 0.66242 |  0:03:46s\n",
            "epoch 25 | loss: 0.28236 | train_auc: 0.6605  | valid_auc: 0.66226 |  0:04:40s\n",
            "epoch 30 | loss: 0.28054 | train_auc: 0.73132 | valid_auc: 0.73098 |  0:05:34s\n",
            "epoch 35 | loss: 0.27581 | train_auc: 0.76277 | valid_auc: 0.75962 |  0:06:27s\n",
            "epoch 40 | loss: 0.27607 | train_auc: 0.77906 | valid_auc: 0.77629 |  0:07:21s\n",
            "epoch 45 | loss: 0.27606 | train_auc: 0.78448 | valid_auc: 0.78116 |  0:08:14s\n",
            "epoch 50 | loss: 0.27412 | train_auc: 0.79633 | valid_auc: 0.79288 |  0:09:07s\n",
            "epoch 55 | loss: 0.27776 | train_auc: 0.78893 | valid_auc: 0.78644 |  0:09:59s\n",
            "epoch 60 | loss: 0.2767  | train_auc: 0.7902  | valid_auc: 0.786   |  0:10:53s\n",
            "epoch 65 | loss: 0.27688 | train_auc: 0.7957  | valid_auc: 0.79406 |  0:11:45s\n",
            "epoch 70 | loss: 0.27615 | train_auc: 0.79687 | valid_auc: 0.79574 |  0:12:37s\n",
            "epoch 75 | loss: 0.27513 | train_auc: 0.79931 | valid_auc: 0.79589 |  0:13:30s\n",
            "epoch 80 | loss: 0.27444 | train_auc: 0.80154 | valid_auc: 0.79894 |  0:14:23s\n",
            "epoch 85 | loss: 0.27407 | train_auc: 0.80312 | valid_auc: 0.80014 |  0:15:16s\n",
            "epoch 90 | loss: 0.27387 | train_auc: 0.80242 | valid_auc: 0.79877 |  0:16:09s\n",
            "epoch 95 | loss: 0.2734  | train_auc: 0.80439 | valid_auc: 0.80091 |  0:17:02s\n",
            "Stop training because you reached max_epochs = 100 with best_epoch = 97 and best_valid_auc = 0.80172\n",
            "Best weights from best epoch are automatically used!\n",
            "Device used : cuda\n",
            "epoch 0  | loss: 1.24196 | train_auc: 0.58967 | valid_auc: 0.59342 |  0:00:07s\n",
            "epoch 5  | loss: 0.27923 | train_auc: 0.51855 | valid_auc: 0.5197  |  0:00:43s\n",
            "epoch 10 | loss: 0.27567 | train_auc: 0.59426 | valid_auc: 0.59294 |  0:01:19s\n",
            "epoch 15 | loss: 0.27254 | train_auc: 0.6112  | valid_auc: 0.60896 |  0:01:56s\n",
            "epoch 20 | loss: 0.27357 | train_auc: 0.68066 | valid_auc: 0.67975 |  0:02:33s\n",
            "epoch 25 | loss: 0.27428 | train_auc: 0.69593 | valid_auc: 0.69302 |  0:03:10s\n",
            "epoch 30 | loss: 0.2722  | train_auc: 0.71985 | valid_auc: 0.71806 |  0:03:47s\n",
            "epoch 35 | loss: 0.27185 | train_auc: 0.74236 | valid_auc: 0.74092 |  0:04:24s\n",
            "epoch 40 | loss: 0.27786 | train_auc: 0.7699  | valid_auc: 0.76989 |  0:05:00s\n",
            "epoch 45 | loss: 0.27191 | train_auc: 0.78377 | valid_auc: 0.78148 |  0:05:37s\n",
            "epoch 50 | loss: 0.27528 | train_auc: 0.79223 | valid_auc: 0.78999 |  0:06:14s\n",
            "epoch 55 | loss: 0.27675 | train_auc: 0.78835 | valid_auc: 0.78532 |  0:06:51s\n",
            "epoch 60 | loss: 0.2744  | train_auc: 0.79611 | valid_auc: 0.79249 |  0:07:28s\n",
            "epoch 65 | loss: 0.27593 | train_auc: 0.79569 | valid_auc: 0.79245 |  0:08:05s\n",
            "epoch 70 | loss: 0.27538 | train_auc: 0.79669 | valid_auc: 0.79427 |  0:08:41s\n",
            "epoch 75 | loss: 0.27685 | train_auc: 0.79538 | valid_auc: 0.79358 |  0:09:18s\n",
            "epoch 80 | loss: 0.27418 | train_auc: 0.79917 | valid_auc: 0.79766 |  0:09:55s\n",
            "epoch 85 | loss: 0.28406 | train_auc: 0.77823 | valid_auc: 0.77617 |  0:10:32s\n",
            "epoch 90 | loss: 0.27847 | train_auc: 0.79135 | valid_auc: 0.78802 |  0:11:09s\n",
            "epoch 95 | loss: 0.28278 | train_auc: 0.78637 | valid_auc: 0.78532 |  0:11:45s\n",
            "Stop training because you reached max_epochs = 100 with best_epoch = 80 and best_valid_auc = 0.79766\n",
            "Best weights from best epoch are automatically used!\n",
            "Device used : cuda\n",
            "epoch 0  | loss: 0.56357 | train_auc: 0.51031 | valid_auc: 0.50776 |  0:00:13s\n",
            "epoch 5  | loss: 0.28849 | train_auc: 0.53576 | valid_auc: 0.53458 |  0:01:19s\n",
            "epoch 10 | loss: 0.28098 | train_auc: 0.58427 | valid_auc: 0.57654 |  0:02:23s\n",
            "epoch 15 | loss: 0.27722 | train_auc: 0.63479 | valid_auc: 0.63373 |  0:03:28s\n",
            "epoch 20 | loss: 0.27752 | train_auc: 0.67494 | valid_auc: 0.67109 |  0:04:34s\n",
            "epoch 25 | loss: 0.27572 | train_auc: 0.70485 | valid_auc: 0.70251 |  0:05:38s\n",
            "epoch 30 | loss: 0.27538 | train_auc: 0.72633 | valid_auc: 0.72417 |  0:06:43s\n",
            "epoch 35 | loss: 0.27334 | train_auc: 0.75188 | valid_auc: 0.75017 |  0:07:49s\n",
            "epoch 40 | loss: 0.27555 | train_auc: 0.77912 | valid_auc: 0.77651 |  0:08:53s\n",
            "epoch 45 | loss: 0.27935 | train_auc: 0.7731  | valid_auc: 0.77243 |  0:09:58s\n",
            "epoch 50 | loss: 0.27529 | train_auc: 0.79252 | valid_auc: 0.79155 |  0:11:03s\n",
            "epoch 55 | loss: 0.27262 | train_auc: 0.80047 | valid_auc: 0.79844 |  0:12:09s\n",
            "epoch 60 | loss: 0.27307 | train_auc: 0.79981 | valid_auc: 0.79893 |  0:13:13s\n",
            "epoch 65 | loss: 0.27336 | train_auc: 0.79703 | valid_auc: 0.79692 |  0:14:19s\n",
            "epoch 70 | loss: 0.2844  | train_auc: 0.77455 | valid_auc: 0.77555 |  0:15:23s\n",
            "epoch 75 | loss: 0.28878 | train_auc: 0.78143 | valid_auc: 0.78096 |  0:16:29s\n",
            "epoch 80 | loss: 0.28068 | train_auc: 0.78523 | valid_auc: 0.78455 |  0:17:34s\n",
            "epoch 85 | loss: 0.28409 | train_auc: 0.78796 | valid_auc: 0.78556 |  0:18:38s\n",
            "epoch 90 | loss: 0.28535 | train_auc: 0.78454 | valid_auc: 0.78334 |  0:19:43s\n",
            "epoch 95 | loss: 0.27949 | train_auc: 0.7879  | valid_auc: 0.78638 |  0:20:49s\n",
            "Stop training because you reached max_epochs = 100 with best_epoch = 57 and best_valid_auc = 0.80003\n",
            "Best weights from best epoch are automatically used!\n",
            "100%|██████████| 10/10 [2:38:34<00:00, 951.45s/it, best loss: -0.7719950433705081] \n"
          ]
        }
      ],
      "source": [
        "from hyperopt import fmin, tpe, hp, STATUS_OK, Trials, space_eval\n",
        "\n",
        "max_epochs = 100\n",
        "\n",
        "def objective(params):\n",
        "  clf = TabNetClassifier(\n",
        "      n_d = params[\"n_d\"],\n",
        "      n_a = params[\"n_d\"],\n",
        "      n_steps = params[\"n_steps\"],\n",
        "      gamma = params[\"gamma\"],\n",
        "      n_independent = params[\"n_independent\"], \n",
        "      n_shared = params[\"n_shared\"],\n",
        "      momentum = params[\"momentum\"],\n",
        "      clip_value = params[\"clip_value\"],\n",
        "      lambda_sparse = params[\"lambda_sparse\"],\n",
        "      optimizer_fn = torch.optim.Adam, optimizer_params = dict(lr=2e-2), \n",
        "      scheduler_fn = torch.optim.lr_scheduler.StepLR, \n",
        "      scheduler_params = {'gamma' : 0.95, 'step_size': 100},\n",
        "      device_name = \"cuda\",\n",
        "      verbose = 5\n",
        "      )\n",
        "\n",
        "  clf.fit(\n",
        "    X_train=X_train, y_train=y_train,\n",
        "    eval_set=[(X_train, y_train), (X_valid, y_valid)],\n",
        "    eval_name=['train', 'valid'],\n",
        "    max_epochs=max_epochs, patience=70,\n",
        "    batch_size=16384, virtual_batch_size=256,\n",
        "    )\n",
        "  predictions = clf.predict_proba(X_test)\n",
        "  preds_mapper = { idx : class_name for idx, class_name in enumerate(clf.classes_)}\n",
        "  y_pred = np.vectorize(preds_mapper.get)(np.argmax(predictions, axis=1))\n",
        "  return {'loss': -precision_score(y_test, y_pred), 'status': STATUS_OK}\n",
        "\n",
        "space = {\n",
        "  'n_d': hp.choice('n_d', [8,16,32,64]),\n",
        "  'n_steps': hp.choice('n_steps', range(3,11)),\n",
        "  'gamma': hp.quniform('gamma', 1., 2., 0.1),\n",
        "  'n_independent': hp.choice('n_independent', range(1,6)),\n",
        "  'n_shared': hp.choice('n_shared', range(1,6)),\n",
        "  'momentum': hp.uniform('momentum ', 0.01, 0.4),\n",
        "  'clip_value': hp.uniform('clip_value ', 1., 10.),\n",
        "  'lambda_sparse': hp.uniform('lambda_sparse', 1e-5, 1e-2)\n",
        "  } #space of hyperparameters that we are tuning\n",
        "\n",
        "trials = Trials()\n",
        "best = fmin(objective, space, algo=tpe.suggest, max_evals=10, trials=trials)"
      ],
      "id": "cUljecWeYi-N"
    },
    {
      "cell_type": "code",
      "execution_count": null,
      "metadata": {
        "colab": {
          "background_save": true,
          "base_uri": "https://localhost:8080/"
        },
        "id": "Ia-auR5GYi-P",
        "outputId": "dae9b0dd-e39b-45db-81cc-5cf3b9efbe71"
      },
      "outputs": [
        {
          "name": "stdout",
          "output_type": "stream",
          "text": [
            "Best Parameters : {'clip_value': 1.8527282511745433, 'gamma': 1.9000000000000001, 'lambda_sparse': 0.003597124290957617, 'momentum': 0.26737350533263066, 'n_d': 32, 'n_independent': 4, 'n_shared': 4, 'n_steps': 9}\n"
          ]
        }
      ],
      "source": [
        "parameters = space_eval(space, best)\n",
        "\n",
        "print(f\"Best Parameters : {parameters}\")"
      ],
      "id": "Ia-auR5GYi-P"
    },
    {
      "cell_type": "code",
      "execution_count": null,
      "metadata": {
        "colab": {
          "background_save": true,
          "base_uri": "https://localhost:8080/"
        },
        "id": "G_QZBKX5Yi-Q",
        "outputId": "30a352b9-be3c-4a6a-cf88-e62f8a3a4029"
      },
      "outputs": [
        {
          "name": "stdout",
          "output_type": "stream",
          "text": [
            "Device used : cuda\n",
            "epoch 0  | loss: 0.56357 | train_auc: 0.51031 | valid_auc: 0.50776 |  0:00:12s\n",
            "epoch 5  | loss: 0.28849 | train_auc: 0.53576 | valid_auc: 0.53458 |  0:01:17s\n",
            "epoch 10 | loss: 0.28098 | train_auc: 0.58427 | valid_auc: 0.57654 |  0:02:23s\n",
            "epoch 15 | loss: 0.27722 | train_auc: 0.63479 | valid_auc: 0.63373 |  0:03:28s\n",
            "epoch 20 | loss: 0.27752 | train_auc: 0.67494 | valid_auc: 0.67109 |  0:04:33s\n",
            "epoch 25 | loss: 0.27572 | train_auc: 0.70485 | valid_auc: 0.70251 |  0:05:38s\n",
            "epoch 30 | loss: 0.27538 | train_auc: 0.72633 | valid_auc: 0.72417 |  0:06:44s\n",
            "epoch 35 | loss: 0.27334 | train_auc: 0.75188 | valid_auc: 0.75017 |  0:07:49s\n",
            "epoch 40 | loss: 0.27555 | train_auc: 0.77912 | valid_auc: 0.77651 |  0:08:54s\n",
            "epoch 45 | loss: 0.27935 | train_auc: 0.7731  | valid_auc: 0.77243 |  0:09:59s\n",
            "epoch 50 | loss: 0.27529 | train_auc: 0.79252 | valid_auc: 0.79155 |  0:11:04s\n",
            "epoch 55 | loss: 0.27262 | train_auc: 0.80047 | valid_auc: 0.79844 |  0:12:10s\n",
            "epoch 60 | loss: 0.27307 | train_auc: 0.79981 | valid_auc: 0.79893 |  0:13:15s\n",
            "epoch 65 | loss: 0.27336 | train_auc: 0.79703 | valid_auc: 0.79692 |  0:14:20s\n",
            "epoch 70 | loss: 0.2844  | train_auc: 0.77455 | valid_auc: 0.77555 |  0:15:26s\n",
            "epoch 75 | loss: 0.28878 | train_auc: 0.78143 | valid_auc: 0.78096 |  0:16:31s\n",
            "epoch 80 | loss: 0.28068 | train_auc: 0.78523 | valid_auc: 0.78455 |  0:17:35s\n",
            "epoch 85 | loss: 0.28409 | train_auc: 0.78796 | valid_auc: 0.78556 |  0:18:41s\n",
            "epoch 90 | loss: 0.28535 | train_auc: 0.78454 | valid_auc: 0.78334 |  0:19:45s\n",
            "epoch 95 | loss: 0.27949 | train_auc: 0.7879  | valid_auc: 0.78638 |  0:20:50s\n",
            "epoch 100| loss: 0.27669 | train_auc: 0.79759 | valid_auc: 0.79571 |  0:21:56s\n",
            "epoch 105| loss: 0.27962 | train_auc: 0.79415 | valid_auc: 0.7925  |  0:23:00s\n",
            "epoch 110| loss: 0.27725 | train_auc: 0.79494 | valid_auc: 0.7934  |  0:24:05s\n",
            "epoch 115| loss: 0.27572 | train_auc: 0.79684 | valid_auc: 0.796   |  0:25:10s\n",
            "epoch 120| loss: 0.27761 | train_auc: 0.79582 | valid_auc: 0.79401 |  0:26:14s\n",
            "epoch 125| loss: 0.2771  | train_auc: 0.79592 | valid_auc: 0.79496 |  0:27:20s\n",
            "\n",
            "Early stopping occurred at epoch 127 with best_epoch = 57 and best_valid_auc = 0.80003\n",
            "Best weights from best epoch are automatically used!\n"
          ]
        }
      ],
      "source": [
        "max_epochs = 200\n",
        "\n",
        "clf = TabNetClassifier(\n",
        "      n_d = parameters[\"n_d\"],\n",
        "      n_a = parameters[\"n_d\"],\n",
        "      n_steps = parameters[\"n_steps\"],\n",
        "      gamma = parameters[\"gamma\"],\n",
        "      n_independent = parameters[\"n_independent\"], \n",
        "      n_shared = parameters[\"n_shared\"],\n",
        "      momentum = parameters[\"momentum\"],\n",
        "      clip_value = parameters[\"clip_value\"],\n",
        "      lambda_sparse = parameters[\"lambda_sparse\"],\n",
        "      optimizer_fn = torch.optim.Adam, optimizer_params = dict(lr=2e-2), \n",
        "      scheduler_fn = torch.optim.lr_scheduler.StepLR, \n",
        "      scheduler_params = {'gamma' : 0.95, 'step_size': 100},\n",
        "      device_name = \"cuda\",\n",
        "      verbose = 5\n",
        "      )\n",
        "\n",
        "clf.fit(\n",
        "    X_train=X_train, y_train=y_train,\n",
        "    eval_set=[(X_train, y_train), (X_valid, y_valid)],\n",
        "    eval_name=['train', 'valid'],\n",
        "    max_epochs=max_epochs, patience=70,\n",
        "    batch_size=16384, virtual_batch_size=256,\n",
        "    )"
      ],
      "id": "G_QZBKX5Yi-Q"
    },
    {
      "cell_type": "code",
      "execution_count": null,
      "metadata": {
        "colab": {
          "background_save": true
        },
        "id": "LNVw70-wYi-S"
      },
      "outputs": [],
      "source": [
        "predictions = clf.predict_proba(X_test)\n",
        "preds_mapper = { idx : class_name for idx, class_name in enumerate(clf.classes_)}\n",
        "y_pred = np.vectorize(preds_mapper.get)(np.argmax(predictions, axis=1)) #y_pred only contains 0 or 1\n",
        "\n",
        "xG_predictions = predictions[:,1] #x_G contains values between 0 and 1"
      ],
      "id": "LNVw70-wYi-S"
    },
    {
      "cell_type": "code",
      "execution_count": null,
      "metadata": {
        "colab": {
          "background_save": true
        },
        "id": "_csqHOyzYi-T",
        "outputId": "2d3fba44-6e82-4d8c-b5ac-f58bec8cd43b"
      },
      "outputs": [
        {
          "name": "stdout",
          "output_type": "stream",
          "text": [
            "MAE according to the baseline is : 0.05322660908871031\n"
          ]
        }
      ],
      "source": [
        "y_test_xG = xG_values.values[test_indices]\n",
        "MAE = abs(xG_predictions-y_test_xG).mean()\n",
        "print(f\"MAE according to the baseline is : {MAE}\")"
      ],
      "id": "_csqHOyzYi-T"
    },
    {
      "cell_type": "code",
      "execution_count": null,
      "metadata": {
        "colab": {
          "background_save": true
        },
        "id": "pfS1QZ1QYi-U",
        "outputId": "9cefb944-8c8a-4bec-f755-d9ee05842a23"
      },
      "outputs": [
        {
          "name": "stdout",
          "output_type": "stream",
          "text": [
            "Test Set Accuracy is : 0.8999416268928339\n",
            "Test Set Precision is : 0.7719950433705081\n",
            "Test Set Recall is : 0.09940960587202809\n",
            "Test Set Area Under ROC is : 0.5479348573810784\n",
            "Test Set False Positive Rate is : 0.0035398911098712942\n",
            "Test Set Specificity is : 0.9964601088901287\n"
          ]
        }
      ],
      "source": [
        "conf_matrix = confusion_matrix(y_pred=y_pred, y_true=y_test)\n",
        "\n",
        "test_acc = accuracy_score(y_pred=y_pred, y_true=y_test)\n",
        "print(f\"Test Set Accuracy is : {test_acc}\")\n",
        "\n",
        "test_prec = precision_score(y_pred=y_pred, y_true=y_test)\n",
        "print(f\"Test Set Precision is : {test_prec}\")\n",
        "\n",
        "test_recall = recall_score(y_pred=y_pred, y_true=y_test)\n",
        "print(f\"Test Set Recall is : {test_recall}\")\n",
        "\n",
        "test_roc_auc = roc_auc_score(y_test,y_pred)\n",
        "print(f\"Test Set Area Under ROC is : {test_roc_auc}\")\n",
        "\n",
        "test_fp_rate = conf_matrix[0][1]/(conf_matrix[0][0]+conf_matrix[0][1])\n",
        "print(f\"Test Set False Positive Rate is : {test_fp_rate}\")\n",
        "\n",
        "test_specificity = conf_matrix[0][0]/(conf_matrix[0][0]+conf_matrix[0][1])\n",
        "print(f\"Test Set Specificity is : {test_specificity}\")"
      ],
      "id": "pfS1QZ1QYi-U"
    },
    {
      "cell_type": "code",
      "execution_count": 17,
      "metadata": {
        "id": "kOoWcbdKYoRt",
        "colab": {
          "base_uri": "https://localhost:8080/"
        },
        "outputId": "d8cd008a-beb3-44e2-9bb7-cb9bc2121131"
      },
      "outputs": [
        {
          "output_type": "stream",
          "name": "stdout",
          "text": [
            "Device used : cuda\n",
            "epoch 0  | loss: 0.47145 | train_auc: 0.43508 | valid_auc: 0.43252 |  0:00:05s\n",
            "epoch 5  | loss: 0.28529 | train_auc: 0.50358 | valid_auc: 0.50841 |  0:00:28s\n",
            "epoch 10 | loss: 0.27977 | train_auc: 0.62498 | valid_auc: 0.62577 |  0:00:52s\n",
            "epoch 15 | loss: 0.27548 | train_auc: 0.65826 | valid_auc: 0.65712 |  0:01:14s\n",
            "epoch 20 | loss: 0.27364 | train_auc: 0.66683 | valid_auc: 0.66452 |  0:01:38s\n",
            "epoch 25 | loss: 0.27264 | train_auc: 0.71319 | valid_auc: 0.71093 |  0:02:01s\n",
            "epoch 30 | loss: 0.27248 | train_auc: 0.71532 | valid_auc: 0.71239 |  0:02:24s\n",
            "epoch 35 | loss: 0.27228 | train_auc: 0.73005 | valid_auc: 0.72722 |  0:02:47s\n",
            "epoch 40 | loss: 0.27146 | train_auc: 0.77633 | valid_auc: 0.77402 |  0:03:11s\n",
            "epoch 45 | loss: 0.27075 | train_auc: 0.78908 | valid_auc: 0.7867  |  0:03:35s\n",
            "epoch 50 | loss: 0.27065 | train_auc: 0.79465 | valid_auc: 0.79222 |  0:03:58s\n",
            "epoch 55 | loss: 0.27054 | train_auc: 0.805   | valid_auc: 0.8019  |  0:04:21s\n",
            "epoch 60 | loss: 0.27012 | train_auc: 0.80626 | valid_auc: 0.80331 |  0:04:46s\n",
            "epoch 65 | loss: 0.26997 | train_auc: 0.80724 | valid_auc: 0.80417 |  0:05:09s\n",
            "epoch 70 | loss: 0.27062 | train_auc: 0.80704 | valid_auc: 0.80407 |  0:05:32s\n",
            "epoch 75 | loss: 0.26998 | train_auc: 0.80771 | valid_auc: 0.80383 |  0:05:55s\n",
            "epoch 80 | loss: 0.26966 | train_auc: 0.80826 | valid_auc: 0.80472 |  0:06:18s\n",
            "epoch 85 | loss: 0.26919 | train_auc: 0.80893 | valid_auc: 0.80609 |  0:06:41s\n",
            "epoch 90 | loss: 0.26966 | train_auc: 0.80849 | valid_auc: 0.8035  |  0:07:04s\n",
            "epoch 95 | loss: 0.27013 | train_auc: 0.80656 | valid_auc: 0.80196 |  0:07:28s\n",
            "Stop training because you reached max_epochs = 100 with best_epoch = 84 and best_valid_auc = 0.80688\n",
            "Best weights from best epoch are automatically used!\n",
            "Device used : cuda\n",
            "epoch 0  | loss: 1.06918 | train_auc: 0.43999 | valid_auc: 0.4356  |  0:00:10s\n",
            "epoch 5  | loss: 0.27979 | train_auc: 0.58108 | valid_auc: 0.5786  |  0:01:05s\n",
            "epoch 10 | loss: 0.27505 | train_auc: 0.61337 | valid_auc: 0.60683 |  0:02:02s\n",
            "epoch 15 | loss: 0.27423 | train_auc: 0.64498 | valid_auc: 0.64171 |  0:02:57s\n",
            "epoch 20 | loss: 0.27443 | train_auc: 0.67813 | valid_auc: 0.67375 |  0:03:51s\n",
            "epoch 25 | loss: 0.27637 | train_auc: 0.70756 | valid_auc: 0.70726 |  0:04:46s\n",
            "epoch 30 | loss: 0.27817 | train_auc: 0.73647 | valid_auc: 0.73392 |  0:05:41s\n",
            "epoch 35 | loss: 0.2744  | train_auc: 0.76168 | valid_auc: 0.76162 |  0:06:36s\n",
            "epoch 40 | loss: 0.27367 | train_auc: 0.77354 | valid_auc: 0.77035 |  0:07:31s\n",
            "epoch 45 | loss: 0.27511 | train_auc: 0.78784 | valid_auc: 0.78681 |  0:08:26s\n",
            "epoch 50 | loss: 0.27458 | train_auc: 0.79482 | valid_auc: 0.79153 |  0:09:21s\n",
            "epoch 55 | loss: 0.27292 | train_auc: 0.7981  | valid_auc: 0.7954  |  0:10:16s\n",
            "epoch 60 | loss: 0.27171 | train_auc: 0.80088 | valid_auc: 0.79719 |  0:11:12s\n",
            "epoch 65 | loss: 0.27595 | train_auc: 0.7969  | valid_auc: 0.79472 |  0:12:07s\n",
            "epoch 70 | loss: 0.27497 | train_auc: 0.7995  | valid_auc: 0.79684 |  0:13:01s\n",
            "epoch 75 | loss: 0.27242 | train_auc: 0.80222 | valid_auc: 0.79858 |  0:13:56s\n",
            "epoch 80 | loss: 0.27474 | train_auc: 0.79831 | valid_auc: 0.79717 |  0:14:50s\n",
            "epoch 85 | loss: 0.27197 | train_auc: 0.80372 | valid_auc: 0.80118 |  0:15:46s\n",
            "epoch 90 | loss: 0.27411 | train_auc: 0.79661 | valid_auc: 0.79318 |  0:16:40s\n",
            "epoch 95 | loss: 0.27231 | train_auc: 0.80374 | valid_auc: 0.80194 |  0:17:35s\n",
            "Stop training because you reached max_epochs = 100 with best_epoch = 86 and best_valid_auc = 0.80252\n",
            "Best weights from best epoch are automatically used!\n",
            "Device used : cuda\n",
            "epoch 0  | loss: 0.54514 | train_auc: 0.54134 | valid_auc: 0.54407 |  0:00:09s\n",
            "epoch 5  | loss: 0.28416 | train_auc: 0.45726 | valid_auc: 0.45493 |  0:01:00s\n",
            "epoch 10 | loss: 0.2769  | train_auc: 0.5898  | valid_auc: 0.59262 |  0:01:51s\n",
            "epoch 15 | loss: 0.27745 | train_auc: 0.64738 | valid_auc: 0.64534 |  0:02:41s\n",
            "epoch 20 | loss: 0.275   | train_auc: 0.64481 | valid_auc: 0.64109 |  0:03:31s\n",
            "epoch 25 | loss: 0.27402 | train_auc: 0.67876 | valid_auc: 0.67641 |  0:04:22s\n",
            "epoch 30 | loss: 0.27478 | train_auc: 0.71685 | valid_auc: 0.71412 |  0:05:12s\n",
            "epoch 35 | loss: 0.27429 | train_auc: 0.75015 | valid_auc: 0.74599 |  0:06:04s\n",
            "epoch 40 | loss: 0.27307 | train_auc: 0.75365 | valid_auc: 0.74877 |  0:06:54s\n",
            "epoch 45 | loss: 0.27163 | train_auc: 0.786   | valid_auc: 0.78333 |  0:07:45s\n",
            "epoch 50 | loss: 0.27279 | train_auc: 0.79219 | valid_auc: 0.79091 |  0:08:36s\n",
            "epoch 55 | loss: 0.27225 | train_auc: 0.79886 | valid_auc: 0.79616 |  0:09:26s\n",
            "epoch 60 | loss: 0.27425 | train_auc: 0.79686 | valid_auc: 0.79601 |  0:10:17s\n",
            "epoch 65 | loss: 0.2768  | train_auc: 0.79424 | valid_auc: 0.79187 |  0:11:09s\n",
            "epoch 70 | loss: 0.27742 | train_auc: 0.7876  | valid_auc: 0.78286 |  0:12:00s\n",
            "epoch 75 | loss: 0.27563 | train_auc: 0.79869 | valid_auc: 0.79674 |  0:12:51s\n",
            "epoch 80 | loss: 0.27581 | train_auc: 0.78884 | valid_auc: 0.78786 |  0:13:41s\n",
            "epoch 85 | loss: 0.27931 | train_auc: 0.7908  | valid_auc: 0.78742 |  0:14:32s\n",
            "epoch 90 | loss: 0.27919 | train_auc: 0.79304 | valid_auc: 0.79262 |  0:15:23s\n",
            "epoch 95 | loss: 0.27613 | train_auc: 0.79788 | valid_auc: 0.79735 |  0:16:14s\n",
            "Stop training because you reached max_epochs = 100 with best_epoch = 97 and best_valid_auc = 0.79963\n",
            "Best weights from best epoch are automatically used!\n",
            "Device used : cuda\n",
            "epoch 0  | loss: 0.74826 | train_auc: 0.51871 | valid_auc: 0.52249 |  0:00:06s\n",
            "epoch 5  | loss: 0.27973 | train_auc: 0.55524 | valid_auc: 0.54956 |  0:00:39s\n",
            "epoch 10 | loss: 0.27596 | train_auc: 0.55788 | valid_auc: 0.55531 |  0:01:12s\n",
            "epoch 15 | loss: 0.27909 | train_auc: 0.6226  | valid_auc: 0.62162 |  0:01:46s\n",
            "epoch 20 | loss: 0.27705 | train_auc: 0.64028 | valid_auc: 0.63913 |  0:02:18s\n",
            "epoch 25 | loss: 0.27703 | train_auc: 0.66946 | valid_auc: 0.6716  |  0:02:52s\n",
            "epoch 30 | loss: 0.2755  | train_auc: 0.70742 | valid_auc: 0.70615 |  0:03:26s\n",
            "epoch 35 | loss: 0.27576 | train_auc: 0.71602 | valid_auc: 0.71179 |  0:03:59s\n",
            "epoch 40 | loss: 0.27415 | train_auc: 0.76759 | valid_auc: 0.76267 |  0:04:32s\n",
            "epoch 45 | loss: 0.27519 | train_auc: 0.776   | valid_auc: 0.77252 |  0:05:05s\n",
            "epoch 50 | loss: 0.27349 | train_auc: 0.78672 | valid_auc: 0.78294 |  0:05:38s\n",
            "epoch 55 | loss: 0.27309 | train_auc: 0.795   | valid_auc: 0.78995 |  0:06:11s\n",
            "epoch 60 | loss: 0.27241 | train_auc: 0.79889 | valid_auc: 0.793   |  0:06:44s\n",
            "epoch 65 | loss: 0.27364 | train_auc: 0.79568 | valid_auc: 0.79157 |  0:07:17s\n",
            "epoch 70 | loss: 0.27235 | train_auc: 0.79897 | valid_auc: 0.79543 |  0:07:51s\n",
            "epoch 75 | loss: 0.27201 | train_auc: 0.80266 | valid_auc: 0.79818 |  0:08:23s\n",
            "epoch 80 | loss: 0.27022 | train_auc: 0.80443 | valid_auc: 0.79962 |  0:08:56s\n",
            "epoch 85 | loss: 0.27206 | train_auc: 0.80197 | valid_auc: 0.79827 |  0:09:28s\n",
            "epoch 90 | loss: 0.27213 | train_auc: 0.80357 | valid_auc: 0.79973 |  0:10:01s\n",
            "epoch 95 | loss: 0.27126 | train_auc: 0.80471 | valid_auc: 0.80127 |  0:10:34s\n",
            "Stop training because you reached max_epochs = 100 with best_epoch = 99 and best_valid_auc = 0.80233\n",
            "Best weights from best epoch are automatically used!\n",
            "Device used : cuda\n",
            "epoch 0  | loss: 0.46627 | train_auc: 0.46725 | valid_auc: 0.46703 |  0:00:08s\n",
            "epoch 5  | loss: 0.27935 | train_auc: 0.56295 | valid_auc: 0.56407 |  0:00:49s\n",
            "epoch 10 | loss: 0.27991 | train_auc: 0.54339 | valid_auc: 0.54808 |  0:01:32s\n",
            "epoch 15 | loss: 0.27929 | train_auc: 0.6666  | valid_auc: 0.66858 |  0:02:13s\n",
            "epoch 20 | loss: 0.27777 | train_auc: 0.67732 | valid_auc: 0.67332 |  0:02:55s\n",
            "epoch 25 | loss: 0.27744 | train_auc: 0.68461 | valid_auc: 0.6839  |  0:03:36s\n",
            "epoch 30 | loss: 0.27476 | train_auc: 0.71725 | valid_auc: 0.71446 |  0:04:17s\n",
            "epoch 35 | loss: 0.27536 | train_auc: 0.74949 | valid_auc: 0.74664 |  0:04:59s\n",
            "epoch 40 | loss: 0.27443 | train_auc: 0.7743  | valid_auc: 0.77066 |  0:05:40s\n",
            "epoch 45 | loss: 0.27832 | train_auc: 0.78133 | valid_auc: 0.78096 |  0:06:22s\n",
            "epoch 50 | loss: 0.2806  | train_auc: 0.78043 | valid_auc: 0.7783  |  0:07:03s\n",
            "epoch 55 | loss: 0.27443 | train_auc: 0.79763 | valid_auc: 0.79402 |  0:07:45s\n",
            "epoch 60 | loss: 0.27861 | train_auc: 0.78874 | valid_auc: 0.7894  |  0:08:26s\n",
            "epoch 65 | loss: 0.27968 | train_auc: 0.79235 | valid_auc: 0.78958 |  0:09:07s\n",
            "epoch 70 | loss: 0.27787 | train_auc: 0.7936  | valid_auc: 0.79307 |  0:09:48s\n",
            "epoch 75 | loss: 0.2754  | train_auc: 0.79533 | valid_auc: 0.79234 |  0:10:29s\n",
            "epoch 80 | loss: 0.27861 | train_auc: 0.79458 | valid_auc: 0.7923  |  0:11:11s\n",
            "epoch 85 | loss: 0.27289 | train_auc: 0.79959 | valid_auc: 0.79744 |  0:11:52s\n",
            "epoch 90 | loss: 0.27398 | train_auc: 0.80101 | valid_auc: 0.79902 |  0:12:34s\n",
            "epoch 95 | loss: 0.27395 | train_auc: 0.80002 | valid_auc: 0.79888 |  0:13:15s\n",
            "Stop training because you reached max_epochs = 100 with best_epoch = 91 and best_valid_auc = 0.79935\n",
            "Best weights from best epoch are automatically used!\n",
            "Device used : cuda\n",
            "epoch 0  | loss: 0.79418 | train_auc: 0.47276 | valid_auc: 0.4697  |  0:00:10s\n",
            "epoch 5  | loss: 0.27611 | train_auc: 0.59079 | valid_auc: 0.5899  |  0:01:05s\n",
            "epoch 10 | loss: 0.274   | train_auc: 0.60581 | valid_auc: 0.6027  |  0:02:01s\n",
            "epoch 15 | loss: 0.2734  | train_auc: 0.64446 | valid_auc: 0.64066 |  0:02:56s\n",
            "epoch 20 | loss: 0.27197 | train_auc: 0.65387 | valid_auc: 0.65267 |  0:03:51s\n",
            "epoch 25 | loss: 0.27156 | train_auc: 0.68237 | valid_auc: 0.67844 |  0:04:45s\n",
            "epoch 30 | loss: 0.27156 | train_auc: 0.71583 | valid_auc: 0.71091 |  0:05:40s\n",
            "epoch 35 | loss: 0.27072 | train_auc: 0.74743 | valid_auc: 0.74289 |  0:06:35s\n",
            "epoch 40 | loss: 0.27104 | train_auc: 0.76554 | valid_auc: 0.75995 |  0:07:30s\n",
            "epoch 45 | loss: 0.27002 | train_auc: 0.79054 | valid_auc: 0.7836  |  0:08:26s\n",
            "epoch 50 | loss: 0.27089 | train_auc: 0.8054  | valid_auc: 0.79846 |  0:09:22s\n",
            "epoch 55 | loss: 0.27048 | train_auc: 0.80556 | valid_auc: 0.79868 |  0:10:17s\n",
            "epoch 60 | loss: 0.27072 | train_auc: 0.81325 | valid_auc: 0.80648 |  0:11:12s\n",
            "epoch 65 | loss: 0.26986 | train_auc: 0.81306 | valid_auc: 0.80465 |  0:12:07s\n",
            "epoch 70 | loss: 0.27004 | train_auc: 0.81219 | valid_auc: 0.80511 |  0:13:02s\n",
            "epoch 75 | loss: 0.27237 | train_auc: 0.81078 | valid_auc: 0.80379 |  0:13:56s\n",
            "epoch 80 | loss: 0.27067 | train_auc: 0.81402 | valid_auc: 0.80755 |  0:14:51s\n",
            "epoch 85 | loss: 0.27021 | train_auc: 0.8142  | valid_auc: 0.80764 |  0:15:46s\n",
            "epoch 90 | loss: 0.27069 | train_auc: 0.81393 | valid_auc: 0.8066  |  0:16:42s\n",
            "epoch 95 | loss: 0.26939 | train_auc: 0.81551 | valid_auc: 0.80711 |  0:17:36s\n",
            "Stop training because you reached max_epochs = 100 with best_epoch = 81 and best_valid_auc = 0.80832\n",
            "Best weights from best epoch are automatically used!\n",
            "Device used : cuda\n",
            "epoch 0  | loss: 0.80406 | train_auc: 0.55884 | valid_auc: 0.56137 |  0:00:11s\n",
            "epoch 5  | loss: 0.28641 | train_auc: 0.48043 | valid_auc: 0.47975 |  0:01:10s\n",
            "epoch 10 | loss: 0.27813 | train_auc: 0.54796 | valid_auc: 0.54708 |  0:02:09s\n",
            "epoch 15 | loss: 0.28439 | train_auc: 0.62384 | valid_auc: 0.62372 |  0:03:09s\n",
            "epoch 20 | loss: 0.28298 | train_auc: 0.67695 | valid_auc: 0.6773  |  0:04:09s\n",
            "epoch 25 | loss: 0.28029 | train_auc: 0.70047 | valid_auc: 0.69846 |  0:05:08s\n",
            "epoch 30 | loss: 0.28246 | train_auc: 0.69754 | valid_auc: 0.69753 |  0:06:08s\n",
            "epoch 35 | loss: 0.27949 | train_auc: 0.7395  | valid_auc: 0.73581 |  0:07:07s\n",
            "epoch 40 | loss: 0.27792 | train_auc: 0.7694  | valid_auc: 0.76581 |  0:08:08s\n",
            "epoch 45 | loss: 0.27956 | train_auc: 0.77923 | valid_auc: 0.77555 |  0:09:07s\n",
            "epoch 50 | loss: 0.27497 | train_auc: 0.78771 | valid_auc: 0.7852  |  0:10:06s\n",
            "epoch 55 | loss: 0.27747 | train_auc: 0.78956 | valid_auc: 0.78742 |  0:11:05s\n",
            "epoch 60 | loss: 0.27552 | train_auc: 0.79777 | valid_auc: 0.7956  |  0:12:04s\n",
            "epoch 65 | loss: 0.27431 | train_auc: 0.79891 | valid_auc: 0.7972  |  0:13:04s\n",
            "epoch 70 | loss: 0.27238 | train_auc: 0.80264 | valid_auc: 0.80005 |  0:14:03s\n",
            "epoch 75 | loss: 0.27244 | train_auc: 0.80432 | valid_auc: 0.80088 |  0:15:02s\n",
            "epoch 80 | loss: 0.27321 | train_auc: 0.80243 | valid_auc: 0.80024 |  0:16:02s\n",
            "epoch 85 | loss: 0.27315 | train_auc: 0.8021  | valid_auc: 0.79906 |  0:17:01s\n",
            "epoch 90 | loss: 0.27236 | train_auc: 0.80426 | valid_auc: 0.80122 |  0:18:01s\n",
            "epoch 95 | loss: 0.2727  | train_auc: 0.8045  | valid_auc: 0.80213 |  0:19:00s\n",
            "Stop training because you reached max_epochs = 100 with best_epoch = 97 and best_valid_auc = 0.80289\n",
            "Best weights from best epoch are automatically used!\n",
            "Device used : cuda\n",
            "epoch 0  | loss: 0.47264 | train_auc: 0.54969 | valid_auc: 0.54437 |  0:00:08s\n",
            "epoch 5  | loss: 0.275   | train_auc: 0.59566 | valid_auc: 0.59383 |  0:00:48s\n",
            "epoch 10 | loss: 0.27268 | train_auc: 0.62721 | valid_auc: 0.62691 |  0:01:29s\n",
            "epoch 15 | loss: 0.27122 | train_auc: 0.64053 | valid_auc: 0.63916 |  0:02:09s\n",
            "epoch 20 | loss: 0.2716  | train_auc: 0.66798 | valid_auc: 0.66547 |  0:02:51s\n",
            "epoch 25 | loss: 0.27112 | train_auc: 0.69222 | valid_auc: 0.68817 |  0:03:31s\n",
            "epoch 30 | loss: 0.27009 | train_auc: 0.71798 | valid_auc: 0.71379 |  0:04:11s\n",
            "epoch 35 | loss: 0.26942 | train_auc: 0.74798 | valid_auc: 0.74388 |  0:04:52s\n",
            "epoch 40 | loss: 0.26892 | train_auc: 0.77695 | valid_auc: 0.77196 |  0:05:32s\n",
            "epoch 45 | loss: 0.26943 | train_auc: 0.79072 | valid_auc: 0.78603 |  0:06:12s\n",
            "epoch 50 | loss: 0.26914 | train_auc: 0.80402 | valid_auc: 0.79843 |  0:06:53s\n",
            "epoch 55 | loss: 0.26908 | train_auc: 0.80737 | valid_auc: 0.80139 |  0:07:34s\n",
            "epoch 60 | loss: 0.26896 | train_auc: 0.81265 | valid_auc: 0.8064  |  0:08:15s\n",
            "epoch 65 | loss: 0.26842 | train_auc: 0.81333 | valid_auc: 0.80611 |  0:08:55s\n",
            "epoch 70 | loss: 0.26836 | train_auc: 0.8154  | valid_auc: 0.80856 |  0:09:36s\n",
            "epoch 75 | loss: 0.26811 | train_auc: 0.81506 | valid_auc: 0.8083  |  0:10:16s\n",
            "epoch 80 | loss: 0.26813 | train_auc: 0.81593 | valid_auc: 0.8087  |  0:10:56s\n",
            "epoch 85 | loss: 0.26783 | train_auc: 0.81631 | valid_auc: 0.8078  |  0:11:36s\n",
            "epoch 90 | loss: 0.26773 | train_auc: 0.81659 | valid_auc: 0.80803 |  0:12:17s\n",
            "epoch 95 | loss: 0.26744 | train_auc: 0.81673 | valid_auc: 0.80791 |  0:12:58s\n",
            "Stop training because you reached max_epochs = 100 with best_epoch = 83 and best_valid_auc = 0.80937\n",
            "Best weights from best epoch are automatically used!\n",
            "Device used : cuda\n",
            "epoch 0  | loss: 0.4173  | train_auc: 0.59659 | valid_auc: 0.59918 |  0:00:04s\n",
            "epoch 5  | loss: 0.27998 | train_auc: 0.5734  | valid_auc: 0.56956 |  0:00:26s\n",
            "epoch 10 | loss: 0.27626 | train_auc: 0.62422 | valid_auc: 0.6208  |  0:00:47s\n",
            "epoch 15 | loss: 0.2741  | train_auc: 0.67133 | valid_auc: 0.66825 |  0:01:10s\n",
            "epoch 20 | loss: 0.27206 | train_auc: 0.70565 | valid_auc: 0.70236 |  0:01:32s\n",
            "epoch 25 | loss: 0.27223 | train_auc: 0.72684 | valid_auc: 0.72455 |  0:01:53s\n",
            "epoch 30 | loss: 0.27097 | train_auc: 0.73863 | valid_auc: 0.73547 |  0:02:15s\n",
            "epoch 35 | loss: 0.27074 | train_auc: 0.76007 | valid_auc: 0.75621 |  0:02:37s\n",
            "epoch 40 | loss: 0.2707  | train_auc: 0.78185 | valid_auc: 0.77802 |  0:02:59s\n",
            "epoch 45 | loss: 0.27122 | train_auc: 0.78447 | valid_auc: 0.78159 |  0:03:21s\n",
            "epoch 50 | loss: 0.27073 | train_auc: 0.79823 | valid_auc: 0.79356 |  0:03:43s\n",
            "epoch 55 | loss: 0.26979 | train_auc: 0.80438 | valid_auc: 0.80016 |  0:04:06s\n",
            "epoch 60 | loss: 0.27    | train_auc: 0.80707 | valid_auc: 0.80281 |  0:04:29s\n",
            "epoch 65 | loss: 0.27015 | train_auc: 0.80803 | valid_auc: 0.80511 |  0:04:52s\n",
            "epoch 70 | loss: 0.27    | train_auc: 0.80796 | valid_auc: 0.80543 |  0:05:14s\n",
            "epoch 75 | loss: 0.27033 | train_auc: 0.8084  | valid_auc: 0.80526 |  0:05:36s\n",
            "epoch 80 | loss: 0.26906 | train_auc: 0.8097  | valid_auc: 0.8066  |  0:05:58s\n",
            "epoch 85 | loss: 0.26953 | train_auc: 0.80937 | valid_auc: 0.80598 |  0:06:20s\n",
            "epoch 90 | loss: 0.26875 | train_auc: 0.81041 | valid_auc: 0.80714 |  0:06:41s\n",
            "epoch 95 | loss: 0.26856 | train_auc: 0.81041 | valid_auc: 0.80658 |  0:07:03s\n",
            "Stop training because you reached max_epochs = 100 with best_epoch = 96 and best_valid_auc = 0.80716\n",
            "Best weights from best epoch are automatically used!\n",
            "Device used : cuda\n",
            "epoch 0  | loss: 0.4262  | train_auc: 0.42234 | valid_auc: 0.4236  |  0:00:09s\n",
            "epoch 5  | loss: 0.28915 | train_auc: 0.55945 | valid_auc: 0.5626  |  0:01:00s\n",
            "epoch 10 | loss: 0.28262 | train_auc: 0.55425 | valid_auc: 0.55816 |  0:01:50s\n",
            "epoch 15 | loss: 0.27789 | train_auc: 0.60203 | valid_auc: 0.6041  |  0:02:40s\n",
            "epoch 20 | loss: 0.27736 | train_auc: 0.63873 | valid_auc: 0.64101 |  0:03:30s\n",
            "epoch 25 | loss: 0.27686 | train_auc: 0.67959 | valid_auc: 0.67998 |  0:04:19s\n",
            "epoch 30 | loss: 0.27649 | train_auc: 0.69658 | valid_auc: 0.69472 |  0:05:10s\n",
            "epoch 35 | loss: 0.27579 | train_auc: 0.7356  | valid_auc: 0.73193 |  0:05:59s\n",
            "epoch 40 | loss: 0.27503 | train_auc: 0.745   | valid_auc: 0.74247 |  0:06:49s\n",
            "epoch 45 | loss: 0.27359 | train_auc: 0.78219 | valid_auc: 0.77876 |  0:07:40s\n",
            "epoch 50 | loss: 0.27348 | train_auc: 0.79263 | valid_auc: 0.78961 |  0:08:30s\n",
            "epoch 55 | loss: 0.27364 | train_auc: 0.79725 | valid_auc: 0.79288 |  0:09:20s\n",
            "epoch 60 | loss: 0.27431 | train_auc: 0.79722 | valid_auc: 0.79424 |  0:10:09s\n",
            "epoch 65 | loss: 0.27746 | train_auc: 0.79185 | valid_auc: 0.78766 |  0:10:59s\n",
            "epoch 70 | loss: 0.2769  | train_auc: 0.7944  | valid_auc: 0.79082 |  0:11:49s\n",
            "epoch 75 | loss: 0.27501 | train_auc: 0.79106 | valid_auc: 0.78595 |  0:12:39s\n",
            "epoch 80 | loss: 0.2751  | train_auc: 0.7977  | valid_auc: 0.79488 |  0:13:29s\n",
            "epoch 85 | loss: 0.27445 | train_auc: 0.79934 | valid_auc: 0.79627 |  0:14:18s\n",
            "epoch 90 | loss: 0.27417 | train_auc: 0.79898 | valid_auc: 0.79578 |  0:15:07s\n",
            "epoch 95 | loss: 0.27397 | train_auc: 0.80062 | valid_auc: 0.79749 |  0:15:56s\n",
            "Stop training because you reached max_epochs = 100 with best_epoch = 94 and best_valid_auc = 0.79753\n",
            "Best weights from best epoch are automatically used!\n",
            "100%|██████████| 10/10 [2:24:16<00:00, 865.67s/it, best loss: -0.18573480134035425]\n"
          ]
        }
      ],
      "source": [
        "from hyperopt import fmin, tpe, hp, STATUS_OK, Trials, space_eval\n",
        "\n",
        "max_epochs = 100\n",
        "\n",
        "def objective(params):\n",
        "  clf = TabNetClassifier(\n",
        "      n_d = params[\"n_d\"],\n",
        "      n_a = params[\"n_d\"],\n",
        "      n_steps = params[\"n_steps\"],\n",
        "      gamma = params[\"gamma\"],\n",
        "      n_independent = params[\"n_independent\"], \n",
        "      n_shared = params[\"n_shared\"],\n",
        "      momentum = params[\"momentum\"],\n",
        "      clip_value = params[\"clip_value\"],\n",
        "      lambda_sparse = params[\"lambda_sparse\"],\n",
        "      optimizer_fn = torch.optim.Adam, optimizer_params = dict(lr=2e-2), \n",
        "      scheduler_fn = torch.optim.lr_scheduler.StepLR, \n",
        "      scheduler_params = {'gamma' : 0.95, 'step_size': 100},\n",
        "      device_name = \"cuda\",\n",
        "      verbose = 5\n",
        "      )\n",
        "\n",
        "  clf.fit(\n",
        "    X_train=X_train, y_train=y_train,\n",
        "    eval_set=[(X_train, y_train), (X_valid, y_valid)],\n",
        "    eval_name=['train', 'valid'],\n",
        "    max_epochs=max_epochs, patience=70,\n",
        "    batch_size=16384, virtual_batch_size=256,\n",
        "    )\n",
        "  predictions = clf.predict_proba(X_test)\n",
        "  preds_mapper = { idx : class_name for idx, class_name in enumerate(clf.classes_)}\n",
        "  y_pred = np.vectorize(preds_mapper.get)(np.argmax(predictions, axis=1))\n",
        "  return {'loss': -recall_score(y_test, y_pred), 'status': STATUS_OK}\n",
        "\n",
        "space = {\n",
        "  'n_d': hp.choice('n_d', [8,16,32,64]),\n",
        "  'n_steps': hp.choice('n_steps', range(3,11)),\n",
        "  'gamma': hp.quniform('gamma', 1., 2., 0.1),\n",
        "  'n_independent': hp.choice('n_independent', range(1,6)),\n",
        "  'n_shared': hp.choice('n_shared', range(1,6)),\n",
        "  'momentum': hp.uniform('momentum ', 0.01, 0.4),\n",
        "  'clip_value': hp.uniform('clip_value ', 1., 10.),\n",
        "  'lambda_sparse': hp.uniform('lambda_sparse', 1e-5, 1e-2)\n",
        "  } #space of hyperparameters that we are tuning\n",
        "\n",
        "trials = Trials()\n",
        "best = fmin(objective, space, algo=tpe.suggest, max_evals=10, trials=trials)"
      ],
      "id": "kOoWcbdKYoRt"
    },
    {
      "cell_type": "code",
      "execution_count": 18,
      "metadata": {
        "id": "Ec6vfIc9YoRv",
        "colab": {
          "base_uri": "https://localhost:8080/"
        },
        "outputId": "069342be-49c6-4626-9dd7-6edbdb513db4"
      },
      "outputs": [
        {
          "output_type": "stream",
          "name": "stdout",
          "text": [
            "Best Parameters : {'clip_value': 2.004246412700432, 'gamma': 1.9000000000000001, 'lambda_sparse': 0.00395555294559826, 'momentum': 0.21624999693816632, 'n_d': 32, 'n_independent': 2, 'n_shared': 2, 'n_steps': 7}\n"
          ]
        }
      ],
      "source": [
        "parameters = space_eval(space, best)\n",
        "\n",
        "print(f\"Best Parameters : {parameters}\")"
      ],
      "id": "Ec6vfIc9YoRv"
    },
    {
      "cell_type": "code",
      "execution_count": 19,
      "metadata": {
        "id": "WNeSUV2ZYoRw",
        "colab": {
          "base_uri": "https://localhost:8080/"
        },
        "outputId": "12fcbbc5-96e7-4798-999a-3de36d815bb6"
      },
      "outputs": [
        {
          "output_type": "stream",
          "name": "stdout",
          "text": [
            "Device used : cuda\n",
            "epoch 0  | loss: 0.74826 | train_auc: 0.51871 | valid_auc: 0.52249 |  0:00:06s\n",
            "epoch 5  | loss: 0.27973 | train_auc: 0.55524 | valid_auc: 0.54956 |  0:00:39s\n",
            "epoch 10 | loss: 0.27596 | train_auc: 0.55788 | valid_auc: 0.55531 |  0:01:13s\n",
            "epoch 15 | loss: 0.27909 | train_auc: 0.6226  | valid_auc: 0.62162 |  0:01:46s\n",
            "epoch 20 | loss: 0.27705 | train_auc: 0.64028 | valid_auc: 0.63913 |  0:02:19s\n",
            "epoch 25 | loss: 0.27703 | train_auc: 0.66946 | valid_auc: 0.6716  |  0:02:52s\n",
            "epoch 30 | loss: 0.2755  | train_auc: 0.70742 | valid_auc: 0.70615 |  0:03:26s\n",
            "epoch 35 | loss: 0.27576 | train_auc: 0.71602 | valid_auc: 0.71179 |  0:03:59s\n",
            "epoch 40 | loss: 0.27415 | train_auc: 0.76759 | valid_auc: 0.76267 |  0:04:32s\n",
            "epoch 45 | loss: 0.27519 | train_auc: 0.776   | valid_auc: 0.77252 |  0:05:05s\n",
            "epoch 50 | loss: 0.27349 | train_auc: 0.78672 | valid_auc: 0.78294 |  0:05:38s\n",
            "epoch 55 | loss: 0.27309 | train_auc: 0.795   | valid_auc: 0.78995 |  0:06:12s\n",
            "epoch 60 | loss: 0.27241 | train_auc: 0.79889 | valid_auc: 0.793   |  0:06:45s\n",
            "epoch 65 | loss: 0.27364 | train_auc: 0.79568 | valid_auc: 0.79157 |  0:07:18s\n",
            "epoch 70 | loss: 0.27235 | train_auc: 0.79897 | valid_auc: 0.79543 |  0:07:51s\n",
            "epoch 75 | loss: 0.27201 | train_auc: 0.80266 | valid_auc: 0.79818 |  0:08:24s\n",
            "epoch 80 | loss: 0.27022 | train_auc: 0.80443 | valid_auc: 0.79962 |  0:08:58s\n",
            "epoch 85 | loss: 0.27206 | train_auc: 0.80197 | valid_auc: 0.79827 |  0:09:31s\n",
            "epoch 90 | loss: 0.27213 | train_auc: 0.80357 | valid_auc: 0.79973 |  0:10:04s\n",
            "epoch 95 | loss: 0.27126 | train_auc: 0.80471 | valid_auc: 0.80127 |  0:10:37s\n",
            "epoch 100| loss: 0.26997 | train_auc: 0.806   | valid_auc: 0.80138 |  0:11:10s\n",
            "epoch 105| loss: 0.27042 | train_auc: 0.80321 | valid_auc: 0.79964 |  0:11:45s\n",
            "epoch 110| loss: 0.27048 | train_auc: 0.8011  | valid_auc: 0.79781 |  0:12:18s\n",
            "epoch 115| loss: 0.27025 | train_auc: 0.80521 | valid_auc: 0.80149 |  0:12:51s\n",
            "epoch 120| loss: 0.26954 | train_auc: 0.80711 | valid_auc: 0.80312 |  0:13:24s\n",
            "epoch 125| loss: 0.2699  | train_auc: 0.80593 | valid_auc: 0.80221 |  0:13:57s\n",
            "epoch 130| loss: 0.26937 | train_auc: 0.80677 | valid_auc: 0.80276 |  0:14:30s\n",
            "epoch 135| loss: 0.26922 | train_auc: 0.80544 | valid_auc: 0.80165 |  0:15:03s\n",
            "epoch 140| loss: 0.26984 | train_auc: 0.80267 | valid_auc: 0.79836 |  0:15:36s\n",
            "epoch 145| loss: 0.28306 | train_auc: 0.78495 | valid_auc: 0.78205 |  0:16:10s\n",
            "epoch 150| loss: 0.28896 | train_auc: 0.76077 | valid_auc: 0.75809 |  0:16:44s\n",
            "epoch 155| loss: 0.27623 | train_auc: 0.79982 | valid_auc: 0.7954  |  0:17:17s\n",
            "epoch 160| loss: 0.27496 | train_auc: 0.79063 | valid_auc: 0.78708 |  0:17:50s\n",
            "epoch 165| loss: 0.27527 | train_auc: 0.79652 | valid_auc: 0.7941  |  0:18:23s\n",
            "epoch 170| loss: 0.27585 | train_auc: 0.79738 | valid_auc: 0.79643 |  0:18:56s\n",
            "epoch 175| loss: 0.27339 | train_auc: 0.79842 | valid_auc: 0.79557 |  0:19:29s\n",
            "epoch 180| loss: 0.2739  | train_auc: 0.80016 | valid_auc: 0.79726 |  0:20:02s\n",
            "epoch 185| loss: 0.2708  | train_auc: 0.80589 | valid_auc: 0.80274 |  0:20:36s\n",
            "epoch 190| loss: 0.27029 | train_auc: 0.80657 | valid_auc: 0.80269 |  0:21:09s\n",
            "epoch 195| loss: 0.27036 | train_auc: 0.80569 | valid_auc: 0.80303 |  0:21:42s\n",
            "Stop training because you reached max_epochs = 200 with best_epoch = 136 and best_valid_auc = 0.80466\n",
            "Best weights from best epoch are automatically used!\n"
          ]
        }
      ],
      "source": [
        "max_epochs = 200\n",
        "\n",
        "clf = TabNetClassifier(\n",
        "      n_d = parameters[\"n_d\"],\n",
        "      n_a = parameters[\"n_d\"],\n",
        "      n_steps = parameters[\"n_steps\"],\n",
        "      gamma = parameters[\"gamma\"],\n",
        "      n_independent = parameters[\"n_independent\"], \n",
        "      n_shared = parameters[\"n_shared\"],\n",
        "      momentum = parameters[\"momentum\"],\n",
        "      clip_value = parameters[\"clip_value\"],\n",
        "      lambda_sparse = parameters[\"lambda_sparse\"],\n",
        "      optimizer_fn = torch.optim.Adam, optimizer_params = dict(lr=2e-2), \n",
        "      scheduler_fn = torch.optim.lr_scheduler.StepLR, \n",
        "      scheduler_params = {'gamma' : 0.95, 'step_size': 100},\n",
        "      device_name = \"cuda\",\n",
        "      verbose = 5\n",
        "      )\n",
        "\n",
        "clf.fit(\n",
        "    X_train=X_train, y_train=y_train,\n",
        "    eval_set=[(X_train, y_train), (X_valid, y_valid)],\n",
        "    eval_name=['train', 'valid'],\n",
        "    max_epochs=max_epochs, patience=70,\n",
        "    batch_size=16384, virtual_batch_size=256,\n",
        "    )"
      ],
      "id": "WNeSUV2ZYoRw"
    },
    {
      "cell_type": "code",
      "execution_count": 20,
      "metadata": {
        "id": "rbV5zKy8YoRx"
      },
      "outputs": [],
      "source": [
        "predictions = clf.predict_proba(X_test)\n",
        "preds_mapper = { idx : class_name for idx, class_name in enumerate(clf.classes_)}\n",
        "y_pred = np.vectorize(preds_mapper.get)(np.argmax(predictions, axis=1)) #y_pred only contains 0 or 1\n",
        "\n",
        "xG_predictions = predictions[:,1] #x_G contains values between 0 and 1"
      ],
      "id": "rbV5zKy8YoRx"
    },
    {
      "cell_type": "code",
      "execution_count": 21,
      "metadata": {
        "id": "Ik95cQqEYoRy",
        "colab": {
          "base_uri": "https://localhost:8080/"
        },
        "outputId": "be0f9816-f337-4f11-a8c8-7f07ff59ee1d"
      },
      "outputs": [
        {
          "output_type": "stream",
          "name": "stdout",
          "text": [
            "MAE according to the baseline is : 0.04570388513351045\n"
          ]
        }
      ],
      "source": [
        "y_test_xG = xG_values.values[test_indices]\n",
        "MAE = abs(xG_predictions-y_test_xG).mean()\n",
        "print(f\"MAE according to the baseline is : {MAE}\")"
      ],
      "id": "Ik95cQqEYoRy"
    },
    {
      "cell_type": "code",
      "execution_count": 22,
      "metadata": {
        "id": "rqjH_mhCYoRz",
        "colab": {
          "base_uri": "https://localhost:8080/"
        },
        "outputId": "4259524d-4181-4218-baa5-3b8f31206337"
      },
      "outputs": [
        {
          "output_type": "stream",
          "name": "stdout",
          "text": [
            "Test Set Accuracy is : 0.9032723277134911\n",
            "Test Set Precision is : 0.6708041014570966\n",
            "Test Set Recall is : 0.19834051380245732\n",
            "Test Set Area Under ROC is : 0.5933025026158443\n",
            "Test Set False Positive Rate is : 0.011735508570768964\n",
            "Test Set Specificity is : 0.988264491429231\n"
          ]
        }
      ],
      "source": [
        "conf_matrix = confusion_matrix(y_pred=y_pred, y_true=y_test)\n",
        "\n",
        "test_acc = accuracy_score(y_pred=y_pred, y_true=y_test)\n",
        "print(f\"Test Set Accuracy is : {test_acc}\")\n",
        "\n",
        "test_prec = precision_score(y_pred=y_pred, y_true=y_test)\n",
        "print(f\"Test Set Precision is : {test_prec}\")\n",
        "\n",
        "test_recall = recall_score(y_pred=y_pred, y_true=y_test)\n",
        "print(f\"Test Set Recall is : {test_recall}\")\n",
        "\n",
        "test_roc_auc = roc_auc_score(y_test,y_pred)\n",
        "print(f\"Test Set Area Under ROC is : {test_roc_auc}\")\n",
        "\n",
        "test_fp_rate = conf_matrix[0][1]/(conf_matrix[0][0]+conf_matrix[0][1])\n",
        "print(f\"Test Set False Positive Rate is : {test_fp_rate}\")\n",
        "\n",
        "test_specificity = conf_matrix[0][0]/(conf_matrix[0][0]+conf_matrix[0][1])\n",
        "print(f\"Test Set Specificity is : {test_specificity}\")"
      ],
      "id": "rqjH_mhCYoRz"
    },
    {
      "cell_type": "markdown",
      "source": [
        "Hyperparameter tuning did not become successfull, the reason may be we can not try a lot of possiblities. The use of a lighter model can be more successful, it deserves a try."
      ],
      "metadata": {
        "id": "s7S1sGi6Oj5v"
      },
      "id": "s7S1sGi6Oj5v"
    }
  ],
  "metadata": {
    "accelerator": "GPU",
    "colab": {
      "collapsed_sections": [],
      "name": "xG_prediction_with_TabNet.ipynb",
      "provenance": []
    },
    "gpuClass": "standard",
    "kernelspec": {
      "display_name": "Python 3",
      "language": "python",
      "name": "python3"
    },
    "language_info": {
      "codemirror_mode": {
        "name": "ipython",
        "version": 3
      },
      "file_extension": ".py",
      "mimetype": "text/x-python",
      "name": "python",
      "nbconvert_exporter": "python",
      "pygments_lexer": "ipython3",
      "version": "3.7.9"
    }
  },
  "nbformat": 4,
  "nbformat_minor": 5
}